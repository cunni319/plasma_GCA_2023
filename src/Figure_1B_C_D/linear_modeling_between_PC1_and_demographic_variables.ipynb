{
 "cells": [
  {
   "cell_type": "markdown",
   "id": "705f65fe-940b-4a9b-b594-cf91f58214f8",
   "metadata": {},
   "source": [
    "This script uses the quantile normalized data to do PCA analysis. The PC1 values for all three study groups are saved for linear modeling. Linear regression models were constructed between clinical and demographic variables for all three study groups. This includes the Study group, age, prednisone use, BMI, aspirin use, sex, PGA, Smoking status, and CRP. Each clinical and demographic variable had an individual linear regression model constructed. The P-value and the R2 for the variable of interest are saved to make a lollipop plot with the length of the line representing the linear regression model P-value and the size of the point representing the R2 value."
   ]
  },
  {
   "cell_type": "code",
   "execution_count": null,
   "id": "64c82201-5d82-492e-a39e-f52768c3f620",
   "metadata": {},
   "outputs": [],
   "source": [
    "library(\"magrittr\")\n",
    "library(\"dplyr\")\n",
    "library(\"ggplot2\")\n",
    "library(\"stats\")\n",
    "library(\"ggfortify\")\n",
    "library(\"ggpubr\")\n",
    "library(\"RColorBrewer\")\n",
    "\n",
    "#read in the proteomics data and the patient demographics data\n",
    "#vasculitis_df <- read.csv(\"../../data/vasculitis_patients_final.csv\")\n",
    "vasculitis_demographics_df <- read.csv(\"../../data/vasculitis_patient_info.csv\")\n",
    "\n",
    "active_crp = read.csv(\"../../data/Active_GCA_CRP_levels.csv\")\n",
    "inactive_crp = read.csv(\"../../data/Inactive_GCA_CRP_levels.csv\")\n",
    "\n",
    "#read in all quantile data\n",
    "all_quantile_df = read.csv(\"../../data/all_quantile_data.csv\")\n",
    "#head(all_quantile_df)\n",
    "#get the number of columns and rows \n",
    "num_columns <- ncol(all_quantile_df)\n",
    "num_proteins <- ncol(all_quantile_df) - 3\n",
    "num_samples <- nrow(all_quantile_df)\n",
    "\n",
    "\n",
    "#filter only active gca patients\n",
    "active_df <- filter(all_quantile_df,all_quantile_df$Study_group == \"Active\")\n",
    "active_demographics_df <- filter(vasculitis_demographics_df,vasculitis_demographics_df$Study_group == \"Active\")\n",
    "active_proteins_only <- active_df[,4:num_columns]\n",
    "\n",
    "#filter inactive gca patients\n",
    "inactive_df = filter(all_quantile_df,all_quantile_df$Study_group == \"Inactive\")\n",
    "inactive_demographics_df <- filter(vasculitis_demographics_df,vasculitis_demographics_df$Study_group == \"Inactive\")\n",
    "inactive_proteins_only <- inactive_df[,4:num_columns]\n",
    "\n",
    "#read in controls data\n",
    "controls_demographics_df <- read.csv(\"../../data/controls_demographics.csv\")\n",
    "controls_df <- filter(all_quantile_df,all_quantile_df$Study_group == \"Healthy_Control\")\n",
    "controls_proteins_only <- controls_df[,4:num_columns]\n",
    "\n",
    "proteins_only <- data.frame(active_df[ ,4:num_columns])\n",
    "#seperate the protein names for the linear model\n",
    "protein_names <- data.frame(matrix(data=0,nrow=num_proteins,ncol=1))\n",
    "colnames(protein_names) <- \"Protein\"\n",
    "protein_names[ , 1] <- data.frame(colnames(proteins_only))\n",
    "#protein_names\n"
   ]
  },
  {
   "cell_type": "code",
   "execution_count": 4,
   "id": "12671f4d-7f92-4027-810c-9a08f4f7e123",
   "metadata": {},
   "outputs": [
    {
     "data": {
      "text/html": [
       "<style>\n",
       ".list-inline {list-style: none; margin:0; padding: 0}\n",
       ".list-inline>li {display: inline-block}\n",
       ".list-inline>li:not(:last-child)::after {content: \"\\00b7\"; padding: 0 .5ex}\n",
       "</style>\n",
       "<ol class=list-inline><li>TRUE</li><li>TRUE</li><li>TRUE</li><li>TRUE</li><li>TRUE</li><li>TRUE</li><li>TRUE</li><li>TRUE</li><li>TRUE</li><li>TRUE</li><li>TRUE</li><li>TRUE</li><li>TRUE</li><li>TRUE</li><li>TRUE</li><li>TRUE</li><li>TRUE</li><li>TRUE</li><li>TRUE</li><li>TRUE</li><li>TRUE</li><li>TRUE</li><li>TRUE</li><li>TRUE</li><li>TRUE</li><li>TRUE</li><li>TRUE</li><li>TRUE</li><li>TRUE</li><li>TRUE</li></ol>\n"
      ],
      "text/latex": [
       "\\begin{enumerate*}\n",
       "\\item TRUE\n",
       "\\item TRUE\n",
       "\\item TRUE\n",
       "\\item TRUE\n",
       "\\item TRUE\n",
       "\\item TRUE\n",
       "\\item TRUE\n",
       "\\item TRUE\n",
       "\\item TRUE\n",
       "\\item TRUE\n",
       "\\item TRUE\n",
       "\\item TRUE\n",
       "\\item TRUE\n",
       "\\item TRUE\n",
       "\\item TRUE\n",
       "\\item TRUE\n",
       "\\item TRUE\n",
       "\\item TRUE\n",
       "\\item TRUE\n",
       "\\item TRUE\n",
       "\\item TRUE\n",
       "\\item TRUE\n",
       "\\item TRUE\n",
       "\\item TRUE\n",
       "\\item TRUE\n",
       "\\item TRUE\n",
       "\\item TRUE\n",
       "\\item TRUE\n",
       "\\item TRUE\n",
       "\\item TRUE\n",
       "\\end{enumerate*}\n"
      ],
      "text/markdown": [
       "1. TRUE\n",
       "2. TRUE\n",
       "3. TRUE\n",
       "4. TRUE\n",
       "5. TRUE\n",
       "6. TRUE\n",
       "7. TRUE\n",
       "8. TRUE\n",
       "9. TRUE\n",
       "10. TRUE\n",
       "11. TRUE\n",
       "12. TRUE\n",
       "13. TRUE\n",
       "14. TRUE\n",
       "15. TRUE\n",
       "16. TRUE\n",
       "17. TRUE\n",
       "18. TRUE\n",
       "19. TRUE\n",
       "20. TRUE\n",
       "21. TRUE\n",
       "22. TRUE\n",
       "23. TRUE\n",
       "24. TRUE\n",
       "25. TRUE\n",
       "26. TRUE\n",
       "27. TRUE\n",
       "28. TRUE\n",
       "29. TRUE\n",
       "30. TRUE\n",
       "\n",
       "\n"
      ],
      "text/plain": [
       " [1] TRUE TRUE TRUE TRUE TRUE TRUE TRUE TRUE TRUE TRUE TRUE TRUE TRUE TRUE TRUE\n",
       "[16] TRUE TRUE TRUE TRUE TRUE TRUE TRUE TRUE TRUE TRUE TRUE TRUE TRUE TRUE TRUE"
      ]
     },
     "metadata": {},
     "output_type": "display_data"
    },
    {
     "data": {
      "text/html": [
       "<style>\n",
       ".list-inline {list-style: none; margin:0; padding: 0}\n",
       ".list-inline>li {display: inline-block}\n",
       ".list-inline>li:not(:last-child)::after {content: \"\\00b7\"; padding: 0 .5ex}\n",
       "</style>\n",
       "<ol class=list-inline><li>TRUE</li><li>TRUE</li><li>TRUE</li><li>TRUE</li><li>TRUE</li><li>TRUE</li><li>TRUE</li><li>TRUE</li><li>TRUE</li><li>TRUE</li><li>TRUE</li><li>TRUE</li><li>TRUE</li><li>TRUE</li><li>TRUE</li><li>TRUE</li><li>TRUE</li><li>TRUE</li><li>TRUE</li><li>TRUE</li><li>TRUE</li><li>TRUE</li><li>TRUE</li><li>TRUE</li><li>TRUE</li><li>TRUE</li><li>TRUE</li><li>TRUE</li><li>TRUE</li><li>TRUE</li></ol>\n"
      ],
      "text/latex": [
       "\\begin{enumerate*}\n",
       "\\item TRUE\n",
       "\\item TRUE\n",
       "\\item TRUE\n",
       "\\item TRUE\n",
       "\\item TRUE\n",
       "\\item TRUE\n",
       "\\item TRUE\n",
       "\\item TRUE\n",
       "\\item TRUE\n",
       "\\item TRUE\n",
       "\\item TRUE\n",
       "\\item TRUE\n",
       "\\item TRUE\n",
       "\\item TRUE\n",
       "\\item TRUE\n",
       "\\item TRUE\n",
       "\\item TRUE\n",
       "\\item TRUE\n",
       "\\item TRUE\n",
       "\\item TRUE\n",
       "\\item TRUE\n",
       "\\item TRUE\n",
       "\\item TRUE\n",
       "\\item TRUE\n",
       "\\item TRUE\n",
       "\\item TRUE\n",
       "\\item TRUE\n",
       "\\item TRUE\n",
       "\\item TRUE\n",
       "\\item TRUE\n",
       "\\end{enumerate*}\n"
      ],
      "text/markdown": [
       "1. TRUE\n",
       "2. TRUE\n",
       "3. TRUE\n",
       "4. TRUE\n",
       "5. TRUE\n",
       "6. TRUE\n",
       "7. TRUE\n",
       "8. TRUE\n",
       "9. TRUE\n",
       "10. TRUE\n",
       "11. TRUE\n",
       "12. TRUE\n",
       "13. TRUE\n",
       "14. TRUE\n",
       "15. TRUE\n",
       "16. TRUE\n",
       "17. TRUE\n",
       "18. TRUE\n",
       "19. TRUE\n",
       "20. TRUE\n",
       "21. TRUE\n",
       "22. TRUE\n",
       "23. TRUE\n",
       "24. TRUE\n",
       "25. TRUE\n",
       "26. TRUE\n",
       "27. TRUE\n",
       "28. TRUE\n",
       "29. TRUE\n",
       "30. TRUE\n",
       "\n",
       "\n"
      ],
      "text/plain": [
       " [1] TRUE TRUE TRUE TRUE TRUE TRUE TRUE TRUE TRUE TRUE TRUE TRUE TRUE TRUE TRUE\n",
       "[16] TRUE TRUE TRUE TRUE TRUE TRUE TRUE TRUE TRUE TRUE TRUE TRUE TRUE TRUE TRUE"
      ]
     },
     "metadata": {},
     "output_type": "display_data"
    },
    {
     "data": {
      "text/html": [
       "<style>\n",
       ".list-inline {list-style: none; margin:0; padding: 0}\n",
       ".list-inline>li {display: inline-block}\n",
       ".list-inline>li:not(:last-child)::after {content: \"\\00b7\"; padding: 0 .5ex}\n",
       "</style>\n",
       "<ol class=list-inline><li>TRUE</li><li>TRUE</li><li>TRUE</li><li>TRUE</li><li>TRUE</li><li>TRUE</li><li>TRUE</li><li>TRUE</li><li>TRUE</li><li>TRUE</li><li>TRUE</li><li>TRUE</li><li>TRUE</li><li>TRUE</li><li>TRUE</li><li>TRUE</li><li>TRUE</li><li>TRUE</li><li>TRUE</li><li>TRUE</li><li>TRUE</li><li>TRUE</li><li>TRUE</li><li>TRUE</li><li>TRUE</li><li>TRUE</li><li>TRUE</li><li>TRUE</li><li>TRUE</li><li>TRUE</li></ol>\n"
      ],
      "text/latex": [
       "\\begin{enumerate*}\n",
       "\\item TRUE\n",
       "\\item TRUE\n",
       "\\item TRUE\n",
       "\\item TRUE\n",
       "\\item TRUE\n",
       "\\item TRUE\n",
       "\\item TRUE\n",
       "\\item TRUE\n",
       "\\item TRUE\n",
       "\\item TRUE\n",
       "\\item TRUE\n",
       "\\item TRUE\n",
       "\\item TRUE\n",
       "\\item TRUE\n",
       "\\item TRUE\n",
       "\\item TRUE\n",
       "\\item TRUE\n",
       "\\item TRUE\n",
       "\\item TRUE\n",
       "\\item TRUE\n",
       "\\item TRUE\n",
       "\\item TRUE\n",
       "\\item TRUE\n",
       "\\item TRUE\n",
       "\\item TRUE\n",
       "\\item TRUE\n",
       "\\item TRUE\n",
       "\\item TRUE\n",
       "\\item TRUE\n",
       "\\item TRUE\n",
       "\\end{enumerate*}\n"
      ],
      "text/markdown": [
       "1. TRUE\n",
       "2. TRUE\n",
       "3. TRUE\n",
       "4. TRUE\n",
       "5. TRUE\n",
       "6. TRUE\n",
       "7. TRUE\n",
       "8. TRUE\n",
       "9. TRUE\n",
       "10. TRUE\n",
       "11. TRUE\n",
       "12. TRUE\n",
       "13. TRUE\n",
       "14. TRUE\n",
       "15. TRUE\n",
       "16. TRUE\n",
       "17. TRUE\n",
       "18. TRUE\n",
       "19. TRUE\n",
       "20. TRUE\n",
       "21. TRUE\n",
       "22. TRUE\n",
       "23. TRUE\n",
       "24. TRUE\n",
       "25. TRUE\n",
       "26. TRUE\n",
       "27. TRUE\n",
       "28. TRUE\n",
       "29. TRUE\n",
       "30. TRUE\n",
       "\n",
       "\n"
      ],
      "text/plain": [
       " [1] TRUE TRUE TRUE TRUE TRUE TRUE TRUE TRUE TRUE TRUE TRUE TRUE TRUE TRUE TRUE\n",
       "[16] TRUE TRUE TRUE TRUE TRUE TRUE TRUE TRUE TRUE TRUE TRUE TRUE TRUE TRUE TRUE"
      ]
     },
     "metadata": {},
     "output_type": "display_data"
    },
    {
     "data": {
      "text/html": [
       "<style>\n",
       ".list-inline {list-style: none; margin:0; padding: 0}\n",
       ".list-inline>li {display: inline-block}\n",
       ".list-inline>li:not(:last-child)::after {content: \"\\00b7\"; padding: 0 .5ex}\n",
       "</style>\n",
       "<ol class=list-inline><li>TRUE</li><li>TRUE</li><li>TRUE</li><li>TRUE</li><li>TRUE</li><li>TRUE</li><li>TRUE</li><li>TRUE</li><li>TRUE</li><li>TRUE</li><li>TRUE</li><li>TRUE</li><li>TRUE</li><li>TRUE</li><li>TRUE</li><li>TRUE</li><li>TRUE</li><li>TRUE</li><li>TRUE</li><li>TRUE</li><li>TRUE</li><li>TRUE</li><li>TRUE</li><li>TRUE</li><li>TRUE</li><li>TRUE</li><li>TRUE</li><li>TRUE</li><li>TRUE</li><li>TRUE</li></ol>\n"
      ],
      "text/latex": [
       "\\begin{enumerate*}\n",
       "\\item TRUE\n",
       "\\item TRUE\n",
       "\\item TRUE\n",
       "\\item TRUE\n",
       "\\item TRUE\n",
       "\\item TRUE\n",
       "\\item TRUE\n",
       "\\item TRUE\n",
       "\\item TRUE\n",
       "\\item TRUE\n",
       "\\item TRUE\n",
       "\\item TRUE\n",
       "\\item TRUE\n",
       "\\item TRUE\n",
       "\\item TRUE\n",
       "\\item TRUE\n",
       "\\item TRUE\n",
       "\\item TRUE\n",
       "\\item TRUE\n",
       "\\item TRUE\n",
       "\\item TRUE\n",
       "\\item TRUE\n",
       "\\item TRUE\n",
       "\\item TRUE\n",
       "\\item TRUE\n",
       "\\item TRUE\n",
       "\\item TRUE\n",
       "\\item TRUE\n",
       "\\item TRUE\n",
       "\\item TRUE\n",
       "\\end{enumerate*}\n"
      ],
      "text/markdown": [
       "1. TRUE\n",
       "2. TRUE\n",
       "3. TRUE\n",
       "4. TRUE\n",
       "5. TRUE\n",
       "6. TRUE\n",
       "7. TRUE\n",
       "8. TRUE\n",
       "9. TRUE\n",
       "10. TRUE\n",
       "11. TRUE\n",
       "12. TRUE\n",
       "13. TRUE\n",
       "14. TRUE\n",
       "15. TRUE\n",
       "16. TRUE\n",
       "17. TRUE\n",
       "18. TRUE\n",
       "19. TRUE\n",
       "20. TRUE\n",
       "21. TRUE\n",
       "22. TRUE\n",
       "23. TRUE\n",
       "24. TRUE\n",
       "25. TRUE\n",
       "26. TRUE\n",
       "27. TRUE\n",
       "28. TRUE\n",
       "29. TRUE\n",
       "30. TRUE\n",
       "\n",
       "\n"
      ],
      "text/plain": [
       " [1] TRUE TRUE TRUE TRUE TRUE TRUE TRUE TRUE TRUE TRUE TRUE TRUE TRUE TRUE TRUE\n",
       "[16] TRUE TRUE TRUE TRUE TRUE TRUE TRUE TRUE TRUE TRUE TRUE TRUE TRUE TRUE TRUE"
      ]
     },
     "metadata": {},
     "output_type": "display_data"
    },
    {
     "data": {
      "text/html": [
       "<style>\n",
       ".list-inline {list-style: none; margin:0; padding: 0}\n",
       ".list-inline>li {display: inline-block}\n",
       ".list-inline>li:not(:last-child)::after {content: \"\\00b7\"; padding: 0 .5ex}\n",
       "</style>\n",
       "<ol class=list-inline><li>TRUE</li><li>TRUE</li><li>TRUE</li><li>TRUE</li><li>TRUE</li><li>TRUE</li><li>TRUE</li><li>TRUE</li><li>TRUE</li><li>TRUE</li><li>TRUE</li><li>TRUE</li><li>TRUE</li><li>TRUE</li><li>TRUE</li><li>TRUE</li><li>TRUE</li><li>TRUE</li><li>TRUE</li><li>TRUE</li><li>TRUE</li><li>TRUE</li><li>TRUE</li><li>TRUE</li><li>TRUE</li><li>TRUE</li><li>TRUE</li><li>TRUE</li><li>TRUE</li><li>TRUE</li></ol>\n"
      ],
      "text/latex": [
       "\\begin{enumerate*}\n",
       "\\item TRUE\n",
       "\\item TRUE\n",
       "\\item TRUE\n",
       "\\item TRUE\n",
       "\\item TRUE\n",
       "\\item TRUE\n",
       "\\item TRUE\n",
       "\\item TRUE\n",
       "\\item TRUE\n",
       "\\item TRUE\n",
       "\\item TRUE\n",
       "\\item TRUE\n",
       "\\item TRUE\n",
       "\\item TRUE\n",
       "\\item TRUE\n",
       "\\item TRUE\n",
       "\\item TRUE\n",
       "\\item TRUE\n",
       "\\item TRUE\n",
       "\\item TRUE\n",
       "\\item TRUE\n",
       "\\item TRUE\n",
       "\\item TRUE\n",
       "\\item TRUE\n",
       "\\item TRUE\n",
       "\\item TRUE\n",
       "\\item TRUE\n",
       "\\item TRUE\n",
       "\\item TRUE\n",
       "\\item TRUE\n",
       "\\end{enumerate*}\n"
      ],
      "text/markdown": [
       "1. TRUE\n",
       "2. TRUE\n",
       "3. TRUE\n",
       "4. TRUE\n",
       "5. TRUE\n",
       "6. TRUE\n",
       "7. TRUE\n",
       "8. TRUE\n",
       "9. TRUE\n",
       "10. TRUE\n",
       "11. TRUE\n",
       "12. TRUE\n",
       "13. TRUE\n",
       "14. TRUE\n",
       "15. TRUE\n",
       "16. TRUE\n",
       "17. TRUE\n",
       "18. TRUE\n",
       "19. TRUE\n",
       "20. TRUE\n",
       "21. TRUE\n",
       "22. TRUE\n",
       "23. TRUE\n",
       "24. TRUE\n",
       "25. TRUE\n",
       "26. TRUE\n",
       "27. TRUE\n",
       "28. TRUE\n",
       "29. TRUE\n",
       "30. TRUE\n",
       "\n",
       "\n"
      ],
      "text/plain": [
       " [1] TRUE TRUE TRUE TRUE TRUE TRUE TRUE TRUE TRUE TRUE TRUE TRUE TRUE TRUE TRUE\n",
       "[16] TRUE TRUE TRUE TRUE TRUE TRUE TRUE TRUE TRUE TRUE TRUE TRUE TRUE TRUE TRUE"
      ]
     },
     "metadata": {},
     "output_type": "display_data"
    }
   ],
   "source": [
    "#ordered_average_feature_of_importance = average_feature_of_importance[order(-average_feature_of_importance$Average_feature_of_importance),]\n",
    "active_df = active_df[order(active_df$maskID),]\n",
    "active_demographics_df = active_demographics_df[order(active_demographics_df$maskid),]\n",
    "active_df$maskID == active_demographics_df$maskid\n",
    "active_crp = active_crp[order(active_crp$maskid),]\n",
    "active_demographics_df$maskid == active_crp$maskid\n",
    "\n",
    "inactive_df = inactive_df[order(inactive_df$maskID),]\n",
    "inactive_demographics_df = inactive_demographics_df[order(inactive_demographics_df$maskid),]\n",
    "inactive_df$maskID == inactive_demographics_df$maskid\n",
    "inactive_crp = inactive_crp[order(inactive_crp$maskid),]\n",
    "inactive_demographics_df$maskid == inactive_crp$maskid\n",
    "\n",
    "controls_df = controls_df[order(controls_df$maskID),]\n",
    "controls_demographics_df = controls_demographics_df[order(controls_demographics_df$case_id),]\n",
    "controls_df$maskID == controls_demographics_df$case_id"
   ]
  },
  {
   "cell_type": "code",
   "execution_count": 5,
   "id": "cf7b5eb6-7a0d-4da9-80c6-8c61cc70e92c",
   "metadata": {},
   "outputs": [],
   "source": [
    "active_proteins_df = active_df[ , 4:num_columns]\n",
    "inactive_proteins_df = inactive_df[ , 4:num_columns]\n",
    "healthy_control_proteins_df <- controls_df[ , 4:num_columns]\n",
    "#View(healthy_control_proteins_df)\n",
    "only_proteins_df <- rbind(active_proteins_df,inactive_proteins_df, healthy_control_proteins_df)\n",
    "#View(only_proteins_df)\n",
    "\n",
    "pca1_vals <- prcomp(only_proteins_df, scale. = FALSE)\n",
    "\n",
    "all_samples_df <- rbind(active_df,inactive_df, controls_df)"
   ]
  },
  {
   "cell_type": "code",
   "execution_count": 6,
   "id": "35e97c9f-7233-44fc-aaad-0822e1797c45",
   "metadata": {
    "tags": []
   },
   "outputs": [
    {
     "data": {
      "text/html": [
       "<table class=\"dataframe\">\n",
       "<caption>A matrix: 6 × 90 of type dbl</caption>\n",
       "<thead>\n",
       "\t<tr><th></th><th scope=col>PC1</th><th scope=col>PC2</th><th scope=col>PC3</th><th scope=col>PC4</th><th scope=col>PC5</th><th scope=col>PC6</th><th scope=col>PC7</th><th scope=col>PC8</th><th scope=col>PC9</th><th scope=col>PC10</th><th scope=col>⋯</th><th scope=col>PC81</th><th scope=col>PC82</th><th scope=col>PC83</th><th scope=col>PC84</th><th scope=col>PC85</th><th scope=col>PC86</th><th scope=col>PC87</th><th scope=col>PC88</th><th scope=col>PC89</th><th scope=col>PC90</th></tr>\n",
       "</thead>\n",
       "<tbody>\n",
       "\t<tr><th scope=row>1</th><td>-254587.31</td><td> 84049.84</td><td> 64610.02</td><td>-37071.05</td><td>   5425.45</td><td>-117404.637</td><td> 67372.03</td><td> -32022.47</td><td> 29863.405</td><td>-16378.079</td><td>⋯</td><td>  1902.4189</td><td>16691.2949</td><td>-1399.718</td><td>-20596.57166</td><td> -5213.5200</td><td> 9016.6822</td><td>-9170.13995</td><td>-1015.307</td><td>4037.6360</td><td>7.344405e-10</td></tr>\n",
       "\t<tr><th scope=row>10</th><td>-464358.41</td><td>118076.65</td><td> 12371.91</td><td>-29819.17</td><td>  26846.66</td><td> 160691.207</td><td>-85018.76</td><td> 137156.07</td><td> 60775.996</td><td> 28428.530</td><td>⋯</td><td>   629.8678</td><td> 5974.8769</td><td>-1929.119</td><td>   -75.97926</td><td>   560.4185</td><td> -488.5286</td><td>   51.47088</td><td> 1539.869</td><td>1014.2679</td><td>2.501048e-10</td></tr>\n",
       "\t<tr><th scope=row>11</th><td> -72217.83</td><td>169422.49</td><td> 62833.50</td><td> 21883.52</td><td>-148310.88</td><td>  44270.334</td><td>-31082.66</td><td>  47973.32</td><td> -8859.366</td><td> 14897.962</td><td>⋯</td><td>  5110.9167</td><td>  290.9724</td><td> 1585.775</td><td>  2328.19598</td><td> -3162.9645</td><td>-3521.9216</td><td>  632.72969</td><td>-1216.996</td><td>-927.3832</td><td>4.027767e-10</td></tr>\n",
       "\t<tr><th scope=row>12</th><td>-448555.54</td><td> 87139.05</td><td> 18315.50</td><td>-36049.24</td><td>  20555.09</td><td>  92496.320</td><td> 39321.19</td><td> -69744.91</td><td> 51180.582</td><td> -1817.202</td><td>⋯</td><td> 24580.1935</td><td>13099.2674</td><td>22605.317</td><td> 16851.74115</td><td>-31697.3156</td><td>11303.5935</td><td>-6353.79983</td><td>-3588.629</td><td> 414.1108</td><td>3.076354e-10</td></tr>\n",
       "\t<tr><th scope=row>13</th><td> -76987.98</td><td>121618.46</td><td>-15724.28</td><td> 32897.52</td><td>-106610.65</td><td> -36328.429</td><td> 19510.75</td><td> -18270.52</td><td>-35195.255</td><td> 45045.299</td><td>⋯</td><td>-10388.7410</td><td> -340.8343</td><td>10389.208</td><td> -1855.23152</td><td>  7841.6334</td><td>38573.6492</td><td>-5812.32270</td><td> 2434.114</td><td>8037.2238</td><td>5.129284e-10</td></tr>\n",
       "\t<tr><th scope=row>14</th><td>-357669.87</td><td>-98476.57</td><td>-82094.49</td><td>109587.33</td><td>  27761.03</td><td>   8337.327</td><td> 18564.89</td><td>-112646.04</td><td>-47543.076</td><td>-52409.530</td><td>⋯</td><td>  2105.3601</td><td>-9686.5573</td><td> 6087.856</td><td>  3401.88878</td><td>  2591.8396</td><td> 4598.6846</td><td> 2300.32058</td><td> 1475.493</td><td>1427.1476</td><td>3.771562e-10</td></tr>\n",
       "</tbody>\n",
       "</table>\n"
      ],
      "text/latex": [
       "A matrix: 6 × 90 of type dbl\n",
       "\\begin{tabular}{r|lllllllllllllllllllll}\n",
       "  & PC1 & PC2 & PC3 & PC4 & PC5 & PC6 & PC7 & PC8 & PC9 & PC10 & ⋯ & PC81 & PC82 & PC83 & PC84 & PC85 & PC86 & PC87 & PC88 & PC89 & PC90\\\\\n",
       "\\hline\n",
       "\t1 & -254587.31 &  84049.84 &  64610.02 & -37071.05 &    5425.45 & -117404.637 &  67372.03 &  -32022.47 &  29863.405 & -16378.079 & ⋯ &   1902.4189 & 16691.2949 & -1399.718 & -20596.57166 &  -5213.5200 &  9016.6822 & -9170.13995 & -1015.307 & 4037.6360 & 7.344405e-10\\\\\n",
       "\t10 & -464358.41 & 118076.65 &  12371.91 & -29819.17 &   26846.66 &  160691.207 & -85018.76 &  137156.07 &  60775.996 &  28428.530 & ⋯ &    629.8678 &  5974.8769 & -1929.119 &    -75.97926 &    560.4185 &  -488.5286 &    51.47088 &  1539.869 & 1014.2679 & 2.501048e-10\\\\\n",
       "\t11 &  -72217.83 & 169422.49 &  62833.50 &  21883.52 & -148310.88 &   44270.334 & -31082.66 &   47973.32 &  -8859.366 &  14897.962 & ⋯ &   5110.9167 &   290.9724 &  1585.775 &   2328.19598 &  -3162.9645 & -3521.9216 &   632.72969 & -1216.996 & -927.3832 & 4.027767e-10\\\\\n",
       "\t12 & -448555.54 &  87139.05 &  18315.50 & -36049.24 &   20555.09 &   92496.320 &  39321.19 &  -69744.91 &  51180.582 &  -1817.202 & ⋯ &  24580.1935 & 13099.2674 & 22605.317 &  16851.74115 & -31697.3156 & 11303.5935 & -6353.79983 & -3588.629 &  414.1108 & 3.076354e-10\\\\\n",
       "\t13 &  -76987.98 & 121618.46 & -15724.28 &  32897.52 & -106610.65 &  -36328.429 &  19510.75 &  -18270.52 & -35195.255 &  45045.299 & ⋯ & -10388.7410 &  -340.8343 & 10389.208 &  -1855.23152 &   7841.6334 & 38573.6492 & -5812.32270 &  2434.114 & 8037.2238 & 5.129284e-10\\\\\n",
       "\t14 & -357669.87 & -98476.57 & -82094.49 & 109587.33 &   27761.03 &    8337.327 &  18564.89 & -112646.04 & -47543.076 & -52409.530 & ⋯ &   2105.3601 & -9686.5573 &  6087.856 &   3401.88878 &   2591.8396 &  4598.6846 &  2300.32058 &  1475.493 & 1427.1476 & 3.771562e-10\\\\\n",
       "\\end{tabular}\n"
      ],
      "text/markdown": [
       "\n",
       "A matrix: 6 × 90 of type dbl\n",
       "\n",
       "| <!--/--> | PC1 | PC2 | PC3 | PC4 | PC5 | PC6 | PC7 | PC8 | PC9 | PC10 | ⋯ | PC81 | PC82 | PC83 | PC84 | PC85 | PC86 | PC87 | PC88 | PC89 | PC90 |\n",
       "|---|---|---|---|---|---|---|---|---|---|---|---|---|---|---|---|---|---|---|---|---|---|\n",
       "| 1 | -254587.31 |  84049.84 |  64610.02 | -37071.05 |    5425.45 | -117404.637 |  67372.03 |  -32022.47 |  29863.405 | -16378.079 | ⋯ |   1902.4189 | 16691.2949 | -1399.718 | -20596.57166 |  -5213.5200 |  9016.6822 | -9170.13995 | -1015.307 | 4037.6360 | 7.344405e-10 |\n",
       "| 10 | -464358.41 | 118076.65 |  12371.91 | -29819.17 |   26846.66 |  160691.207 | -85018.76 |  137156.07 |  60775.996 |  28428.530 | ⋯ |    629.8678 |  5974.8769 | -1929.119 |    -75.97926 |    560.4185 |  -488.5286 |    51.47088 |  1539.869 | 1014.2679 | 2.501048e-10 |\n",
       "| 11 |  -72217.83 | 169422.49 |  62833.50 |  21883.52 | -148310.88 |   44270.334 | -31082.66 |   47973.32 |  -8859.366 |  14897.962 | ⋯ |   5110.9167 |   290.9724 |  1585.775 |   2328.19598 |  -3162.9645 | -3521.9216 |   632.72969 | -1216.996 | -927.3832 | 4.027767e-10 |\n",
       "| 12 | -448555.54 |  87139.05 |  18315.50 | -36049.24 |   20555.09 |   92496.320 |  39321.19 |  -69744.91 |  51180.582 |  -1817.202 | ⋯ |  24580.1935 | 13099.2674 | 22605.317 |  16851.74115 | -31697.3156 | 11303.5935 | -6353.79983 | -3588.629 |  414.1108 | 3.076354e-10 |\n",
       "| 13 |  -76987.98 | 121618.46 | -15724.28 |  32897.52 | -106610.65 |  -36328.429 |  19510.75 |  -18270.52 | -35195.255 |  45045.299 | ⋯ | -10388.7410 |  -340.8343 | 10389.208 |  -1855.23152 |   7841.6334 | 38573.6492 | -5812.32270 |  2434.114 | 8037.2238 | 5.129284e-10 |\n",
       "| 14 | -357669.87 | -98476.57 | -82094.49 | 109587.33 |   27761.03 |    8337.327 |  18564.89 | -112646.04 | -47543.076 | -52409.530 | ⋯ |   2105.3601 | -9686.5573 |  6087.856 |   3401.88878 |   2591.8396 |  4598.6846 |  2300.32058 |  1475.493 | 1427.1476 | 3.771562e-10 |\n",
       "\n"
      ],
      "text/plain": [
       "   PC1        PC2       PC3       PC4       PC5        PC6         PC7      \n",
       "1  -254587.31  84049.84  64610.02 -37071.05    5425.45 -117404.637  67372.03\n",
       "10 -464358.41 118076.65  12371.91 -29819.17   26846.66  160691.207 -85018.76\n",
       "11  -72217.83 169422.49  62833.50  21883.52 -148310.88   44270.334 -31082.66\n",
       "12 -448555.54  87139.05  18315.50 -36049.24   20555.09   92496.320  39321.19\n",
       "13  -76987.98 121618.46 -15724.28  32897.52 -106610.65  -36328.429  19510.75\n",
       "14 -357669.87 -98476.57 -82094.49 109587.33   27761.03    8337.327  18564.89\n",
       "   PC8        PC9        PC10       ⋯ PC81        PC82       PC83     \n",
       "1   -32022.47  29863.405 -16378.079 ⋯   1902.4189 16691.2949 -1399.718\n",
       "10  137156.07  60775.996  28428.530 ⋯    629.8678  5974.8769 -1929.119\n",
       "11   47973.32  -8859.366  14897.962 ⋯   5110.9167   290.9724  1585.775\n",
       "12  -69744.91  51180.582  -1817.202 ⋯  24580.1935 13099.2674 22605.317\n",
       "13  -18270.52 -35195.255  45045.299 ⋯ -10388.7410  -340.8343 10389.208\n",
       "14 -112646.04 -47543.076 -52409.530 ⋯   2105.3601 -9686.5573  6087.856\n",
       "   PC84         PC85        PC86       PC87        PC88      PC89     \n",
       "1  -20596.57166  -5213.5200  9016.6822 -9170.13995 -1015.307 4037.6360\n",
       "10    -75.97926    560.4185  -488.5286    51.47088  1539.869 1014.2679\n",
       "11   2328.19598  -3162.9645 -3521.9216   632.72969 -1216.996 -927.3832\n",
       "12  16851.74115 -31697.3156 11303.5935 -6353.79983 -3588.629  414.1108\n",
       "13  -1855.23152   7841.6334 38573.6492 -5812.32270  2434.114 8037.2238\n",
       "14   3401.88878   2591.8396  4598.6846  2300.32058  1475.493 1427.1476\n",
       "   PC90        \n",
       "1  7.344405e-10\n",
       "10 2.501048e-10\n",
       "11 4.027767e-10\n",
       "12 3.076354e-10\n",
       "13 5.129284e-10\n",
       "14 3.771562e-10"
      ]
     },
     "metadata": {},
     "output_type": "display_data"
    },
    {
     "data": {
      "text/html": [
       "<style>\n",
       ".list-inline {list-style: none; margin:0; padding: 0}\n",
       ".list-inline>li {display: inline-block}\n",
       ".list-inline>li:not(:last-child)::after {content: \"\\00b7\"; padding: 0 .5ex}\n",
       "</style>\n",
       "<ol class=list-inline><li>90</li><li>1</li></ol>\n"
      ],
      "text/latex": [
       "\\begin{enumerate*}\n",
       "\\item 90\n",
       "\\item 1\n",
       "\\end{enumerate*}\n"
      ],
      "text/markdown": [
       "1. 90\n",
       "2. 1\n",
       "\n",
       "\n"
      ],
      "text/plain": [
       "[1] 90  1"
      ]
     },
     "metadata": {},
     "output_type": "display_data"
    }
   ],
   "source": [
    "head(pca1_vals$x)\n",
    "all_PC1 = data.frame(pca1_vals$x[,1])\n",
    "dim(all_PC1)"
   ]
  },
  {
   "cell_type": "code",
   "execution_count": 7,
   "id": "b596172b-aac4-450a-97e1-c1d8b4f5255e",
   "metadata": {},
   "outputs": [],
   "source": [
    "#gather PC1 values\n",
    "active_pc1 = data.frame(all_PC1[1:30,])\n",
    "colnames(active_pc1) = \"PC1\"\n",
    "\n",
    "inactive_pc1 = data.frame(all_PC1[31:60,])\n",
    "colnames(inactive_pc1) = \"PC1\"\n",
    "\n",
    "control_pc1 = data.frame(all_PC1[61:90,])\n",
    "colnames(control_pc1) = \"PC1\"\n"
   ]
  },
  {
   "cell_type": "code",
   "execution_count": 8,
   "id": "bc7c70c6-8f0d-4564-acb0-8a8e76e98abe",
   "metadata": {},
   "outputs": [
    {
     "data": {
      "text/html": [
       "<table class=\"dataframe\">\n",
       "<caption>A data.frame: 10 × 5</caption>\n",
       "<thead>\n",
       "\t<tr><th scope=col>Variable</th><th scope=col>R_squared</th><th scope=col>P_value</th><th scope=col>n</th><th scope=col>Index</th></tr>\n",
       "\t<tr><th scope=col>&lt;chr&gt;</th><th scope=col>&lt;dbl&gt;</th><th scope=col>&lt;dbl&gt;</th><th scope=col>&lt;dbl&gt;</th><th scope=col>&lt;dbl&gt;</th></tr>\n",
       "</thead>\n",
       "<tbody>\n",
       "\t<tr><td>Age           </td><td>0</td><td>0</td><td>0</td><td>0</td></tr>\n",
       "\t<tr><td>Sex           </td><td>0</td><td>0</td><td>0</td><td>0</td></tr>\n",
       "\t<tr><td>BMI           </td><td>0</td><td>0</td><td>0</td><td>0</td></tr>\n",
       "\t<tr><td>Smoking       </td><td>0</td><td>0</td><td>0</td><td>0</td></tr>\n",
       "\t<tr><td>PGA           </td><td>0</td><td>0</td><td>0</td><td>0</td></tr>\n",
       "\t<tr><td>CRP           </td><td>0</td><td>0</td><td>0</td><td>0</td></tr>\n",
       "\t<tr><td>Prednisone_use</td><td>0</td><td>0</td><td>0</td><td>0</td></tr>\n",
       "\t<tr><td>Aspirin       </td><td>0</td><td>0</td><td>0</td><td>0</td></tr>\n",
       "\t<tr><td>Study_group   </td><td>0</td><td>0</td><td>0</td><td>0</td></tr>\n",
       "\t<tr><td>Methotrexate  </td><td>0</td><td>0</td><td>0</td><td>0</td></tr>\n",
       "</tbody>\n",
       "</table>\n"
      ],
      "text/latex": [
       "A data.frame: 10 × 5\n",
       "\\begin{tabular}{lllll}\n",
       " Variable & R\\_squared & P\\_value & n & Index\\\\\n",
       " <chr> & <dbl> & <dbl> & <dbl> & <dbl>\\\\\n",
       "\\hline\n",
       "\t Age            & 0 & 0 & 0 & 0\\\\\n",
       "\t Sex            & 0 & 0 & 0 & 0\\\\\n",
       "\t BMI            & 0 & 0 & 0 & 0\\\\\n",
       "\t Smoking        & 0 & 0 & 0 & 0\\\\\n",
       "\t PGA            & 0 & 0 & 0 & 0\\\\\n",
       "\t CRP            & 0 & 0 & 0 & 0\\\\\n",
       "\t Prednisone\\_use & 0 & 0 & 0 & 0\\\\\n",
       "\t Aspirin        & 0 & 0 & 0 & 0\\\\\n",
       "\t Study\\_group    & 0 & 0 & 0 & 0\\\\\n",
       "\t Methotrexate   & 0 & 0 & 0 & 0\\\\\n",
       "\\end{tabular}\n"
      ],
      "text/markdown": [
       "\n",
       "A data.frame: 10 × 5\n",
       "\n",
       "| Variable &lt;chr&gt; | R_squared &lt;dbl&gt; | P_value &lt;dbl&gt; | n &lt;dbl&gt; | Index &lt;dbl&gt; |\n",
       "|---|---|---|---|---|\n",
       "| Age            | 0 | 0 | 0 | 0 |\n",
       "| Sex            | 0 | 0 | 0 | 0 |\n",
       "| BMI            | 0 | 0 | 0 | 0 |\n",
       "| Smoking        | 0 | 0 | 0 | 0 |\n",
       "| PGA            | 0 | 0 | 0 | 0 |\n",
       "| CRP            | 0 | 0 | 0 | 0 |\n",
       "| Prednisone_use | 0 | 0 | 0 | 0 |\n",
       "| Aspirin        | 0 | 0 | 0 | 0 |\n",
       "| Study_group    | 0 | 0 | 0 | 0 |\n",
       "| Methotrexate   | 0 | 0 | 0 | 0 |\n",
       "\n"
      ],
      "text/plain": [
       "   Variable       R_squared P_value n Index\n",
       "1  Age            0         0       0 0    \n",
       "2  Sex            0         0       0 0    \n",
       "3  BMI            0         0       0 0    \n",
       "4  Smoking        0         0       0 0    \n",
       "5  PGA            0         0       0 0    \n",
       "6  CRP            0         0       0 0    \n",
       "7  Prednisone_use 0         0       0 0    \n",
       "8  Aspirin        0         0       0 0    \n",
       "9  Study_group    0         0       0 0    \n",
       "10 Methotrexate   0         0       0 0    "
      ]
     },
     "metadata": {},
     "output_type": "display_data"
    }
   ],
   "source": [
    "#make a dataframe to hold the results\n",
    "linear_models = data.frame(matrix(data = 0, nrow = 10, ncol = 5))\n",
    "colnames(linear_models) = cbind(\"Variable\",\"R_squared\",\"P_value\",\"n\",\"Index\")\n",
    "linear_models[1,1]  = \"Age\"\n",
    "linear_models[2,1]  = \"Sex\"\n",
    "linear_models[3,1]  = \"BMI\"\n",
    "linear_models[4,1]  = \"Smoking\"\n",
    "linear_models[5,1]  = \"PGA\"\n",
    "linear_models[6,1]  = \"CRP\"\n",
    "linear_models[7,1]  = \"Prednisone_use\"\n",
    "linear_models[8,1]  = \"Aspirin\"\n",
    "linear_models[9,1] = \"Study_group\"\n",
    "linear_models[10,1] = \"Methotrexate\"\n",
    "\n",
    "linear_models"
   ]
  },
  {
   "cell_type": "code",
   "execution_count": 9,
   "id": "1f47463c-7829-47f5-913b-db09ad35838f",
   "metadata": {},
   "outputs": [
    {
     "data": {
      "text/html": [
       "<style>\n",
       ".list-inline {list-style: none; margin:0; padding: 0}\n",
       ".list-inline>li {display: inline-block}\n",
       ".list-inline>li:not(:last-child)::after {content: \"\\00b7\"; padding: 0 .5ex}\n",
       "</style>\n",
       "<ol class=list-inline><li>90</li><li>3</li></ol>\n"
      ],
      "text/latex": [
       "\\begin{enumerate*}\n",
       "\\item 90\n",
       "\\item 3\n",
       "\\end{enumerate*}\n"
      ],
      "text/markdown": [
       "1. 90\n",
       "2. 3\n",
       "\n",
       "\n"
      ],
      "text/plain": [
       "[1] 90  3"
      ]
     },
     "metadata": {},
     "output_type": "display_data"
    },
    {
     "data": {
      "text/plain": [
       "\n",
       "Call:\n",
       "lm(formula = PC1 ~ Age, data = all_ages_and_PC1_df)\n",
       "\n",
       "Residuals:\n",
       "    Min      1Q  Median      3Q     Max \n",
       "-553030 -346053   66495  326446  585539 \n",
       "\n",
       "Coefficients:\n",
       "            Estimate Std. Error t value Pr(>|t|)  \n",
       "(Intercept)   626354     305214   2.052   0.0431 *\n",
       "Age            -8890       4299  -2.068   0.0416 *\n",
       "---\n",
       "Signif. codes:  0 ‘***’ 0.001 ‘**’ 0.01 ‘*’ 0.05 ‘.’ 0.1 ‘ ’ 1\n",
       "\n",
       "Residual standard error: 353400 on 88 degrees of freedom\n",
       "Multiple R-squared:  0.04633,\tAdjusted R-squared:  0.03549 \n",
       "F-statistic: 4.275 on 1 and 88 DF,  p-value: 0.04161\n"
      ]
     },
     "metadata": {},
     "output_type": "display_data"
    }
   ],
   "source": [
    "#linear modeling between age and PC1 values\n",
    "active_age = data.frame(active_demographics_df$Age)\n",
    "colnames(active_age) = \"Age\"\n",
    "active_age$PC1 = active_pc1$PC1\n",
    "active_age$Study_group = \"Active_GCA\"\n",
    "\n",
    "inactive_age = data.frame(inactive_demographics_df$Age)\n",
    "colnames(inactive_age) = \"Age\"\n",
    "inactive_age$PC1 = inactive_pc1$PC1\n",
    "inactive_age$Study_group = \"Inactive_GCA\"\n",
    "\n",
    "controls_age = data.frame(controls_demographics_df$Age)\n",
    "colnames(controls_age) = \"Age\"\n",
    "controls_age$PC1 = control_pc1$PC1\n",
    "controls_age$Study_group = \"Healthy_Controls\"\n",
    "\n",
    "all_ages_and_PC1_df = rbind(active_age,inactive_age,controls_age)\n",
    "dim(all_ages_and_PC1_df)\n",
    "\n",
    "age_lm = lm(data = all_ages_and_PC1_df, PC1 ~ Age)\n",
    "summary(age_lm)\n"
   ]
  },
  {
   "cell_type": "code",
   "execution_count": 10,
   "id": "398d5eb5-d18f-4841-a4c4-4be89c7b1baf",
   "metadata": {},
   "outputs": [
    {
     "data": {
      "text/html": [
       "<table class=\"dataframe\">\n",
       "<caption>A data.frame: 10 × 5</caption>\n",
       "<thead>\n",
       "\t<tr><th scope=col>Variable</th><th scope=col>R_squared</th><th scope=col>P_value</th><th scope=col>n</th><th scope=col>Index</th></tr>\n",
       "\t<tr><th scope=col>&lt;chr&gt;</th><th scope=col>&lt;dbl&gt;</th><th scope=col>&lt;dbl&gt;</th><th scope=col>&lt;dbl&gt;</th><th scope=col>&lt;dbl&gt;</th></tr>\n",
       "</thead>\n",
       "<tbody>\n",
       "\t<tr><td>Age           </td><td>0.04633024</td><td>0.04161063</td><td>90</td><td>0</td></tr>\n",
       "\t<tr><td>Sex           </td><td>0.00000000</td><td>0.00000000</td><td> 0</td><td>0</td></tr>\n",
       "\t<tr><td>BMI           </td><td>0.00000000</td><td>0.00000000</td><td> 0</td><td>0</td></tr>\n",
       "\t<tr><td>Smoking       </td><td>0.00000000</td><td>0.00000000</td><td> 0</td><td>0</td></tr>\n",
       "\t<tr><td>PGA           </td><td>0.00000000</td><td>0.00000000</td><td> 0</td><td>0</td></tr>\n",
       "\t<tr><td>CRP           </td><td>0.00000000</td><td>0.00000000</td><td> 0</td><td>0</td></tr>\n",
       "\t<tr><td>Prednisone_use</td><td>0.00000000</td><td>0.00000000</td><td> 0</td><td>0</td></tr>\n",
       "\t<tr><td>Aspirin       </td><td>0.00000000</td><td>0.00000000</td><td> 0</td><td>0</td></tr>\n",
       "\t<tr><td>Study_group   </td><td>0.00000000</td><td>0.00000000</td><td> 0</td><td>0</td></tr>\n",
       "\t<tr><td>Methotrexate  </td><td>0.00000000</td><td>0.00000000</td><td> 0</td><td>0</td></tr>\n",
       "</tbody>\n",
       "</table>\n"
      ],
      "text/latex": [
       "A data.frame: 10 × 5\n",
       "\\begin{tabular}{lllll}\n",
       " Variable & R\\_squared & P\\_value & n & Index\\\\\n",
       " <chr> & <dbl> & <dbl> & <dbl> & <dbl>\\\\\n",
       "\\hline\n",
       "\t Age            & 0.04633024 & 0.04161063 & 90 & 0\\\\\n",
       "\t Sex            & 0.00000000 & 0.00000000 &  0 & 0\\\\\n",
       "\t BMI            & 0.00000000 & 0.00000000 &  0 & 0\\\\\n",
       "\t Smoking        & 0.00000000 & 0.00000000 &  0 & 0\\\\\n",
       "\t PGA            & 0.00000000 & 0.00000000 &  0 & 0\\\\\n",
       "\t CRP            & 0.00000000 & 0.00000000 &  0 & 0\\\\\n",
       "\t Prednisone\\_use & 0.00000000 & 0.00000000 &  0 & 0\\\\\n",
       "\t Aspirin        & 0.00000000 & 0.00000000 &  0 & 0\\\\\n",
       "\t Study\\_group    & 0.00000000 & 0.00000000 &  0 & 0\\\\\n",
       "\t Methotrexate   & 0.00000000 & 0.00000000 &  0 & 0\\\\\n",
       "\\end{tabular}\n"
      ],
      "text/markdown": [
       "\n",
       "A data.frame: 10 × 5\n",
       "\n",
       "| Variable &lt;chr&gt; | R_squared &lt;dbl&gt; | P_value &lt;dbl&gt; | n &lt;dbl&gt; | Index &lt;dbl&gt; |\n",
       "|---|---|---|---|---|\n",
       "| Age            | 0.04633024 | 0.04161063 | 90 | 0 |\n",
       "| Sex            | 0.00000000 | 0.00000000 |  0 | 0 |\n",
       "| BMI            | 0.00000000 | 0.00000000 |  0 | 0 |\n",
       "| Smoking        | 0.00000000 | 0.00000000 |  0 | 0 |\n",
       "| PGA            | 0.00000000 | 0.00000000 |  0 | 0 |\n",
       "| CRP            | 0.00000000 | 0.00000000 |  0 | 0 |\n",
       "| Prednisone_use | 0.00000000 | 0.00000000 |  0 | 0 |\n",
       "| Aspirin        | 0.00000000 | 0.00000000 |  0 | 0 |\n",
       "| Study_group    | 0.00000000 | 0.00000000 |  0 | 0 |\n",
       "| Methotrexate   | 0.00000000 | 0.00000000 |  0 | 0 |\n",
       "\n"
      ],
      "text/plain": [
       "   Variable       R_squared  P_value    n  Index\n",
       "1  Age            0.04633024 0.04161063 90 0    \n",
       "2  Sex            0.00000000 0.00000000  0 0    \n",
       "3  BMI            0.00000000 0.00000000  0 0    \n",
       "4  Smoking        0.00000000 0.00000000  0 0    \n",
       "5  PGA            0.00000000 0.00000000  0 0    \n",
       "6  CRP            0.00000000 0.00000000  0 0    \n",
       "7  Prednisone_use 0.00000000 0.00000000  0 0    \n",
       "8  Aspirin        0.00000000 0.00000000  0 0    \n",
       "9  Study_group    0.00000000 0.00000000  0 0    \n",
       "10 Methotrexate   0.00000000 0.00000000  0 0    "
      ]
     },
     "metadata": {},
     "output_type": "display_data"
    }
   ],
   "source": [
    "r_squared = summary(age_lm)$r.squared\n",
    "linear_models[1,2] = r_squared\n",
    "coefficient_pvalue = summary(age_lm)$coefficients[,4] [2]\n",
    "linear_models[1,3] = coefficient_pvalue\n",
    "linear_models[1,4] = nrow(all_ages_and_PC1_df)\n",
    "linear_models\n"
   ]
  },
  {
   "cell_type": "code",
   "execution_count": 11,
   "id": "2a097b09-dad4-4e1b-8c6b-2c8688234c70",
   "metadata": {
    "tags": []
   },
   "outputs": [
    {
     "data": {
      "text/plain": [
       "\n",
       "Call:\n",
       "lm(formula = PC1 ~ Sex, data = all_sex_df)\n",
       "\n",
       "Residuals:\n",
       "    Min      1Q  Median      3Q     Max \n",
       "-553847 -401596  120962  334091  507620 \n",
       "\n",
       "Coefficients:\n",
       "            Estimate Std. Error t value Pr(>|t|)\n",
       "(Intercept)   -14180      43457  -0.326    0.745\n",
       "SexMale        60773      89965   0.676    0.501\n",
       "\n",
       "Residual standard error: 361000 on 88 degrees of freedom\n",
       "Multiple R-squared:  0.005159,\tAdjusted R-squared:  -0.006146 \n",
       "F-statistic: 0.4563 on 1 and 88 DF,  p-value: 0.5011\n"
      ]
     },
     "metadata": {},
     "output_type": "display_data"
    }
   ],
   "source": [
    "#do the same for sex\n",
    "active_sex = data.frame(active_demographics_df$Sex)\n",
    "colnames(active_sex) = \"Sex\"\n",
    "active_sex$Study_group = \"Active_GCA\"\n",
    "active_sex$PC1 = active_pc1$PC1\n",
    "\n",
    "inactive_sex = data.frame(inactive_demographics_df$Sex)\n",
    "colnames(inactive_sex) = \"Sex\"\n",
    "inactive_sex$Study_group = \"Inactive_GCA\"\n",
    "inactive_sex$PC1 = inactive_pc1$PC1\n",
    "\n",
    "\n",
    "control_sex = data.frame(controls_demographics_df$control_gender)\n",
    "colnames(control_sex) = \"Sex\"\n",
    "control_sex$Study_group = \"Healthy_Controls\"\n",
    "control_sex$PC1 = control_pc1$PC1\n",
    "\n",
    "all_sex_df = rbind(active_sex,inactive_sex,control_sex)\n",
    "\n",
    "sex_lm = lm(data = all_sex_df, PC1 ~ Sex)\n",
    "summary(sex_lm)"
   ]
  },
  {
   "cell_type": "code",
   "execution_count": 12,
   "id": "15d500ac-df45-4f5a-8fdf-3078d11edffa",
   "metadata": {},
   "outputs": [
    {
     "data": {
      "text/html": [
       "<table class=\"dataframe\">\n",
       "<caption>A data.frame: 10 × 5</caption>\n",
       "<thead>\n",
       "\t<tr><th scope=col>Variable</th><th scope=col>R_squared</th><th scope=col>P_value</th><th scope=col>n</th><th scope=col>Index</th></tr>\n",
       "\t<tr><th scope=col>&lt;chr&gt;</th><th scope=col>&lt;dbl&gt;</th><th scope=col>&lt;dbl&gt;</th><th scope=col>&lt;dbl&gt;</th><th scope=col>&lt;dbl&gt;</th></tr>\n",
       "</thead>\n",
       "<tbody>\n",
       "\t<tr><td>Age           </td><td>0.04633024</td><td>0.04161063</td><td>90</td><td>0</td></tr>\n",
       "\t<tr><td>Sex           </td><td>0.00515872</td><td>0.50111949</td><td>90</td><td>0</td></tr>\n",
       "\t<tr><td>BMI           </td><td>0.00000000</td><td>0.00000000</td><td> 0</td><td>0</td></tr>\n",
       "\t<tr><td>Smoking       </td><td>0.00000000</td><td>0.00000000</td><td> 0</td><td>0</td></tr>\n",
       "\t<tr><td>PGA           </td><td>0.00000000</td><td>0.00000000</td><td> 0</td><td>0</td></tr>\n",
       "\t<tr><td>CRP           </td><td>0.00000000</td><td>0.00000000</td><td> 0</td><td>0</td></tr>\n",
       "\t<tr><td>Prednisone_use</td><td>0.00000000</td><td>0.00000000</td><td> 0</td><td>0</td></tr>\n",
       "\t<tr><td>Aspirin       </td><td>0.00000000</td><td>0.00000000</td><td> 0</td><td>0</td></tr>\n",
       "\t<tr><td>Study_group   </td><td>0.00000000</td><td>0.00000000</td><td> 0</td><td>0</td></tr>\n",
       "\t<tr><td>Methotrexate  </td><td>0.00000000</td><td>0.00000000</td><td> 0</td><td>0</td></tr>\n",
       "</tbody>\n",
       "</table>\n"
      ],
      "text/latex": [
       "A data.frame: 10 × 5\n",
       "\\begin{tabular}{lllll}\n",
       " Variable & R\\_squared & P\\_value & n & Index\\\\\n",
       " <chr> & <dbl> & <dbl> & <dbl> & <dbl>\\\\\n",
       "\\hline\n",
       "\t Age            & 0.04633024 & 0.04161063 & 90 & 0\\\\\n",
       "\t Sex            & 0.00515872 & 0.50111949 & 90 & 0\\\\\n",
       "\t BMI            & 0.00000000 & 0.00000000 &  0 & 0\\\\\n",
       "\t Smoking        & 0.00000000 & 0.00000000 &  0 & 0\\\\\n",
       "\t PGA            & 0.00000000 & 0.00000000 &  0 & 0\\\\\n",
       "\t CRP            & 0.00000000 & 0.00000000 &  0 & 0\\\\\n",
       "\t Prednisone\\_use & 0.00000000 & 0.00000000 &  0 & 0\\\\\n",
       "\t Aspirin        & 0.00000000 & 0.00000000 &  0 & 0\\\\\n",
       "\t Study\\_group    & 0.00000000 & 0.00000000 &  0 & 0\\\\\n",
       "\t Methotrexate   & 0.00000000 & 0.00000000 &  0 & 0\\\\\n",
       "\\end{tabular}\n"
      ],
      "text/markdown": [
       "\n",
       "A data.frame: 10 × 5\n",
       "\n",
       "| Variable &lt;chr&gt; | R_squared &lt;dbl&gt; | P_value &lt;dbl&gt; | n &lt;dbl&gt; | Index &lt;dbl&gt; |\n",
       "|---|---|---|---|---|\n",
       "| Age            | 0.04633024 | 0.04161063 | 90 | 0 |\n",
       "| Sex            | 0.00515872 | 0.50111949 | 90 | 0 |\n",
       "| BMI            | 0.00000000 | 0.00000000 |  0 | 0 |\n",
       "| Smoking        | 0.00000000 | 0.00000000 |  0 | 0 |\n",
       "| PGA            | 0.00000000 | 0.00000000 |  0 | 0 |\n",
       "| CRP            | 0.00000000 | 0.00000000 |  0 | 0 |\n",
       "| Prednisone_use | 0.00000000 | 0.00000000 |  0 | 0 |\n",
       "| Aspirin        | 0.00000000 | 0.00000000 |  0 | 0 |\n",
       "| Study_group    | 0.00000000 | 0.00000000 |  0 | 0 |\n",
       "| Methotrexate   | 0.00000000 | 0.00000000 |  0 | 0 |\n",
       "\n"
      ],
      "text/plain": [
       "   Variable       R_squared  P_value    n  Index\n",
       "1  Age            0.04633024 0.04161063 90 0    \n",
       "2  Sex            0.00515872 0.50111949 90 0    \n",
       "3  BMI            0.00000000 0.00000000  0 0    \n",
       "4  Smoking        0.00000000 0.00000000  0 0    \n",
       "5  PGA            0.00000000 0.00000000  0 0    \n",
       "6  CRP            0.00000000 0.00000000  0 0    \n",
       "7  Prednisone_use 0.00000000 0.00000000  0 0    \n",
       "8  Aspirin        0.00000000 0.00000000  0 0    \n",
       "9  Study_group    0.00000000 0.00000000  0 0    \n",
       "10 Methotrexate   0.00000000 0.00000000  0 0    "
      ]
     },
     "metadata": {},
     "output_type": "display_data"
    }
   ],
   "source": [
    "r_squared = summary(sex_lm)$r.squared\n",
    "linear_models[2,2] = r_squared\n",
    "coefficient_pvalue = summary(sex_lm)$coefficients[,4] [2]\n",
    "linear_models[2,3] = coefficient_pvalue\n",
    "linear_models[2,4] = nrow(all_sex_df)\n",
    "linear_models\n"
   ]
  },
  {
   "cell_type": "code",
   "execution_count": 13,
   "id": "5d209ac2-96da-4d30-9c6c-e5b87b2f1840",
   "metadata": {},
   "outputs": [
    {
     "data": {
      "text/plain": [
       "\n",
       "Call:\n",
       "lm(formula = PC1 ~ BMI_Kg_M2, data = all_BMI_df)\n",
       "\n",
       "Residuals:\n",
       "    Min      1Q  Median      3Q     Max \n",
       "-565819 -365987  117391  327981  517393 \n",
       "\n",
       "Coefficients:\n",
       "            Estimate Std. Error t value Pr(>|t|)  \n",
       "(Intercept)   346662     187462   1.849   0.0682 .\n",
       "BMI_Kg_M2     -13419       6981  -1.922   0.0582 .\n",
       "---\n",
       "Signif. codes:  0 ‘***’ 0.001 ‘**’ 0.01 ‘*’ 0.05 ‘.’ 0.1 ‘ ’ 1\n",
       "\n",
       "Residual standard error: 355100 on 78 degrees of freedom\n",
       "Multiple R-squared:  0.04522,\tAdjusted R-squared:  0.03298 \n",
       "F-statistic: 3.694 on 1 and 78 DF,  p-value: 0.05825\n"
      ]
     },
     "metadata": {},
     "output_type": "display_data"
    }
   ],
   "source": [
    "#BMI is next, for all study groups\n",
    "active_BMI = data.frame(active_demographics_df$BMI_Kg_M2)\n",
    "colnames(active_BMI) = \"BMI_Kg_M2\"\n",
    "active_BMI$PC1 = active_pc1$PC1\n",
    "active_BMI$Study_group = \"Active_GCA\"\n",
    "\n",
    "inactive_BMI = data.frame(inactive_demographics_df$BMI_Kg_M2)\n",
    "colnames(inactive_BMI) = \"BMI_Kg_M2\"\n",
    "inactive_BMI$PC1 = inactive_pc1$PC1\n",
    "inactive_BMI$Study_group = \"Inactive_GCA\"\n",
    "\n",
    "controls_BMI = data.frame(controls_demographics_df$BMI_Kg_M2)\n",
    "colnames(controls_BMI) = \"BMI_Kg_M2\"\n",
    "controls_BMI$PC1 = control_pc1$PC1\n",
    "controls_BMI$Study_group = \"Inactive_GCA\"\n",
    "\n",
    "\n",
    "all_BMI_df = rbind(active_BMI,inactive_BMI,controls_BMI)\n",
    "\n",
    "\n",
    "all_BMI_df = filter(all_BMI_df,all_BMI_df$BMI_Kg_M2 != \"NA\")\n",
    "#all_BMI_df\n",
    "\n",
    "BMI_lm = lm(data = all_BMI_df, PC1 ~ BMI_Kg_M2)\n",
    "summary(BMI_lm)\n"
   ]
  },
  {
   "cell_type": "code",
   "execution_count": 14,
   "id": "74d21390-6195-4899-84ef-743f42f282e4",
   "metadata": {},
   "outputs": [
    {
     "data": {
      "text/html": [
       "<table class=\"dataframe\">\n",
       "<caption>A data.frame: 10 × 5</caption>\n",
       "<thead>\n",
       "\t<tr><th scope=col>Variable</th><th scope=col>R_squared</th><th scope=col>P_value</th><th scope=col>n</th><th scope=col>Index</th></tr>\n",
       "\t<tr><th scope=col>&lt;chr&gt;</th><th scope=col>&lt;dbl&gt;</th><th scope=col>&lt;dbl&gt;</th><th scope=col>&lt;dbl&gt;</th><th scope=col>&lt;dbl&gt;</th></tr>\n",
       "</thead>\n",
       "<tbody>\n",
       "\t<tr><td>Age           </td><td>0.04633024</td><td>0.04161063</td><td>90</td><td>0</td></tr>\n",
       "\t<tr><td>Sex           </td><td>0.00515872</td><td>0.50111949</td><td>90</td><td>0</td></tr>\n",
       "\t<tr><td>BMI           </td><td>0.04522290</td><td>0.05824519</td><td>80</td><td>0</td></tr>\n",
       "\t<tr><td>Smoking       </td><td>0.00000000</td><td>0.00000000</td><td> 0</td><td>0</td></tr>\n",
       "\t<tr><td>PGA           </td><td>0.00000000</td><td>0.00000000</td><td> 0</td><td>0</td></tr>\n",
       "\t<tr><td>CRP           </td><td>0.00000000</td><td>0.00000000</td><td> 0</td><td>0</td></tr>\n",
       "\t<tr><td>Prednisone_use</td><td>0.00000000</td><td>0.00000000</td><td> 0</td><td>0</td></tr>\n",
       "\t<tr><td>Aspirin       </td><td>0.00000000</td><td>0.00000000</td><td> 0</td><td>0</td></tr>\n",
       "\t<tr><td>Study_group   </td><td>0.00000000</td><td>0.00000000</td><td> 0</td><td>0</td></tr>\n",
       "\t<tr><td>Methotrexate  </td><td>0.00000000</td><td>0.00000000</td><td> 0</td><td>0</td></tr>\n",
       "</tbody>\n",
       "</table>\n"
      ],
      "text/latex": [
       "A data.frame: 10 × 5\n",
       "\\begin{tabular}{lllll}\n",
       " Variable & R\\_squared & P\\_value & n & Index\\\\\n",
       " <chr> & <dbl> & <dbl> & <dbl> & <dbl>\\\\\n",
       "\\hline\n",
       "\t Age            & 0.04633024 & 0.04161063 & 90 & 0\\\\\n",
       "\t Sex            & 0.00515872 & 0.50111949 & 90 & 0\\\\\n",
       "\t BMI            & 0.04522290 & 0.05824519 & 80 & 0\\\\\n",
       "\t Smoking        & 0.00000000 & 0.00000000 &  0 & 0\\\\\n",
       "\t PGA            & 0.00000000 & 0.00000000 &  0 & 0\\\\\n",
       "\t CRP            & 0.00000000 & 0.00000000 &  0 & 0\\\\\n",
       "\t Prednisone\\_use & 0.00000000 & 0.00000000 &  0 & 0\\\\\n",
       "\t Aspirin        & 0.00000000 & 0.00000000 &  0 & 0\\\\\n",
       "\t Study\\_group    & 0.00000000 & 0.00000000 &  0 & 0\\\\\n",
       "\t Methotrexate   & 0.00000000 & 0.00000000 &  0 & 0\\\\\n",
       "\\end{tabular}\n"
      ],
      "text/markdown": [
       "\n",
       "A data.frame: 10 × 5\n",
       "\n",
       "| Variable &lt;chr&gt; | R_squared &lt;dbl&gt; | P_value &lt;dbl&gt; | n &lt;dbl&gt; | Index &lt;dbl&gt; |\n",
       "|---|---|---|---|---|\n",
       "| Age            | 0.04633024 | 0.04161063 | 90 | 0 |\n",
       "| Sex            | 0.00515872 | 0.50111949 | 90 | 0 |\n",
       "| BMI            | 0.04522290 | 0.05824519 | 80 | 0 |\n",
       "| Smoking        | 0.00000000 | 0.00000000 |  0 | 0 |\n",
       "| PGA            | 0.00000000 | 0.00000000 |  0 | 0 |\n",
       "| CRP            | 0.00000000 | 0.00000000 |  0 | 0 |\n",
       "| Prednisone_use | 0.00000000 | 0.00000000 |  0 | 0 |\n",
       "| Aspirin        | 0.00000000 | 0.00000000 |  0 | 0 |\n",
       "| Study_group    | 0.00000000 | 0.00000000 |  0 | 0 |\n",
       "| Methotrexate   | 0.00000000 | 0.00000000 |  0 | 0 |\n",
       "\n"
      ],
      "text/plain": [
       "   Variable       R_squared  P_value    n  Index\n",
       "1  Age            0.04633024 0.04161063 90 0    \n",
       "2  Sex            0.00515872 0.50111949 90 0    \n",
       "3  BMI            0.04522290 0.05824519 80 0    \n",
       "4  Smoking        0.00000000 0.00000000  0 0    \n",
       "5  PGA            0.00000000 0.00000000  0 0    \n",
       "6  CRP            0.00000000 0.00000000  0 0    \n",
       "7  Prednisone_use 0.00000000 0.00000000  0 0    \n",
       "8  Aspirin        0.00000000 0.00000000  0 0    \n",
       "9  Study_group    0.00000000 0.00000000  0 0    \n",
       "10 Methotrexate   0.00000000 0.00000000  0 0    "
      ]
     },
     "metadata": {},
     "output_type": "display_data"
    }
   ],
   "source": [
    "r_squared = summary(BMI_lm)$r.squared\n",
    "linear_models[3,2] = r_squared\n",
    "coefficient_pvalue = summary(BMI_lm)$coefficients[,4] [2]\n",
    "linear_models[3,3] = coefficient_pvalue\n",
    "linear_models[3,4] = nrow(all_BMI_df)\n",
    "linear_models\n"
   ]
  },
  {
   "cell_type": "code",
   "execution_count": 15,
   "id": "edc3b6ec-8c33-4fde-8442-0e8c5cda19cd",
   "metadata": {
    "tags": []
   },
   "outputs": [
    {
     "data": {
      "text/plain": [
       "\n",
       "Call:\n",
       "lm(formula = PC1 ~ binary_smoking, data = all_smoking_df)\n",
       "\n",
       "Residuals:\n",
       "    Min      1Q  Median      3Q     Max \n",
       "-507559 -405876  139500  335203  514294 \n",
       "\n",
       "Coefficients:\n",
       "               Estimate Std. Error t value Pr(>|t|)\n",
       "(Intercept)      -20854      53786  -0.388    0.699\n",
       "binary_smoking    32668      76496   0.427    0.670\n",
       "\n",
       "Residual standard error: 360800 on 87 degrees of freedom\n",
       "Multiple R-squared:  0.002092,\tAdjusted R-squared:  -0.009378 \n",
       "F-statistic: 0.1824 on 1 and 87 DF,  p-value: 0.6704\n"
      ]
     },
     "metadata": {},
     "output_type": "display_data"
    }
   ],
   "source": [
    "#next is smoking for all study groups\n",
    "\n",
    "active_smoking = data.frame(active_demographics_df$Smoking)\n",
    "colnames(active_smoking) = \"Smoking\"\n",
    "active_smoking$PC1 = active_pc1$PC1\n",
    "\n",
    "inactive_smoking = data.frame(inactive_demographics_df$Smoking)\n",
    "colnames(inactive_smoking) = \"Smoking\"\n",
    "inactive_smoking$PC1 = inactive_pc1$PC1\n",
    "\n",
    "inactive_smoking = data.frame(inactive_demographics_df$Smoking)\n",
    "colnames(inactive_smoking) = \"Smoking\"\n",
    "inactive_smoking$PC1 = inactive_pc1$PC1\n",
    "\n",
    "controls_smoking = data.frame(controls_demographics_df$Smoking)\n",
    "colnames(controls_smoking) = \"Smoking\"\n",
    "controls_smoking$PC1 = control_pc1$PC1\n",
    "\n",
    "\n",
    "all_smoking_df = rbind(active_smoking, inactive_smoking, controls_smoking)\n",
    "all_smoking_df$binary_smoking = 0\n",
    "for(i in 1:90){\n",
    "    current_val = all_smoking_df[i,1]\n",
    "    if(current_val == \"Yes\"){\n",
    "        all_smoking_df[i,3] = 1\n",
    "    }\n",
    "}\n",
    "\n",
    "all_smoking_df = all_smoking_df[1:89,]\n",
    "\n",
    "smoking_lm2 = lm(data = all_smoking_df, PC1 ~ binary_smoking)\n",
    "summary(smoking_lm2)"
   ]
  },
  {
   "cell_type": "code",
   "execution_count": 16,
   "id": "c5173eb6-e47a-438e-bf1f-69ea1d8b0b4c",
   "metadata": {},
   "outputs": [
    {
     "data": {
      "text/html": [
       "<table class=\"dataframe\">\n",
       "<caption>A data.frame: 10 × 5</caption>\n",
       "<thead>\n",
       "\t<tr><th scope=col>Variable</th><th scope=col>R_squared</th><th scope=col>P_value</th><th scope=col>n</th><th scope=col>Index</th></tr>\n",
       "\t<tr><th scope=col>&lt;chr&gt;</th><th scope=col>&lt;dbl&gt;</th><th scope=col>&lt;dbl&gt;</th><th scope=col>&lt;dbl&gt;</th><th scope=col>&lt;dbl&gt;</th></tr>\n",
       "</thead>\n",
       "<tbody>\n",
       "\t<tr><td>Age           </td><td>0.046330242</td><td>0.04161063</td><td>90</td><td>0</td></tr>\n",
       "\t<tr><td>Sex           </td><td>0.005158720</td><td>0.50111949</td><td>90</td><td>0</td></tr>\n",
       "\t<tr><td>BMI           </td><td>0.045222905</td><td>0.05824519</td><td>80</td><td>0</td></tr>\n",
       "\t<tr><td>Smoking       </td><td>0.002091969</td><td>0.67038847</td><td>89</td><td>0</td></tr>\n",
       "\t<tr><td>PGA           </td><td>0.000000000</td><td>0.00000000</td><td> 0</td><td>0</td></tr>\n",
       "\t<tr><td>CRP           </td><td>0.000000000</td><td>0.00000000</td><td> 0</td><td>0</td></tr>\n",
       "\t<tr><td>Prednisone_use</td><td>0.000000000</td><td>0.00000000</td><td> 0</td><td>0</td></tr>\n",
       "\t<tr><td>Aspirin       </td><td>0.000000000</td><td>0.00000000</td><td> 0</td><td>0</td></tr>\n",
       "\t<tr><td>Study_group   </td><td>0.000000000</td><td>0.00000000</td><td> 0</td><td>0</td></tr>\n",
       "\t<tr><td>Methotrexate  </td><td>0.000000000</td><td>0.00000000</td><td> 0</td><td>0</td></tr>\n",
       "</tbody>\n",
       "</table>\n"
      ],
      "text/latex": [
       "A data.frame: 10 × 5\n",
       "\\begin{tabular}{lllll}\n",
       " Variable & R\\_squared & P\\_value & n & Index\\\\\n",
       " <chr> & <dbl> & <dbl> & <dbl> & <dbl>\\\\\n",
       "\\hline\n",
       "\t Age            & 0.046330242 & 0.04161063 & 90 & 0\\\\\n",
       "\t Sex            & 0.005158720 & 0.50111949 & 90 & 0\\\\\n",
       "\t BMI            & 0.045222905 & 0.05824519 & 80 & 0\\\\\n",
       "\t Smoking        & 0.002091969 & 0.67038847 & 89 & 0\\\\\n",
       "\t PGA            & 0.000000000 & 0.00000000 &  0 & 0\\\\\n",
       "\t CRP            & 0.000000000 & 0.00000000 &  0 & 0\\\\\n",
       "\t Prednisone\\_use & 0.000000000 & 0.00000000 &  0 & 0\\\\\n",
       "\t Aspirin        & 0.000000000 & 0.00000000 &  0 & 0\\\\\n",
       "\t Study\\_group    & 0.000000000 & 0.00000000 &  0 & 0\\\\\n",
       "\t Methotrexate   & 0.000000000 & 0.00000000 &  0 & 0\\\\\n",
       "\\end{tabular}\n"
      ],
      "text/markdown": [
       "\n",
       "A data.frame: 10 × 5\n",
       "\n",
       "| Variable &lt;chr&gt; | R_squared &lt;dbl&gt; | P_value &lt;dbl&gt; | n &lt;dbl&gt; | Index &lt;dbl&gt; |\n",
       "|---|---|---|---|---|\n",
       "| Age            | 0.046330242 | 0.04161063 | 90 | 0 |\n",
       "| Sex            | 0.005158720 | 0.50111949 | 90 | 0 |\n",
       "| BMI            | 0.045222905 | 0.05824519 | 80 | 0 |\n",
       "| Smoking        | 0.002091969 | 0.67038847 | 89 | 0 |\n",
       "| PGA            | 0.000000000 | 0.00000000 |  0 | 0 |\n",
       "| CRP            | 0.000000000 | 0.00000000 |  0 | 0 |\n",
       "| Prednisone_use | 0.000000000 | 0.00000000 |  0 | 0 |\n",
       "| Aspirin        | 0.000000000 | 0.00000000 |  0 | 0 |\n",
       "| Study_group    | 0.000000000 | 0.00000000 |  0 | 0 |\n",
       "| Methotrexate   | 0.000000000 | 0.00000000 |  0 | 0 |\n",
       "\n"
      ],
      "text/plain": [
       "   Variable       R_squared   P_value    n  Index\n",
       "1  Age            0.046330242 0.04161063 90 0    \n",
       "2  Sex            0.005158720 0.50111949 90 0    \n",
       "3  BMI            0.045222905 0.05824519 80 0    \n",
       "4  Smoking        0.002091969 0.67038847 89 0    \n",
       "5  PGA            0.000000000 0.00000000  0 0    \n",
       "6  CRP            0.000000000 0.00000000  0 0    \n",
       "7  Prednisone_use 0.000000000 0.00000000  0 0    \n",
       "8  Aspirin        0.000000000 0.00000000  0 0    \n",
       "9  Study_group    0.000000000 0.00000000  0 0    \n",
       "10 Methotrexate   0.000000000 0.00000000  0 0    "
      ]
     },
     "metadata": {},
     "output_type": "display_data"
    }
   ],
   "source": [
    "r_squared = summary(smoking_lm2)$r.squared\n",
    "linear_models[4,2] = r_squared\n",
    "coefficient_pvalue = summary(smoking_lm2)$coefficients[,4] [2]\n",
    "linear_models[4,3] = coefficient_pvalue\n",
    "linear_models[4,4] = nrow(all_smoking_df)\n",
    "linear_models\n"
   ]
  },
  {
   "cell_type": "code",
   "execution_count": 17,
   "id": "601ff05d-6dd3-43bc-9014-a61599b2d427",
   "metadata": {},
   "outputs": [
    {
     "data": {
      "text/plain": [
       "\n",
       "Call:\n",
       "lm(formula = PC1 ~ PGA, data = active_PGA)\n",
       "\n",
       "Residuals:\n",
       "    Min      1Q  Median      3Q     Max \n",
       "-399801 -283700 -151491  350935  575334 \n",
       "\n",
       "Coefficients:\n",
       "            Estimate Std. Error t value Pr(>|t|)\n",
       "(Intercept)   -80491     148324  -0.543    0.592\n",
       "PGA           -13481      30575  -0.441    0.663\n",
       "\n",
       "Residual standard error: 342100 on 28 degrees of freedom\n",
       "Multiple R-squared:  0.006895,\tAdjusted R-squared:  -0.02857 \n",
       "F-statistic: 0.1944 on 1 and 28 DF,  p-value: 0.6627\n"
      ]
     },
     "metadata": {},
     "output_type": "display_data"
    }
   ],
   "source": [
    "#PGA is next, only active GCA\n",
    "active_PGA = data.frame(active_demographics_df$MH_PGA)\n",
    "colnames(active_PGA) = \"PGA\"\n",
    "active_PGA$PC1 = active_pc1$PC1\n",
    "\n",
    "PGA_lm = lm(data = active_PGA, PC1 ~ PGA)\n",
    "summary(PGA_lm)\n"
   ]
  },
  {
   "cell_type": "code",
   "execution_count": 18,
   "id": "97e8205c-6bd4-4bc8-90af-cfc9a80453bd",
   "metadata": {},
   "outputs": [
    {
     "data": {
      "text/html": [
       "<table class=\"dataframe\">\n",
       "<caption>A data.frame: 10 × 5</caption>\n",
       "<thead>\n",
       "\t<tr><th scope=col>Variable</th><th scope=col>R_squared</th><th scope=col>P_value</th><th scope=col>n</th><th scope=col>Index</th></tr>\n",
       "\t<tr><th scope=col>&lt;chr&gt;</th><th scope=col>&lt;dbl&gt;</th><th scope=col>&lt;dbl&gt;</th><th scope=col>&lt;dbl&gt;</th><th scope=col>&lt;dbl&gt;</th></tr>\n",
       "</thead>\n",
       "<tbody>\n",
       "\t<tr><td>Age           </td><td>0.046330242</td><td>0.04161063</td><td>90</td><td>0</td></tr>\n",
       "\t<tr><td>Sex           </td><td>0.005158720</td><td>0.50111949</td><td>90</td><td>0</td></tr>\n",
       "\t<tr><td>BMI           </td><td>0.045222905</td><td>0.05824519</td><td>80</td><td>0</td></tr>\n",
       "\t<tr><td>Smoking       </td><td>0.002091969</td><td>0.67038847</td><td>89</td><td>0</td></tr>\n",
       "\t<tr><td>PGA           </td><td>0.006895357</td><td>0.66265663</td><td>30</td><td>0</td></tr>\n",
       "\t<tr><td>CRP           </td><td>0.000000000</td><td>0.00000000</td><td> 0</td><td>0</td></tr>\n",
       "\t<tr><td>Prednisone_use</td><td>0.000000000</td><td>0.00000000</td><td> 0</td><td>0</td></tr>\n",
       "\t<tr><td>Aspirin       </td><td>0.000000000</td><td>0.00000000</td><td> 0</td><td>0</td></tr>\n",
       "\t<tr><td>Study_group   </td><td>0.000000000</td><td>0.00000000</td><td> 0</td><td>0</td></tr>\n",
       "\t<tr><td>Methotrexate  </td><td>0.000000000</td><td>0.00000000</td><td> 0</td><td>0</td></tr>\n",
       "</tbody>\n",
       "</table>\n"
      ],
      "text/latex": [
       "A data.frame: 10 × 5\n",
       "\\begin{tabular}{lllll}\n",
       " Variable & R\\_squared & P\\_value & n & Index\\\\\n",
       " <chr> & <dbl> & <dbl> & <dbl> & <dbl>\\\\\n",
       "\\hline\n",
       "\t Age            & 0.046330242 & 0.04161063 & 90 & 0\\\\\n",
       "\t Sex            & 0.005158720 & 0.50111949 & 90 & 0\\\\\n",
       "\t BMI            & 0.045222905 & 0.05824519 & 80 & 0\\\\\n",
       "\t Smoking        & 0.002091969 & 0.67038847 & 89 & 0\\\\\n",
       "\t PGA            & 0.006895357 & 0.66265663 & 30 & 0\\\\\n",
       "\t CRP            & 0.000000000 & 0.00000000 &  0 & 0\\\\\n",
       "\t Prednisone\\_use & 0.000000000 & 0.00000000 &  0 & 0\\\\\n",
       "\t Aspirin        & 0.000000000 & 0.00000000 &  0 & 0\\\\\n",
       "\t Study\\_group    & 0.000000000 & 0.00000000 &  0 & 0\\\\\n",
       "\t Methotrexate   & 0.000000000 & 0.00000000 &  0 & 0\\\\\n",
       "\\end{tabular}\n"
      ],
      "text/markdown": [
       "\n",
       "A data.frame: 10 × 5\n",
       "\n",
       "| Variable &lt;chr&gt; | R_squared &lt;dbl&gt; | P_value &lt;dbl&gt; | n &lt;dbl&gt; | Index &lt;dbl&gt; |\n",
       "|---|---|---|---|---|\n",
       "| Age            | 0.046330242 | 0.04161063 | 90 | 0 |\n",
       "| Sex            | 0.005158720 | 0.50111949 | 90 | 0 |\n",
       "| BMI            | 0.045222905 | 0.05824519 | 80 | 0 |\n",
       "| Smoking        | 0.002091969 | 0.67038847 | 89 | 0 |\n",
       "| PGA            | 0.006895357 | 0.66265663 | 30 | 0 |\n",
       "| CRP            | 0.000000000 | 0.00000000 |  0 | 0 |\n",
       "| Prednisone_use | 0.000000000 | 0.00000000 |  0 | 0 |\n",
       "| Aspirin        | 0.000000000 | 0.00000000 |  0 | 0 |\n",
       "| Study_group    | 0.000000000 | 0.00000000 |  0 | 0 |\n",
       "| Methotrexate   | 0.000000000 | 0.00000000 |  0 | 0 |\n",
       "\n"
      ],
      "text/plain": [
       "   Variable       R_squared   P_value    n  Index\n",
       "1  Age            0.046330242 0.04161063 90 0    \n",
       "2  Sex            0.005158720 0.50111949 90 0    \n",
       "3  BMI            0.045222905 0.05824519 80 0    \n",
       "4  Smoking        0.002091969 0.67038847 89 0    \n",
       "5  PGA            0.006895357 0.66265663 30 0    \n",
       "6  CRP            0.000000000 0.00000000  0 0    \n",
       "7  Prednisone_use 0.000000000 0.00000000  0 0    \n",
       "8  Aspirin        0.000000000 0.00000000  0 0    \n",
       "9  Study_group    0.000000000 0.00000000  0 0    \n",
       "10 Methotrexate   0.000000000 0.00000000  0 0    "
      ]
     },
     "metadata": {},
     "output_type": "display_data"
    }
   ],
   "source": [
    "r_squared = summary(PGA_lm)$r.squared\n",
    "linear_models[5,2] = r_squared\n",
    "coefficient_pvalue = summary(PGA_lm)$coefficients[,4] [2]\n",
    "linear_models[5,3] = coefficient_pvalue\n",
    "linear_models[5,4] = nrow(active_PGA)\n",
    "linear_models\n"
   ]
  },
  {
   "cell_type": "code",
   "execution_count": 19,
   "id": "61d6a54f-bf78-4577-8413-3c9faf3f5b2d",
   "metadata": {},
   "outputs": [
    {
     "data": {
      "text/plain": [
       "\n",
       "Call:\n",
       "lm(formula = PC1 ~ CRP_mg_per_deciliter, data = all_crp_df)\n",
       "\n",
       "Residuals:\n",
       "    Min      1Q  Median      3Q     Max \n",
       "-379336 -288237 -208532  355001  580837 \n",
       "\n",
       "Coefficients:\n",
       "                     Estimate Std. Error t value Pr(>|t|)  \n",
       "(Intercept)           -148341      57701  -2.571   0.0127 *\n",
       "CRP_mg_per_deciliter     2705      19874   0.136   0.8922  \n",
       "---\n",
       "Signif. codes:  0 ‘***’ 0.001 ‘**’ 0.01 ‘*’ 0.05 ‘.’ 0.1 ‘ ’ 1\n",
       "\n",
       "Residual standard error: 344900 on 58 degrees of freedom\n",
       "Multiple R-squared:  0.0003193,\tAdjusted R-squared:  -0.01692 \n",
       "F-statistic: 0.01852 on 1 and 58 DF,  p-value: 0.8922\n"
      ]
     },
     "metadata": {},
     "output_type": "display_data"
    }
   ],
   "source": [
    "#CRP next, active and inactive\n",
    "active_crp = data.frame(active_crp$CRP_mg_per_deciliter)\n",
    "colnames(active_crp) = \"CRP_mg_per_deciliter\"\n",
    "active_crp$PC1 = active_pc1$PC1\n",
    "\n",
    "inactive_crp = data.frame(inactive_crp$CRP_mg_per_deciliter)\n",
    "colnames(inactive_crp) = \"CRP_mg_per_deciliter\"\n",
    "inactive_crp$PC1 = inactive_pc1$PC1\n",
    "\n",
    "all_crp_df = rbind(active_crp,inactive_crp)\n",
    "\n",
    "crp_lm = lm(data = all_crp_df, PC1 ~ CRP_mg_per_deciliter)\n",
    "summary(crp_lm)"
   ]
  },
  {
   "cell_type": "code",
   "execution_count": 20,
   "id": "afd51e00-b758-4cb4-8a44-637bb5749b79",
   "metadata": {},
   "outputs": [
    {
     "data": {
      "text/html": [
       "<table class=\"dataframe\">\n",
       "<caption>A data.frame: 10 × 5</caption>\n",
       "<thead>\n",
       "\t<tr><th scope=col>Variable</th><th scope=col>R_squared</th><th scope=col>P_value</th><th scope=col>n</th><th scope=col>Index</th></tr>\n",
       "\t<tr><th scope=col>&lt;chr&gt;</th><th scope=col>&lt;dbl&gt;</th><th scope=col>&lt;dbl&gt;</th><th scope=col>&lt;dbl&gt;</th><th scope=col>&lt;dbl&gt;</th></tr>\n",
       "</thead>\n",
       "<tbody>\n",
       "\t<tr><td>Age           </td><td>0.0463302425</td><td>0.04161063</td><td>90</td><td>0</td></tr>\n",
       "\t<tr><td>Sex           </td><td>0.0051587196</td><td>0.50111949</td><td>90</td><td>0</td></tr>\n",
       "\t<tr><td>BMI           </td><td>0.0452229045</td><td>0.05824519</td><td>80</td><td>0</td></tr>\n",
       "\t<tr><td>Smoking       </td><td>0.0020919688</td><td>0.67038847</td><td>89</td><td>0</td></tr>\n",
       "\t<tr><td>PGA           </td><td>0.0068953573</td><td>0.66265663</td><td>30</td><td>0</td></tr>\n",
       "\t<tr><td>CRP           </td><td>0.0003192713</td><td>0.89221225</td><td>60</td><td>0</td></tr>\n",
       "\t<tr><td>Prednisone_use</td><td>0.0000000000</td><td>0.00000000</td><td> 0</td><td>0</td></tr>\n",
       "\t<tr><td>Aspirin       </td><td>0.0000000000</td><td>0.00000000</td><td> 0</td><td>0</td></tr>\n",
       "\t<tr><td>Study_group   </td><td>0.0000000000</td><td>0.00000000</td><td> 0</td><td>0</td></tr>\n",
       "\t<tr><td>Methotrexate  </td><td>0.0000000000</td><td>0.00000000</td><td> 0</td><td>0</td></tr>\n",
       "</tbody>\n",
       "</table>\n"
      ],
      "text/latex": [
       "A data.frame: 10 × 5\n",
       "\\begin{tabular}{lllll}\n",
       " Variable & R\\_squared & P\\_value & n & Index\\\\\n",
       " <chr> & <dbl> & <dbl> & <dbl> & <dbl>\\\\\n",
       "\\hline\n",
       "\t Age            & 0.0463302425 & 0.04161063 & 90 & 0\\\\\n",
       "\t Sex            & 0.0051587196 & 0.50111949 & 90 & 0\\\\\n",
       "\t BMI            & 0.0452229045 & 0.05824519 & 80 & 0\\\\\n",
       "\t Smoking        & 0.0020919688 & 0.67038847 & 89 & 0\\\\\n",
       "\t PGA            & 0.0068953573 & 0.66265663 & 30 & 0\\\\\n",
       "\t CRP            & 0.0003192713 & 0.89221225 & 60 & 0\\\\\n",
       "\t Prednisone\\_use & 0.0000000000 & 0.00000000 &  0 & 0\\\\\n",
       "\t Aspirin        & 0.0000000000 & 0.00000000 &  0 & 0\\\\\n",
       "\t Study\\_group    & 0.0000000000 & 0.00000000 &  0 & 0\\\\\n",
       "\t Methotrexate   & 0.0000000000 & 0.00000000 &  0 & 0\\\\\n",
       "\\end{tabular}\n"
      ],
      "text/markdown": [
       "\n",
       "A data.frame: 10 × 5\n",
       "\n",
       "| Variable &lt;chr&gt; | R_squared &lt;dbl&gt; | P_value &lt;dbl&gt; | n &lt;dbl&gt; | Index &lt;dbl&gt; |\n",
       "|---|---|---|---|---|\n",
       "| Age            | 0.0463302425 | 0.04161063 | 90 | 0 |\n",
       "| Sex            | 0.0051587196 | 0.50111949 | 90 | 0 |\n",
       "| BMI            | 0.0452229045 | 0.05824519 | 80 | 0 |\n",
       "| Smoking        | 0.0020919688 | 0.67038847 | 89 | 0 |\n",
       "| PGA            | 0.0068953573 | 0.66265663 | 30 | 0 |\n",
       "| CRP            | 0.0003192713 | 0.89221225 | 60 | 0 |\n",
       "| Prednisone_use | 0.0000000000 | 0.00000000 |  0 | 0 |\n",
       "| Aspirin        | 0.0000000000 | 0.00000000 |  0 | 0 |\n",
       "| Study_group    | 0.0000000000 | 0.00000000 |  0 | 0 |\n",
       "| Methotrexate   | 0.0000000000 | 0.00000000 |  0 | 0 |\n",
       "\n"
      ],
      "text/plain": [
       "   Variable       R_squared    P_value    n  Index\n",
       "1  Age            0.0463302425 0.04161063 90 0    \n",
       "2  Sex            0.0051587196 0.50111949 90 0    \n",
       "3  BMI            0.0452229045 0.05824519 80 0    \n",
       "4  Smoking        0.0020919688 0.67038847 89 0    \n",
       "5  PGA            0.0068953573 0.66265663 30 0    \n",
       "6  CRP            0.0003192713 0.89221225 60 0    \n",
       "7  Prednisone_use 0.0000000000 0.00000000  0 0    \n",
       "8  Aspirin        0.0000000000 0.00000000  0 0    \n",
       "9  Study_group    0.0000000000 0.00000000  0 0    \n",
       "10 Methotrexate   0.0000000000 0.00000000  0 0    "
      ]
     },
     "metadata": {},
     "output_type": "display_data"
    }
   ],
   "source": [
    "r_squared = summary(crp_lm)$r.squared\n",
    "linear_models[6,2] = r_squared\n",
    "coefficient_pvalue = summary(crp_lm)$coefficients[,4] [2]\n",
    "linear_models[6,3] = coefficient_pvalue\n",
    "linear_models[6,4] = nrow(all_crp_df)\n",
    "linear_models\n"
   ]
  },
  {
   "cell_type": "code",
   "execution_count": 21,
   "id": "145001a7-1d8d-4156-818e-7f2a910c255c",
   "metadata": {},
   "outputs": [
    {
     "data": {
      "text/plain": [
       "\n",
       "Call:\n",
       "lm(formula = PC1 ~ Prednisone_use, data = all_prednisone_df)\n",
       "\n",
       "Residuals:\n",
       "    Min      1Q  Median      3Q     Max \n",
       "-460327 -244017 -158232  253486  633518 \n",
       "\n",
       "Coefficients:\n",
       "                  Estimate Std. Error t value Pr(>|t|)  \n",
       "(Intercept)          -4032      80837  -0.050   0.9604  \n",
       "Prednisone_useYes  -194394      95489  -2.036   0.0463 *\n",
       "---\n",
       "Signif. codes:  0 ‘***’ 0.001 ‘**’ 0.01 ‘*’ 0.05 ‘.’ 0.1 ‘ ’ 1\n",
       "\n",
       "Residual standard error: 333300 on 58 degrees of freedom\n",
       "Multiple R-squared:  0.06669,\tAdjusted R-squared:  0.0506 \n",
       "F-statistic: 4.144 on 1 and 58 DF,  p-value: 0.04635\n"
      ]
     },
     "metadata": {},
     "output_type": "display_data"
    }
   ],
   "source": [
    "#prednisone use for active and inactive\n",
    "active_prednisone = data.frame(active_demographics_df$PrednisoneCurrentlyReceiving)\n",
    "colnames(active_prednisone) = \"Prednisone_use\"\n",
    "active_prednisone$PC1 = active_pc1$PC1\n",
    "\n",
    "inactive_prednisone = data.frame(inactive_demographics_df$PrednisoneCurrentlyReceiving)\n",
    "colnames(inactive_prednisone) = \"Prednisone_use\"\n",
    "inactive_prednisone$PC1 = inactive_pc1$PC1\n",
    "\n",
    "all_prednisone_df = rbind(active_prednisone, inactive_prednisone)\n",
    "\n",
    "prednisone_lm = lm(data = all_prednisone_df, PC1 ~ Prednisone_use)\n",
    "summary(prednisone_lm)"
   ]
  },
  {
   "cell_type": "code",
   "execution_count": 22,
   "id": "f1d91f1e-6d4b-42c4-9163-73d52beb50ab",
   "metadata": {},
   "outputs": [
    {
     "data": {
      "text/html": [
       "<table class=\"dataframe\">\n",
       "<caption>A data.frame: 10 × 5</caption>\n",
       "<thead>\n",
       "\t<tr><th scope=col>Variable</th><th scope=col>R_squared</th><th scope=col>P_value</th><th scope=col>n</th><th scope=col>Index</th></tr>\n",
       "\t<tr><th scope=col>&lt;chr&gt;</th><th scope=col>&lt;dbl&gt;</th><th scope=col>&lt;dbl&gt;</th><th scope=col>&lt;dbl&gt;</th><th scope=col>&lt;dbl&gt;</th></tr>\n",
       "</thead>\n",
       "<tbody>\n",
       "\t<tr><td>Age           </td><td>0.0463302425</td><td>0.04161063</td><td>90</td><td>0</td></tr>\n",
       "\t<tr><td>Sex           </td><td>0.0051587196</td><td>0.50111949</td><td>90</td><td>0</td></tr>\n",
       "\t<tr><td>BMI           </td><td>0.0452229045</td><td>0.05824519</td><td>80</td><td>0</td></tr>\n",
       "\t<tr><td>Smoking       </td><td>0.0020919688</td><td>0.67038847</td><td>89</td><td>0</td></tr>\n",
       "\t<tr><td>PGA           </td><td>0.0068953573</td><td>0.66265663</td><td>30</td><td>0</td></tr>\n",
       "\t<tr><td>CRP           </td><td>0.0003192713</td><td>0.89221225</td><td>60</td><td>0</td></tr>\n",
       "\t<tr><td>Prednisone_use</td><td>0.0666894147</td><td>0.04634969</td><td>60</td><td>0</td></tr>\n",
       "\t<tr><td>Aspirin       </td><td>0.0000000000</td><td>0.00000000</td><td> 0</td><td>0</td></tr>\n",
       "\t<tr><td>Study_group   </td><td>0.0000000000</td><td>0.00000000</td><td> 0</td><td>0</td></tr>\n",
       "\t<tr><td>Methotrexate  </td><td>0.0000000000</td><td>0.00000000</td><td> 0</td><td>0</td></tr>\n",
       "</tbody>\n",
       "</table>\n"
      ],
      "text/latex": [
       "A data.frame: 10 × 5\n",
       "\\begin{tabular}{lllll}\n",
       " Variable & R\\_squared & P\\_value & n & Index\\\\\n",
       " <chr> & <dbl> & <dbl> & <dbl> & <dbl>\\\\\n",
       "\\hline\n",
       "\t Age            & 0.0463302425 & 0.04161063 & 90 & 0\\\\\n",
       "\t Sex            & 0.0051587196 & 0.50111949 & 90 & 0\\\\\n",
       "\t BMI            & 0.0452229045 & 0.05824519 & 80 & 0\\\\\n",
       "\t Smoking        & 0.0020919688 & 0.67038847 & 89 & 0\\\\\n",
       "\t PGA            & 0.0068953573 & 0.66265663 & 30 & 0\\\\\n",
       "\t CRP            & 0.0003192713 & 0.89221225 & 60 & 0\\\\\n",
       "\t Prednisone\\_use & 0.0666894147 & 0.04634969 & 60 & 0\\\\\n",
       "\t Aspirin        & 0.0000000000 & 0.00000000 &  0 & 0\\\\\n",
       "\t Study\\_group    & 0.0000000000 & 0.00000000 &  0 & 0\\\\\n",
       "\t Methotrexate   & 0.0000000000 & 0.00000000 &  0 & 0\\\\\n",
       "\\end{tabular}\n"
      ],
      "text/markdown": [
       "\n",
       "A data.frame: 10 × 5\n",
       "\n",
       "| Variable &lt;chr&gt; | R_squared &lt;dbl&gt; | P_value &lt;dbl&gt; | n &lt;dbl&gt; | Index &lt;dbl&gt; |\n",
       "|---|---|---|---|---|\n",
       "| Age            | 0.0463302425 | 0.04161063 | 90 | 0 |\n",
       "| Sex            | 0.0051587196 | 0.50111949 | 90 | 0 |\n",
       "| BMI            | 0.0452229045 | 0.05824519 | 80 | 0 |\n",
       "| Smoking        | 0.0020919688 | 0.67038847 | 89 | 0 |\n",
       "| PGA            | 0.0068953573 | 0.66265663 | 30 | 0 |\n",
       "| CRP            | 0.0003192713 | 0.89221225 | 60 | 0 |\n",
       "| Prednisone_use | 0.0666894147 | 0.04634969 | 60 | 0 |\n",
       "| Aspirin        | 0.0000000000 | 0.00000000 |  0 | 0 |\n",
       "| Study_group    | 0.0000000000 | 0.00000000 |  0 | 0 |\n",
       "| Methotrexate   | 0.0000000000 | 0.00000000 |  0 | 0 |\n",
       "\n"
      ],
      "text/plain": [
       "   Variable       R_squared    P_value    n  Index\n",
       "1  Age            0.0463302425 0.04161063 90 0    \n",
       "2  Sex            0.0051587196 0.50111949 90 0    \n",
       "3  BMI            0.0452229045 0.05824519 80 0    \n",
       "4  Smoking        0.0020919688 0.67038847 89 0    \n",
       "5  PGA            0.0068953573 0.66265663 30 0    \n",
       "6  CRP            0.0003192713 0.89221225 60 0    \n",
       "7  Prednisone_use 0.0666894147 0.04634969 60 0    \n",
       "8  Aspirin        0.0000000000 0.00000000  0 0    \n",
       "9  Study_group    0.0000000000 0.00000000  0 0    \n",
       "10 Methotrexate   0.0000000000 0.00000000  0 0    "
      ]
     },
     "metadata": {},
     "output_type": "display_data"
    }
   ],
   "source": [
    "r_squared = summary(prednisone_lm)$r.squared\n",
    "linear_models[7,2] = r_squared\n",
    "coefficient_pvalue = summary(prednisone_lm)$coefficients[,4] [2]\n",
    "linear_models[7,3] = coefficient_pvalue\n",
    "linear_models[7,4] = nrow(all_prednisone_df)\n",
    "linear_models\n"
   ]
  },
  {
   "cell_type": "code",
   "execution_count": 23,
   "id": "2cb8c109-6f25-4e8b-9f84-4602f8c864ca",
   "metadata": {},
   "outputs": [
    {
     "data": {
      "text/plain": [
       "\n",
       "Call:\n",
       "lm(formula = PC1 ~ Aspirin_use, data = all_aspirin_df)\n",
       "\n",
       "Residuals:\n",
       "    Min      1Q  Median      3Q     Max \n",
       "-391918 -288396 -183347  348451  566471 \n",
       "\n",
       "Coefficients:\n",
       "               Estimate Std. Error t value Pr(>|t|)   \n",
       "(Intercept)     -179977      67358  -2.672  0.00977 **\n",
       "Aspirin_useYes    64640      89480   0.722  0.47295   \n",
       "---\n",
       "Signif. codes:  0 ‘***’ 0.001 ‘**’ 0.01 ‘*’ 0.05 ‘.’ 0.1 ‘ ’ 1\n",
       "\n",
       "Residual standard error: 343500 on 58 degrees of freedom\n",
       "Multiple R-squared:  0.008917,\tAdjusted R-squared:  -0.00817 \n",
       "F-statistic: 0.5219 on 1 and 58 DF,  p-value: 0.473\n"
      ]
     },
     "metadata": {},
     "output_type": "display_data"
    }
   ],
   "source": [
    "#aspirin next, active and inactive\n",
    "active_aspirin = data.frame(active_demographics_df$Aspirin)\n",
    "colnames(active_aspirin) = \"Aspirin_use\"\n",
    "active_aspirin$PC1 = active_pc1$PC1\n",
    "\n",
    "inactive_aspirin = data.frame(inactive_demographics_df$Aspirin)\n",
    "colnames(inactive_aspirin) = \"Aspirin_use\"\n",
    "inactive_aspirin$PC1 = inactive_pc1$PC1\n",
    "\n",
    "all_aspirin_df = rbind(active_aspirin, inactive_aspirin)\n",
    "\n",
    "\n",
    "aspirin_lm = lm(data = all_aspirin_df, PC1 ~ Aspirin_use)\n",
    "summary(aspirin_lm)"
   ]
  },
  {
   "cell_type": "code",
   "execution_count": 24,
   "id": "568f38de-c4cf-446c-845f-d20af7e3353c",
   "metadata": {},
   "outputs": [
    {
     "data": {
      "text/html": [
       "<table class=\"dataframe\">\n",
       "<caption>A data.frame: 10 × 5</caption>\n",
       "<thead>\n",
       "\t<tr><th scope=col>Variable</th><th scope=col>R_squared</th><th scope=col>P_value</th><th scope=col>n</th><th scope=col>Index</th></tr>\n",
       "\t<tr><th scope=col>&lt;chr&gt;</th><th scope=col>&lt;dbl&gt;</th><th scope=col>&lt;dbl&gt;</th><th scope=col>&lt;dbl&gt;</th><th scope=col>&lt;dbl&gt;</th></tr>\n",
       "</thead>\n",
       "<tbody>\n",
       "\t<tr><td>Age           </td><td>0.0463302425</td><td>0.04161063</td><td>90</td><td>0</td></tr>\n",
       "\t<tr><td>Sex           </td><td>0.0051587196</td><td>0.50111949</td><td>90</td><td>0</td></tr>\n",
       "\t<tr><td>BMI           </td><td>0.0452229045</td><td>0.05824519</td><td>80</td><td>0</td></tr>\n",
       "\t<tr><td>Smoking       </td><td>0.0020919688</td><td>0.67038847</td><td>89</td><td>0</td></tr>\n",
       "\t<tr><td>PGA           </td><td>0.0068953573</td><td>0.66265663</td><td>30</td><td>0</td></tr>\n",
       "\t<tr><td>CRP           </td><td>0.0003192713</td><td>0.89221225</td><td>60</td><td>0</td></tr>\n",
       "\t<tr><td>Prednisone_use</td><td>0.0666894147</td><td>0.04634969</td><td>60</td><td>0</td></tr>\n",
       "\t<tr><td>Aspirin       </td><td>0.0089173080</td><td>0.47295321</td><td>60</td><td>0</td></tr>\n",
       "\t<tr><td>Study_group   </td><td>0.0000000000</td><td>0.00000000</td><td> 0</td><td>0</td></tr>\n",
       "\t<tr><td>Methotrexate  </td><td>0.0000000000</td><td>0.00000000</td><td> 0</td><td>0</td></tr>\n",
       "</tbody>\n",
       "</table>\n"
      ],
      "text/latex": [
       "A data.frame: 10 × 5\n",
       "\\begin{tabular}{lllll}\n",
       " Variable & R\\_squared & P\\_value & n & Index\\\\\n",
       " <chr> & <dbl> & <dbl> & <dbl> & <dbl>\\\\\n",
       "\\hline\n",
       "\t Age            & 0.0463302425 & 0.04161063 & 90 & 0\\\\\n",
       "\t Sex            & 0.0051587196 & 0.50111949 & 90 & 0\\\\\n",
       "\t BMI            & 0.0452229045 & 0.05824519 & 80 & 0\\\\\n",
       "\t Smoking        & 0.0020919688 & 0.67038847 & 89 & 0\\\\\n",
       "\t PGA            & 0.0068953573 & 0.66265663 & 30 & 0\\\\\n",
       "\t CRP            & 0.0003192713 & 0.89221225 & 60 & 0\\\\\n",
       "\t Prednisone\\_use & 0.0666894147 & 0.04634969 & 60 & 0\\\\\n",
       "\t Aspirin        & 0.0089173080 & 0.47295321 & 60 & 0\\\\\n",
       "\t Study\\_group    & 0.0000000000 & 0.00000000 &  0 & 0\\\\\n",
       "\t Methotrexate   & 0.0000000000 & 0.00000000 &  0 & 0\\\\\n",
       "\\end{tabular}\n"
      ],
      "text/markdown": [
       "\n",
       "A data.frame: 10 × 5\n",
       "\n",
       "| Variable &lt;chr&gt; | R_squared &lt;dbl&gt; | P_value &lt;dbl&gt; | n &lt;dbl&gt; | Index &lt;dbl&gt; |\n",
       "|---|---|---|---|---|\n",
       "| Age            | 0.0463302425 | 0.04161063 | 90 | 0 |\n",
       "| Sex            | 0.0051587196 | 0.50111949 | 90 | 0 |\n",
       "| BMI            | 0.0452229045 | 0.05824519 | 80 | 0 |\n",
       "| Smoking        | 0.0020919688 | 0.67038847 | 89 | 0 |\n",
       "| PGA            | 0.0068953573 | 0.66265663 | 30 | 0 |\n",
       "| CRP            | 0.0003192713 | 0.89221225 | 60 | 0 |\n",
       "| Prednisone_use | 0.0666894147 | 0.04634969 | 60 | 0 |\n",
       "| Aspirin        | 0.0089173080 | 0.47295321 | 60 | 0 |\n",
       "| Study_group    | 0.0000000000 | 0.00000000 |  0 | 0 |\n",
       "| Methotrexate   | 0.0000000000 | 0.00000000 |  0 | 0 |\n",
       "\n"
      ],
      "text/plain": [
       "   Variable       R_squared    P_value    n  Index\n",
       "1  Age            0.0463302425 0.04161063 90 0    \n",
       "2  Sex            0.0051587196 0.50111949 90 0    \n",
       "3  BMI            0.0452229045 0.05824519 80 0    \n",
       "4  Smoking        0.0020919688 0.67038847 89 0    \n",
       "5  PGA            0.0068953573 0.66265663 30 0    \n",
       "6  CRP            0.0003192713 0.89221225 60 0    \n",
       "7  Prednisone_use 0.0666894147 0.04634969 60 0    \n",
       "8  Aspirin        0.0089173080 0.47295321 60 0    \n",
       "9  Study_group    0.0000000000 0.00000000  0 0    \n",
       "10 Methotrexate   0.0000000000 0.00000000  0 0    "
      ]
     },
     "metadata": {},
     "output_type": "display_data"
    }
   ],
   "source": [
    "r_squared = summary(aspirin_lm)$r.squared\n",
    "linear_models[8,2] = r_squared\n",
    "coefficient_pvalue = summary(aspirin_lm)$coefficients[,4] [2]\n",
    "linear_models[8,3] = coefficient_pvalue\n",
    "linear_models[8,4] = nrow(all_aspirin_df)\n",
    "linear_models\n"
   ]
  },
  {
   "cell_type": "code",
   "execution_count": 25,
   "id": "a9e52e9b-e2c0-4ec9-8ad8-5b49c41acd23",
   "metadata": {},
   "outputs": [
    {
     "data": {
      "text/plain": [
       "\n",
       "Call:\n",
       "lm(formula = PC1 ~ Study_group, data = all_study_groups)\n",
       "\n",
       "Residuals:\n",
       "    Min      1Q  Median      3Q     Max \n",
       "-461115 -281862  -26517  188367  581979 \n",
       "\n",
       "Coefficients:\n",
       "                    Estimate Std. Error t value Pr(>|t|)    \n",
       "(Intercept)          -139808      54763  -2.553   0.0124 *  \n",
       "Study_groupcontrol    426503      77446   5.507 3.65e-07 ***\n",
       "Study_groupInactive    -7078      77446  -0.091   0.9274    \n",
       "---\n",
       "Signif. codes:  0 ‘***’ 0.001 ‘**’ 0.01 ‘*’ 0.05 ‘.’ 0.1 ‘ ’ 1\n",
       "\n",
       "Residual standard error: 299900 on 87 degrees of freedom\n",
       "Multiple R-squared:  0.3209,\tAdjusted R-squared:  0.3053 \n",
       "F-statistic: 20.56 on 2 and 87 DF,  p-value: 4.873e-08\n"
      ]
     },
     "metadata": {},
     "output_type": "display_data"
    }
   ],
   "source": [
    "#use all study groups\n",
    "active_study_group = data.frame(active_demographics_df$Study_group)\n",
    "colnames(active_study_group) = \"Study_group\"\n",
    "active_study_group$PC1 = active_pc1$PC1\n",
    "\n",
    "inactive_study_group = data.frame(inactive_demographics_df$Study_group)\n",
    "colnames(inactive_study_group) = \"Study_group\"\n",
    "inactive_study_group$PC1 = inactive_pc1$PC1\n",
    "\n",
    "control_study_group= data.frame(controls_demographics_df$Study_group)\n",
    "colnames(control_study_group) = \"Study_group\"\n",
    "control_study_group$PC1 = control_pc1$PC1\n",
    "\n",
    "\n",
    "\n",
    "all_study_groups = rbind(active_study_group,inactive_study_group,control_study_group)\n",
    "\n",
    "\n",
    "study_group_lm = lm(data = all_study_groups, PC1~Study_group)\n",
    "summary(study_group_lm)"
   ]
  },
  {
   "cell_type": "code",
   "execution_count": 26,
   "id": "ac00813d-585d-435a-a922-3d3bdc8c94ab",
   "metadata": {},
   "outputs": [
    {
     "data": {
      "text/html": [
       "<table class=\"dataframe\">\n",
       "<caption>A data.frame: 10 × 5</caption>\n",
       "<thead>\n",
       "\t<tr><th scope=col>Variable</th><th scope=col>R_squared</th><th scope=col>P_value</th><th scope=col>n</th><th scope=col>Index</th></tr>\n",
       "\t<tr><th scope=col>&lt;chr&gt;</th><th scope=col>&lt;dbl&gt;</th><th scope=col>&lt;dbl&gt;</th><th scope=col>&lt;dbl&gt;</th><th scope=col>&lt;dbl&gt;</th></tr>\n",
       "</thead>\n",
       "<tbody>\n",
       "\t<tr><td>Age           </td><td>0.0463302425</td><td>4.161063e-02</td><td>90</td><td>0</td></tr>\n",
       "\t<tr><td>Sex           </td><td>0.0051587196</td><td>5.011195e-01</td><td>90</td><td>0</td></tr>\n",
       "\t<tr><td>BMI           </td><td>0.0452229045</td><td>5.824519e-02</td><td>80</td><td>0</td></tr>\n",
       "\t<tr><td>Smoking       </td><td>0.0020919688</td><td>6.703885e-01</td><td>89</td><td>0</td></tr>\n",
       "\t<tr><td>PGA           </td><td>0.0068953573</td><td>6.626566e-01</td><td>30</td><td>0</td></tr>\n",
       "\t<tr><td>CRP           </td><td>0.0003192713</td><td>8.922123e-01</td><td>60</td><td>0</td></tr>\n",
       "\t<tr><td>Prednisone_use</td><td>0.0666894147</td><td>4.634969e-02</td><td>60</td><td>0</td></tr>\n",
       "\t<tr><td>Aspirin       </td><td>0.0089173080</td><td>4.729532e-01</td><td>60</td><td>0</td></tr>\n",
       "\t<tr><td>Study_group   </td><td>0.3209482932</td><td>3.645508e-07</td><td>90</td><td>0</td></tr>\n",
       "\t<tr><td>Methotrexate  </td><td>0.0000000000</td><td>0.000000e+00</td><td> 0</td><td>0</td></tr>\n",
       "</tbody>\n",
       "</table>\n"
      ],
      "text/latex": [
       "A data.frame: 10 × 5\n",
       "\\begin{tabular}{lllll}\n",
       " Variable & R\\_squared & P\\_value & n & Index\\\\\n",
       " <chr> & <dbl> & <dbl> & <dbl> & <dbl>\\\\\n",
       "\\hline\n",
       "\t Age            & 0.0463302425 & 4.161063e-02 & 90 & 0\\\\\n",
       "\t Sex            & 0.0051587196 & 5.011195e-01 & 90 & 0\\\\\n",
       "\t BMI            & 0.0452229045 & 5.824519e-02 & 80 & 0\\\\\n",
       "\t Smoking        & 0.0020919688 & 6.703885e-01 & 89 & 0\\\\\n",
       "\t PGA            & 0.0068953573 & 6.626566e-01 & 30 & 0\\\\\n",
       "\t CRP            & 0.0003192713 & 8.922123e-01 & 60 & 0\\\\\n",
       "\t Prednisone\\_use & 0.0666894147 & 4.634969e-02 & 60 & 0\\\\\n",
       "\t Aspirin        & 0.0089173080 & 4.729532e-01 & 60 & 0\\\\\n",
       "\t Study\\_group    & 0.3209482932 & 3.645508e-07 & 90 & 0\\\\\n",
       "\t Methotrexate   & 0.0000000000 & 0.000000e+00 &  0 & 0\\\\\n",
       "\\end{tabular}\n"
      ],
      "text/markdown": [
       "\n",
       "A data.frame: 10 × 5\n",
       "\n",
       "| Variable &lt;chr&gt; | R_squared &lt;dbl&gt; | P_value &lt;dbl&gt; | n &lt;dbl&gt; | Index &lt;dbl&gt; |\n",
       "|---|---|---|---|---|\n",
       "| Age            | 0.0463302425 | 4.161063e-02 | 90 | 0 |\n",
       "| Sex            | 0.0051587196 | 5.011195e-01 | 90 | 0 |\n",
       "| BMI            | 0.0452229045 | 5.824519e-02 | 80 | 0 |\n",
       "| Smoking        | 0.0020919688 | 6.703885e-01 | 89 | 0 |\n",
       "| PGA            | 0.0068953573 | 6.626566e-01 | 30 | 0 |\n",
       "| CRP            | 0.0003192713 | 8.922123e-01 | 60 | 0 |\n",
       "| Prednisone_use | 0.0666894147 | 4.634969e-02 | 60 | 0 |\n",
       "| Aspirin        | 0.0089173080 | 4.729532e-01 | 60 | 0 |\n",
       "| Study_group    | 0.3209482932 | 3.645508e-07 | 90 | 0 |\n",
       "| Methotrexate   | 0.0000000000 | 0.000000e+00 |  0 | 0 |\n",
       "\n"
      ],
      "text/plain": [
       "   Variable       R_squared    P_value      n  Index\n",
       "1  Age            0.0463302425 4.161063e-02 90 0    \n",
       "2  Sex            0.0051587196 5.011195e-01 90 0    \n",
       "3  BMI            0.0452229045 5.824519e-02 80 0    \n",
       "4  Smoking        0.0020919688 6.703885e-01 89 0    \n",
       "5  PGA            0.0068953573 6.626566e-01 30 0    \n",
       "6  CRP            0.0003192713 8.922123e-01 60 0    \n",
       "7  Prednisone_use 0.0666894147 4.634969e-02 60 0    \n",
       "8  Aspirin        0.0089173080 4.729532e-01 60 0    \n",
       "9  Study_group    0.3209482932 3.645508e-07 90 0    \n",
       "10 Methotrexate   0.0000000000 0.000000e+00  0 0    "
      ]
     },
     "metadata": {},
     "output_type": "display_data"
    }
   ],
   "source": [
    "r_squared = summary(study_group_lm)$r.squared\n",
    "linear_models[9,2] = r_squared\n",
    "coefficient_pvalue = summary(study_group_lm)$coefficients[,4] [2]\n",
    "linear_models[9,3] = coefficient_pvalue\n",
    "linear_models[9,4] = nrow(all_study_groups)\n",
    "linear_models\n"
   ]
  },
  {
   "cell_type": "code",
   "execution_count": 27,
   "id": "fde5cff9-9d77-49ba-b023-975564f71d58",
   "metadata": {},
   "outputs": [
    {
     "data": {
      "text/plain": [
       "\n",
       "Call:\n",
       "lm(formula = PC1 ~ methotrexate, data = all_methotrexate_df)\n",
       "\n",
       "Residuals:\n",
       "    Min      1Q  Median      3Q     Max \n",
       "-363765 -291826 -211802  352840  578581 \n",
       "\n",
       "Coefficients:\n",
       "                       Estimate Std. Error t value Pr(>|t|)   \n",
       "(Intercept)           -143489.0    49797.0  -2.881  0.00554 **\n",
       "methotrexatePast Week     707.6   111349.4   0.006  0.99495   \n",
       "---\n",
       "Signif. codes:  0 ‘***’ 0.001 ‘**’ 0.01 ‘*’ 0.05 ‘.’ 0.1 ‘ ’ 1\n",
       "\n",
       "Residual standard error: 345000 on 58 degrees of freedom\n",
       "Multiple R-squared:  6.963e-07,\tAdjusted R-squared:  -0.01724 \n",
       "F-statistic: 4.039e-05 on 1 and 58 DF,  p-value: 0.995\n"
      ]
     },
     "metadata": {},
     "output_type": "display_data"
    }
   ],
   "source": [
    "#use Abatacept_lefluomide_methotrexate\n",
    "active_methotrexate = data.frame(active_demographics_df$MethotrexateWasTaken)\n",
    "colnames(active_methotrexate) = \"methotrexate\"\n",
    "active_methotrexate$PC1 = active_pc1$PC1\n",
    "\n",
    "inactive_methotrexate = data.frame(inactive_demographics_df$MethotrexateWasTaken)\n",
    "colnames(inactive_methotrexate) = \"methotrexate\"\n",
    "inactive_methotrexate$PC1 = inactive_pc1$PC1\n",
    "\n",
    "all_methotrexate_df = rbind(active_methotrexate, inactive_methotrexate)\n",
    "\n",
    "\n",
    "methotrexate_lm = lm(data = all_methotrexate_df, PC1 ~ methotrexate)\n",
    "summary(methotrexate_lm)"
   ]
  },
  {
   "cell_type": "code",
   "execution_count": 28,
   "id": "dbb9f4c0-3824-4090-b2d1-d97f0900b879",
   "metadata": {},
   "outputs": [
    {
     "data": {
      "text/html": [
       "<table class=\"dataframe\">\n",
       "<caption>A data.frame: 10 × 5</caption>\n",
       "<thead>\n",
       "\t<tr><th scope=col>Variable</th><th scope=col>R_squared</th><th scope=col>P_value</th><th scope=col>n</th><th scope=col>Index</th></tr>\n",
       "\t<tr><th scope=col>&lt;chr&gt;</th><th scope=col>&lt;dbl&gt;</th><th scope=col>&lt;dbl&gt;</th><th scope=col>&lt;dbl&gt;</th><th scope=col>&lt;dbl&gt;</th></tr>\n",
       "</thead>\n",
       "<tbody>\n",
       "\t<tr><td>Age           </td><td>4.633024e-02</td><td>4.161063e-02</td><td>90</td><td>0</td></tr>\n",
       "\t<tr><td>Sex           </td><td>5.158720e-03</td><td>5.011195e-01</td><td>90</td><td>0</td></tr>\n",
       "\t<tr><td>BMI           </td><td>4.522290e-02</td><td>5.824519e-02</td><td>80</td><td>0</td></tr>\n",
       "\t<tr><td>Smoking       </td><td>2.091969e-03</td><td>6.703885e-01</td><td>89</td><td>0</td></tr>\n",
       "\t<tr><td>PGA           </td><td>6.895357e-03</td><td>6.626566e-01</td><td>30</td><td>0</td></tr>\n",
       "\t<tr><td>CRP           </td><td>3.192713e-04</td><td>8.922123e-01</td><td>60</td><td>0</td></tr>\n",
       "\t<tr><td>Prednisone_use</td><td>6.668941e-02</td><td>4.634969e-02</td><td>60</td><td>0</td></tr>\n",
       "\t<tr><td>Aspirin       </td><td>8.917308e-03</td><td>4.729532e-01</td><td>60</td><td>0</td></tr>\n",
       "\t<tr><td>Study_group   </td><td>3.209483e-01</td><td>3.645508e-07</td><td>90</td><td>0</td></tr>\n",
       "\t<tr><td>Methotrexate  </td><td>6.963072e-07</td><td>9.949513e-01</td><td>60</td><td>0</td></tr>\n",
       "</tbody>\n",
       "</table>\n"
      ],
      "text/latex": [
       "A data.frame: 10 × 5\n",
       "\\begin{tabular}{lllll}\n",
       " Variable & R\\_squared & P\\_value & n & Index\\\\\n",
       " <chr> & <dbl> & <dbl> & <dbl> & <dbl>\\\\\n",
       "\\hline\n",
       "\t Age            & 4.633024e-02 & 4.161063e-02 & 90 & 0\\\\\n",
       "\t Sex            & 5.158720e-03 & 5.011195e-01 & 90 & 0\\\\\n",
       "\t BMI            & 4.522290e-02 & 5.824519e-02 & 80 & 0\\\\\n",
       "\t Smoking        & 2.091969e-03 & 6.703885e-01 & 89 & 0\\\\\n",
       "\t PGA            & 6.895357e-03 & 6.626566e-01 & 30 & 0\\\\\n",
       "\t CRP            & 3.192713e-04 & 8.922123e-01 & 60 & 0\\\\\n",
       "\t Prednisone\\_use & 6.668941e-02 & 4.634969e-02 & 60 & 0\\\\\n",
       "\t Aspirin        & 8.917308e-03 & 4.729532e-01 & 60 & 0\\\\\n",
       "\t Study\\_group    & 3.209483e-01 & 3.645508e-07 & 90 & 0\\\\\n",
       "\t Methotrexate   & 6.963072e-07 & 9.949513e-01 & 60 & 0\\\\\n",
       "\\end{tabular}\n"
      ],
      "text/markdown": [
       "\n",
       "A data.frame: 10 × 5\n",
       "\n",
       "| Variable &lt;chr&gt; | R_squared &lt;dbl&gt; | P_value &lt;dbl&gt; | n &lt;dbl&gt; | Index &lt;dbl&gt; |\n",
       "|---|---|---|---|---|\n",
       "| Age            | 4.633024e-02 | 4.161063e-02 | 90 | 0 |\n",
       "| Sex            | 5.158720e-03 | 5.011195e-01 | 90 | 0 |\n",
       "| BMI            | 4.522290e-02 | 5.824519e-02 | 80 | 0 |\n",
       "| Smoking        | 2.091969e-03 | 6.703885e-01 | 89 | 0 |\n",
       "| PGA            | 6.895357e-03 | 6.626566e-01 | 30 | 0 |\n",
       "| CRP            | 3.192713e-04 | 8.922123e-01 | 60 | 0 |\n",
       "| Prednisone_use | 6.668941e-02 | 4.634969e-02 | 60 | 0 |\n",
       "| Aspirin        | 8.917308e-03 | 4.729532e-01 | 60 | 0 |\n",
       "| Study_group    | 3.209483e-01 | 3.645508e-07 | 90 | 0 |\n",
       "| Methotrexate   | 6.963072e-07 | 9.949513e-01 | 60 | 0 |\n",
       "\n"
      ],
      "text/plain": [
       "   Variable       R_squared    P_value      n  Index\n",
       "1  Age            4.633024e-02 4.161063e-02 90 0    \n",
       "2  Sex            5.158720e-03 5.011195e-01 90 0    \n",
       "3  BMI            4.522290e-02 5.824519e-02 80 0    \n",
       "4  Smoking        2.091969e-03 6.703885e-01 89 0    \n",
       "5  PGA            6.895357e-03 6.626566e-01 30 0    \n",
       "6  CRP            3.192713e-04 8.922123e-01 60 0    \n",
       "7  Prednisone_use 6.668941e-02 4.634969e-02 60 0    \n",
       "8  Aspirin        8.917308e-03 4.729532e-01 60 0    \n",
       "9  Study_group    3.209483e-01 3.645508e-07 90 0    \n",
       "10 Methotrexate   6.963072e-07 9.949513e-01 60 0    "
      ]
     },
     "metadata": {},
     "output_type": "display_data"
    }
   ],
   "source": [
    "r_squared = summary(methotrexate_lm)$r.squared\n",
    "linear_models[10,2] = r_squared\n",
    "coefficient_pvalue = summary(methotrexate_lm)$coefficients[,4] [2]\n",
    "linear_models[10,3] = coefficient_pvalue\n",
    "linear_models[10,4] = nrow(all_methotrexate_df)\n",
    "linear_models\n"
   ]
  },
  {
   "cell_type": "code",
   "execution_count": 29,
   "id": "227e3f62-a7e1-4c0b-8103-c74f765020c4",
   "metadata": {},
   "outputs": [
    {
     "data": {
      "text/html": [
       "<table class=\"dataframe\">\n",
       "<caption>A data.frame: 10 × 5</caption>\n",
       "<thead>\n",
       "\t<tr><th></th><th scope=col>Variable</th><th scope=col>R_squared</th><th scope=col>P_value</th><th scope=col>n</th><th scope=col>Index</th></tr>\n",
       "\t<tr><th></th><th scope=col>&lt;chr&gt;</th><th scope=col>&lt;dbl&gt;</th><th scope=col>&lt;dbl&gt;</th><th scope=col>&lt;dbl&gt;</th><th scope=col>&lt;dbl&gt;</th></tr>\n",
       "</thead>\n",
       "<tbody>\n",
       "\t<tr><th scope=row>9</th><td>Study_group   </td><td>3.209483e-01</td><td>3.645508e-07</td><td>90</td><td> 1</td></tr>\n",
       "\t<tr><th scope=row>1</th><td>Age           </td><td>4.633024e-02</td><td>4.161063e-02</td><td>90</td><td> 2</td></tr>\n",
       "\t<tr><th scope=row>7</th><td>Prednisone_use</td><td>6.668941e-02</td><td>4.634969e-02</td><td>60</td><td> 3</td></tr>\n",
       "\t<tr><th scope=row>3</th><td>BMI           </td><td>4.522290e-02</td><td>5.824519e-02</td><td>80</td><td> 4</td></tr>\n",
       "\t<tr><th scope=row>8</th><td>Aspirin       </td><td>8.917308e-03</td><td>4.729532e-01</td><td>60</td><td> 5</td></tr>\n",
       "\t<tr><th scope=row>2</th><td>Sex           </td><td>5.158720e-03</td><td>5.011195e-01</td><td>90</td><td> 6</td></tr>\n",
       "\t<tr><th scope=row>5</th><td>PGA           </td><td>6.895357e-03</td><td>6.626566e-01</td><td>30</td><td> 7</td></tr>\n",
       "\t<tr><th scope=row>4</th><td>Smoking       </td><td>2.091969e-03</td><td>6.703885e-01</td><td>89</td><td> 8</td></tr>\n",
       "\t<tr><th scope=row>6</th><td>CRP           </td><td>3.192713e-04</td><td>8.922123e-01</td><td>60</td><td> 9</td></tr>\n",
       "\t<tr><th scope=row>10</th><td>Methotrexate  </td><td>6.963072e-07</td><td>9.949513e-01</td><td>60</td><td>10</td></tr>\n",
       "</tbody>\n",
       "</table>\n"
      ],
      "text/latex": [
       "A data.frame: 10 × 5\n",
       "\\begin{tabular}{r|lllll}\n",
       "  & Variable & R\\_squared & P\\_value & n & Index\\\\\n",
       "  & <chr> & <dbl> & <dbl> & <dbl> & <dbl>\\\\\n",
       "\\hline\n",
       "\t9 & Study\\_group    & 3.209483e-01 & 3.645508e-07 & 90 &  1\\\\\n",
       "\t1 & Age            & 4.633024e-02 & 4.161063e-02 & 90 &  2\\\\\n",
       "\t7 & Prednisone\\_use & 6.668941e-02 & 4.634969e-02 & 60 &  3\\\\\n",
       "\t3 & BMI            & 4.522290e-02 & 5.824519e-02 & 80 &  4\\\\\n",
       "\t8 & Aspirin        & 8.917308e-03 & 4.729532e-01 & 60 &  5\\\\\n",
       "\t2 & Sex            & 5.158720e-03 & 5.011195e-01 & 90 &  6\\\\\n",
       "\t5 & PGA            & 6.895357e-03 & 6.626566e-01 & 30 &  7\\\\\n",
       "\t4 & Smoking        & 2.091969e-03 & 6.703885e-01 & 89 &  8\\\\\n",
       "\t6 & CRP            & 3.192713e-04 & 8.922123e-01 & 60 &  9\\\\\n",
       "\t10 & Methotrexate   & 6.963072e-07 & 9.949513e-01 & 60 & 10\\\\\n",
       "\\end{tabular}\n"
      ],
      "text/markdown": [
       "\n",
       "A data.frame: 10 × 5\n",
       "\n",
       "| <!--/--> | Variable &lt;chr&gt; | R_squared &lt;dbl&gt; | P_value &lt;dbl&gt; | n &lt;dbl&gt; | Index &lt;dbl&gt; |\n",
       "|---|---|---|---|---|---|\n",
       "| 9 | Study_group    | 3.209483e-01 | 3.645508e-07 | 90 |  1 |\n",
       "| 1 | Age            | 4.633024e-02 | 4.161063e-02 | 90 |  2 |\n",
       "| 7 | Prednisone_use | 6.668941e-02 | 4.634969e-02 | 60 |  3 |\n",
       "| 3 | BMI            | 4.522290e-02 | 5.824519e-02 | 80 |  4 |\n",
       "| 8 | Aspirin        | 8.917308e-03 | 4.729532e-01 | 60 |  5 |\n",
       "| 2 | Sex            | 5.158720e-03 | 5.011195e-01 | 90 |  6 |\n",
       "| 5 | PGA            | 6.895357e-03 | 6.626566e-01 | 30 |  7 |\n",
       "| 4 | Smoking        | 2.091969e-03 | 6.703885e-01 | 89 |  8 |\n",
       "| 6 | CRP            | 3.192713e-04 | 8.922123e-01 | 60 |  9 |\n",
       "| 10 | Methotrexate   | 6.963072e-07 | 9.949513e-01 | 60 | 10 |\n",
       "\n"
      ],
      "text/plain": [
       "   Variable       R_squared    P_value      n  Index\n",
       "9  Study_group    3.209483e-01 3.645508e-07 90  1   \n",
       "1  Age            4.633024e-02 4.161063e-02 90  2   \n",
       "7  Prednisone_use 6.668941e-02 4.634969e-02 60  3   \n",
       "3  BMI            4.522290e-02 5.824519e-02 80  4   \n",
       "8  Aspirin        8.917308e-03 4.729532e-01 60  5   \n",
       "2  Sex            5.158720e-03 5.011195e-01 90  6   \n",
       "5  PGA            6.895357e-03 6.626566e-01 30  7   \n",
       "4  Smoking        2.091969e-03 6.703885e-01 89  8   \n",
       "6  CRP            3.192713e-04 8.922123e-01 60  9   \n",
       "10 Methotrexate   6.963072e-07 9.949513e-01 60 10   "
      ]
     },
     "metadata": {},
     "output_type": "display_data"
    }
   ],
   "source": [
    "linear_models = linear_models[order(linear_models$P_value),]\n",
    "linear_models[1:10,5] = seq(1:10)\n",
    "linear_models"
   ]
  },
  {
   "cell_type": "code",
   "execution_count": 30,
   "id": "7d61c0b3-e910-45f0-ae25-8537856f2238",
   "metadata": {},
   "outputs": [
    {
     "data": {
      "image/png": "[encoded data removed]",
      "text/plain": [
       "plot without title"
      ]
     },
     "metadata": {
      "image/png": {
       "height": 420,
       "width": 420
      }
     },
     "output_type": "display_data"
    }
   ],
   "source": [
    "#make a lollipop plot of linear modeling p values\n",
    "lollipop_plot2 = ggplot(data = linear_models, aes(x = Index, y = -log10(P_value), color = Variable)) +\n",
    "                geom_point(data = linear_models, aes(x = Index, size = R_squared)) + geom_segment(aes(x=Index,xend=Index, y = 0, yend = -log10(P_value))) + \n",
    "                geom_hline(yintercept = -log10(0.05)) + scale_color_brewer(palette=\"Paired\")+\n",
    "                scale_x_discrete(limits=c(\"1\",\"2\",\"3\",\"4\",\"5\",\"6\",\"7\",\"8\",\"9\",\"10\")) + #+theme_bw()\n",
    "                scale_size_continuous(range  = c(0.1, 10),limits = c(0, 1), breaks = c(0.001, 0.01,0.05, 0.10, 0.15, 0.20, 0.25))\n",
    "lollipop_plot2"
   ]
  },
  {
   "cell_type": "code",
   "execution_count": 34,
   "id": "38c50a3d-f059-457b-bb94-0f107cea4082",
   "metadata": {},
   "outputs": [
    {
     "data": {
      "text/html": [
       "<strong>pdf:</strong> 2"
      ],
      "text/latex": [
       "\\textbf{pdf:} 2"
      ],
      "text/markdown": [
       "**pdf:** 2"
      ],
      "text/plain": [
       "pdf \n",
       "  2 "
      ]
     },
     "metadata": {},
     "output_type": "display_data"
    }
   ],
   "source": [
    "#save the plot\n",
    "pdf(\"../../analysis/Figure_1B_C_D/lollipop_plot_P_values_and_R_squared.pdf\", width = 10,height = 10)\n",
    "print(lollipop_plot2)\n",
    "dev.off()"
   ]
  },
  {
   "cell_type": "code",
   "execution_count": 143,
   "id": "99519cca-6e76-4700-ae60-8e1eac1d0a74",
   "metadata": {},
   "outputs": [
    {
     "data": {
      "text/html": [
       "<table class=\"dataframe\">\n",
       "<caption>A data.frame: 12 × 5</caption>\n",
       "<thead>\n",
       "\t<tr><th></th><th scope=col>Variable</th><th scope=col>R_squared</th><th scope=col>P_value</th><th scope=col>n</th><th scope=col>Index</th></tr>\n",
       "\t<tr><th></th><th scope=col>&lt;chr&gt;</th><th scope=col>&lt;dbl&gt;</th><th scope=col>&lt;dbl&gt;</th><th scope=col>&lt;dbl&gt;</th><th scope=col>&lt;dbl&gt;</th></tr>\n",
       "</thead>\n",
       "<tbody>\n",
       "\t<tr><th scope=row>9</th><td>Study_group                      </td><td>0.3209482932</td><td>3.645508e-07</td><td>90</td><td> 1</td></tr>\n",
       "\t<tr><th scope=row>11</th><td>Statin                           </td><td>0.0764827945</td><td>3.243279e-02</td><td>60</td><td> 2</td></tr>\n",
       "\t<tr><th scope=row>1</th><td>Age                              </td><td>0.0463302425</td><td>4.161063e-02</td><td>90</td><td> 3</td></tr>\n",
       "\t<tr><th scope=row>7</th><td>Prednisone_use                   </td><td>0.0666894147</td><td>4.634969e-02</td><td>60</td><td> 4</td></tr>\n",
       "\t<tr><th scope=row>3</th><td>BMI                              </td><td>0.0452229045</td><td>5.824519e-02</td><td>80</td><td> 5</td></tr>\n",
       "\t<tr><th scope=row>10</th><td>Abatacept_lefluomide_methotrexate</td><td>0.0141370039</td><td>3.655554e-01</td><td>60</td><td> 6</td></tr>\n",
       "\t<tr><th scope=row>12</th><td>Prednisone_dose                  </td><td>0.0278834661</td><td>4.463370e-01</td><td>23</td><td> 7</td></tr>\n",
       "\t<tr><th scope=row>8</th><td>Aspirin_clopidogrel              </td><td>0.0088362284</td><td>4.749814e-01</td><td>60</td><td> 8</td></tr>\n",
       "\t<tr><th scope=row>2</th><td>Sex                              </td><td>0.0051587196</td><td>5.011195e-01</td><td>90</td><td> 9</td></tr>\n",
       "\t<tr><th scope=row>5</th><td>PGA                              </td><td>0.0068953573</td><td>6.626566e-01</td><td>30</td><td>10</td></tr>\n",
       "\t<tr><th scope=row>4</th><td>Smoking                          </td><td>0.0019802464</td><td>6.788138e-01</td><td>89</td><td>11</td></tr>\n",
       "\t<tr><th scope=row>6</th><td>CRP                              </td><td>0.0003192713</td><td>8.922123e-01</td><td>60</td><td>12</td></tr>\n",
       "</tbody>\n",
       "</table>\n"
      ],
      "text/latex": [
       "A data.frame: 12 × 5\n",
       "\\begin{tabular}{r|lllll}\n",
       "  & Variable & R\\_squared & P\\_value & n & Index\\\\\n",
       "  & <chr> & <dbl> & <dbl> & <dbl> & <dbl>\\\\\n",
       "\\hline\n",
       "\t9 & Study\\_group                       & 0.3209482932 & 3.645508e-07 & 90 &  1\\\\\n",
       "\t11 & Statin                            & 0.0764827945 & 3.243279e-02 & 60 &  2\\\\\n",
       "\t1 & Age                               & 0.0463302425 & 4.161063e-02 & 90 &  3\\\\\n",
       "\t7 & Prednisone\\_use                    & 0.0666894147 & 4.634969e-02 & 60 &  4\\\\\n",
       "\t3 & BMI                               & 0.0452229045 & 5.824519e-02 & 80 &  5\\\\\n",
       "\t10 & Abatacept\\_lefluomide\\_methotrexate & 0.0141370039 & 3.655554e-01 & 60 &  6\\\\\n",
       "\t12 & Prednisone\\_dose                   & 0.0278834661 & 4.463370e-01 & 23 &  7\\\\\n",
       "\t8 & Aspirin\\_clopidogrel               & 0.0088362284 & 4.749814e-01 & 60 &  8\\\\\n",
       "\t2 & Sex                               & 0.0051587196 & 5.011195e-01 & 90 &  9\\\\\n",
       "\t5 & PGA                               & 0.0068953573 & 6.626566e-01 & 30 & 10\\\\\n",
       "\t4 & Smoking                           & 0.0019802464 & 6.788138e-01 & 89 & 11\\\\\n",
       "\t6 & CRP                               & 0.0003192713 & 8.922123e-01 & 60 & 12\\\\\n",
       "\\end{tabular}\n"
      ],
      "text/markdown": [
       "\n",
       "A data.frame: 12 × 5\n",
       "\n",
       "| <!--/--> | Variable &lt;chr&gt; | R_squared &lt;dbl&gt; | P_value &lt;dbl&gt; | n &lt;dbl&gt; | Index &lt;dbl&gt; |\n",
       "|---|---|---|---|---|---|\n",
       "| 9 | Study_group                       | 0.3209482932 | 3.645508e-07 | 90 |  1 |\n",
       "| 11 | Statin                            | 0.0764827945 | 3.243279e-02 | 60 |  2 |\n",
       "| 1 | Age                               | 0.0463302425 | 4.161063e-02 | 90 |  3 |\n",
       "| 7 | Prednisone_use                    | 0.0666894147 | 4.634969e-02 | 60 |  4 |\n",
       "| 3 | BMI                               | 0.0452229045 | 5.824519e-02 | 80 |  5 |\n",
       "| 10 | Abatacept_lefluomide_methotrexate | 0.0141370039 | 3.655554e-01 | 60 |  6 |\n",
       "| 12 | Prednisone_dose                   | 0.0278834661 | 4.463370e-01 | 23 |  7 |\n",
       "| 8 | Aspirin_clopidogrel               | 0.0088362284 | 4.749814e-01 | 60 |  8 |\n",
       "| 2 | Sex                               | 0.0051587196 | 5.011195e-01 | 90 |  9 |\n",
       "| 5 | PGA                               | 0.0068953573 | 6.626566e-01 | 30 | 10 |\n",
       "| 4 | Smoking                           | 0.0019802464 | 6.788138e-01 | 89 | 11 |\n",
       "| 6 | CRP                               | 0.0003192713 | 8.922123e-01 | 60 | 12 |\n",
       "\n"
      ],
      "text/plain": [
       "   Variable                          R_squared    P_value      n  Index\n",
       "9  Study_group                       0.3209482932 3.645508e-07 90  1   \n",
       "11 Statin                            0.0764827945 3.243279e-02 60  2   \n",
       "1  Age                               0.0463302425 4.161063e-02 90  3   \n",
       "7  Prednisone_use                    0.0666894147 4.634969e-02 60  4   \n",
       "3  BMI                               0.0452229045 5.824519e-02 80  5   \n",
       "10 Abatacept_lefluomide_methotrexate 0.0141370039 3.655554e-01 60  6   \n",
       "12 Prednisone_dose                   0.0278834661 4.463370e-01 23  7   \n",
       "8  Aspirin_clopidogrel               0.0088362284 4.749814e-01 60  8   \n",
       "2  Sex                               0.0051587196 5.011195e-01 90  9   \n",
       "5  PGA                               0.0068953573 6.626566e-01 30 10   \n",
       "4  Smoking                           0.0019802464 6.788138e-01 89 11   \n",
       "6  CRP                               0.0003192713 8.922123e-01 60 12   "
      ]
     },
     "metadata": {},
     "output_type": "display_data"
    }
   ],
   "source": [
    "linear_models"
   ]
  },
  {
   "cell_type": "code",
   "execution_count": 144,
   "id": "9a477722-52ec-4c2d-9fb3-d4cf19063525",
   "metadata": {},
   "outputs": [],
   "source": [
    "#save the linear modeling with PC1 results\n",
    "write.csv(linear_models,\"../../analysis/Figure_1B_C_D/linear_modeling_of_PC1_and_demographic_variables.csv\",row.names=FALSE)"
   ]
  },
  {
   "cell_type": "code",
   "execution_count": null,
   "id": "e95f70d6-fa56-4594-b38c-598ab5605309",
   "metadata": {},
   "outputs": [],
   "source": []
  }
 ],
 "metadata": {
  "kernelspec": {
   "display_name": "R",
   "language": "R",
   "name": "ir"
  },
  "language_info": {
   "codemirror_mode": "r",
   "file_extension": ".r",
   "mimetype": "text/x-r-source",
   "name": "R",
   "pygments_lexer": "r",
   "version": "4.2.2"
  }
 },
 "nbformat": 4,
 "nbformat_minor": 5
}
