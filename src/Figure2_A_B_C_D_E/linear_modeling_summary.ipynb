{
 "cells": [
  {
   "cell_type": "markdown",
   "id": "a6914545-a950-4053-94e5-2a893fb16d01",
   "metadata": {},
   "source": [
    "This script reads the results from the multiple linear regression models between Active GCA and Healthy controls as well as for Inactive GCA and Healthy controls. It presents the number of significant proteins (P < 0.01) for both group comparisons. Additionally, it provides how many proteins are higher or lower in both group comparisons (i.e.,, Active GCA vs. Healthy controls and Inactive GCA vs. Healthy controls) as well as how many overlap between the two groups. These results are denoted in Figures 2A and B."
   ]
  },
  {
   "cell_type": "code",
   "execution_count": 2,
   "id": "4e3e79e3-0d8e-4663-9a25-66bbb1642c7a",
   "metadata": {},
   "outputs": [],
   "source": [
    "library(\"dplyr\")\n",
    "active_linear_modeling_results = read.csv(\"../../analysis/linear_modeling_active_and_controls/adjusted_linear_modeling_results.csv\")\n",
    "inactive_linear_modeling_results = read.csv(\"../../analysis/linear_modeling_inactive_and_controls/inactive_adjusted_linear_modeling_results.csv\")\n"
   ]
  },
  {
   "cell_type": "code",
   "execution_count": 3,
   "id": "06c74301-d456-4710-855d-6f1cdf2327cd",
   "metadata": {},
   "outputs": [
    {
     "data": {
      "text/html": [
       "<style>\n",
       ".list-inline {list-style: none; margin:0; padding: 0}\n",
       ".list-inline>li {display: inline-block}\n",
       ".list-inline>li:not(:last-child)::after {content: \"\\00b7\"; padding: 0 .5ex}\n",
       "</style>\n",
       "<ol class=list-inline><li>537</li><li>9</li></ol>\n"
      ],
      "text/latex": [
       "\\begin{enumerate*}\n",
       "\\item 537\n",
       "\\item 9\n",
       "\\end{enumerate*}\n"
      ],
      "text/markdown": [
       "1. 537\n",
       "2. 9\n",
       "\n",
       "\n"
      ],
      "text/plain": [
       "[1] 537   9"
      ]
     },
     "metadata": {},
     "output_type": "display_data"
    },
    {
     "data": {
      "text/html": [
       "<style>\n",
       ".list-inline {list-style: none; margin:0; padding: 0}\n",
       ".list-inline>li {display: inline-block}\n",
       ".list-inline>li:not(:last-child)::after {content: \"\\00b7\"; padding: 0 .5ex}\n",
       "</style>\n",
       "<ol class=list-inline><li>781</li><li>9</li></ol>\n"
      ],
      "text/latex": [
       "\\begin{enumerate*}\n",
       "\\item 781\n",
       "\\item 9\n",
       "\\end{enumerate*}\n"
      ],
      "text/markdown": [
       "1. 781\n",
       "2. 9\n",
       "\n",
       "\n"
      ],
      "text/plain": [
       "[1] 781   9"
      ]
     },
     "metadata": {},
     "output_type": "display_data"
    }
   ],
   "source": [
    "significant_active_linear_modeling_results = filter(active_linear_modeling_results,active_linear_modeling_results$linear_modeling_pvalue < 0.01)\n",
    "dim(significant_active_linear_modeling_results)\n",
    "significant_inactive_linear_modeling_results = filter(inactive_linear_modeling_results,inactive_linear_modeling_results$linear_modeling_pvalue < 0.01)\n",
    "dim(significant_inactive_linear_modeling_results)"
   ]
  },
  {
   "cell_type": "code",
   "execution_count": 4,
   "id": "2473e4ba-b08a-4f47-82c6-29100ec65826",
   "metadata": {},
   "outputs": [
    {
     "data": {
      "text/html": [
       "<style>\n",
       ".list-inline {list-style: none; margin:0; padding: 0}\n",
       ".list-inline>li {display: inline-block}\n",
       ".list-inline>li:not(:last-child)::after {content: \"\\00b7\"; padding: 0 .5ex}\n",
       "</style>\n",
       "<ol class=list-inline><li>202</li><li>9</li></ol>\n"
      ],
      "text/latex": [
       "\\begin{enumerate*}\n",
       "\\item 202\n",
       "\\item 9\n",
       "\\end{enumerate*}\n"
      ],
      "text/markdown": [
       "1. 202\n",
       "2. 9\n",
       "\n",
       "\n"
      ],
      "text/plain": [
       "[1] 202   9"
      ]
     },
     "metadata": {},
     "output_type": "display_data"
    },
    {
     "data": {
      "text/html": [
       "<style>\n",
       ".list-inline {list-style: none; margin:0; padding: 0}\n",
       ".list-inline>li {display: inline-block}\n",
       ".list-inline>li:not(:last-child)::after {content: \"\\00b7\"; padding: 0 .5ex}\n",
       "</style>\n",
       "<ol class=list-inline><li>335</li><li>9</li></ol>\n"
      ],
      "text/latex": [
       "\\begin{enumerate*}\n",
       "\\item 335\n",
       "\\item 9\n",
       "\\end{enumerate*}\n"
      ],
      "text/markdown": [
       "1. 335\n",
       "2. 9\n",
       "\n",
       "\n"
      ],
      "text/plain": [
       "[1] 335   9"
      ]
     },
     "metadata": {},
     "output_type": "display_data"
    }
   ],
   "source": [
    "higher_in_active = filter(significant_active_linear_modeling_results,significant_active_linear_modeling_results$fold_change > 0)\n",
    "dim(higher_in_active)\n",
    "\n",
    "lower_in_active = filter(significant_active_linear_modeling_results,significant_active_linear_modeling_results$fold_change < 0)\n",
    "dim(lower_in_active)"
   ]
  },
  {
   "cell_type": "code",
   "execution_count": 5,
   "id": "9c3299c2-932d-49f1-96b7-1126f1b00d78",
   "metadata": {},
   "outputs": [
    {
     "data": {
      "text/html": [
       "<style>\n",
       ".list-inline {list-style: none; margin:0; padding: 0}\n",
       ".list-inline>li {display: inline-block}\n",
       ".list-inline>li:not(:last-child)::after {content: \"\\00b7\"; padding: 0 .5ex}\n",
       "</style>\n",
       "<ol class=list-inline><li>331</li><li>9</li></ol>\n"
      ],
      "text/latex": [
       "\\begin{enumerate*}\n",
       "\\item 331\n",
       "\\item 9\n",
       "\\end{enumerate*}\n"
      ],
      "text/markdown": [
       "1. 331\n",
       "2. 9\n",
       "\n",
       "\n"
      ],
      "text/plain": [
       "[1] 331   9"
      ]
     },
     "metadata": {},
     "output_type": "display_data"
    },
    {
     "data": {
      "text/html": [
       "<style>\n",
       ".list-inline {list-style: none; margin:0; padding: 0}\n",
       ".list-inline>li {display: inline-block}\n",
       ".list-inline>li:not(:last-child)::after {content: \"\\00b7\"; padding: 0 .5ex}\n",
       "</style>\n",
       "<ol class=list-inline><li>450</li><li>9</li></ol>\n"
      ],
      "text/latex": [
       "\\begin{enumerate*}\n",
       "\\item 450\n",
       "\\item 9\n",
       "\\end{enumerate*}\n"
      ],
      "text/markdown": [
       "1. 450\n",
       "2. 9\n",
       "\n",
       "\n"
      ],
      "text/plain": [
       "[1] 450   9"
      ]
     },
     "metadata": {},
     "output_type": "display_data"
    }
   ],
   "source": [
    "higher_in_inactive = filter(significant_inactive_linear_modeling_results,significant_inactive_linear_modeling_results$fold_change > 0)\n",
    "dim(higher_in_inactive)\n",
    "\n",
    "lower_in_inactive = filter(significant_inactive_linear_modeling_results,significant_inactive_linear_modeling_results$fold_change < 0)\n",
    "dim(lower_in_inactive)"
   ]
  },
  {
   "cell_type": "code",
   "execution_count": 6,
   "id": "70f356e2-92b4-430c-aede-ee9d6c5f7133",
   "metadata": {},
   "outputs": [
    {
     "data": {
      "text/html": [
       "<style>\n",
       ".list-inline {list-style: none; margin:0; padding: 0}\n",
       ".list-inline>li {display: inline-block}\n",
       ".list-inline>li:not(:last-child)::after {content: \"\\00b7\"; padding: 0 .5ex}\n",
       "</style>\n",
       "<ol class=list-inline><li>73</li><li>1</li></ol>\n"
      ],
      "text/latex": [
       "\\begin{enumerate*}\n",
       "\\item 73\n",
       "\\item 1\n",
       "\\end{enumerate*}\n"
      ],
      "text/markdown": [
       "1. 73\n",
       "2. 1\n",
       "\n",
       "\n"
      ],
      "text/plain": [
       "[1] 73  1"
      ]
     },
     "metadata": {},
     "output_type": "display_data"
    }
   ],
   "source": [
    "#find how many are higher in both active and inactive\n",
    "higher_in_both = data.frame(intersect(higher_in_active$Protein,higher_in_inactive$Protein))\n",
    "dim(higher_in_both)"
   ]
  },
  {
   "cell_type": "code",
   "execution_count": 7,
   "id": "b7658927-2321-4575-a14f-0bd211d8868a",
   "metadata": {},
   "outputs": [
    {
     "data": {
      "text/html": [
       "<style>\n",
       ".list-inline {list-style: none; margin:0; padding: 0}\n",
       ".list-inline>li {display: inline-block}\n",
       ".list-inline>li:not(:last-child)::after {content: \"\\00b7\"; padding: 0 .5ex}\n",
       "</style>\n",
       "<ol class=list-inline><li>261</li><li>1</li></ol>\n"
      ],
      "text/latex": [
       "\\begin{enumerate*}\n",
       "\\item 261\n",
       "\\item 1\n",
       "\\end{enumerate*}\n"
      ],
      "text/markdown": [
       "1. 261\n",
       "2. 1\n",
       "\n",
       "\n"
      ],
      "text/plain": [
       "[1] 261   1"
      ]
     },
     "metadata": {},
     "output_type": "display_data"
    }
   ],
   "source": [
    "lower_in_both = data.frame(intersect(lower_in_active$Protein,lower_in_inactive$Protein))\n",
    "dim(lower_in_both)"
   ]
  },
  {
   "cell_type": "code",
   "execution_count": 8,
   "id": "3871c81d-4786-4c25-ac73-96bb7cd285aa",
   "metadata": {},
   "outputs": [
    {
     "data": {
      "text/html": [
       "189"
      ],
      "text/latex": [
       "189"
      ],
      "text/markdown": [
       "189"
      ],
      "text/plain": [
       "[1] 189"
      ]
     },
     "metadata": {},
     "output_type": "display_data"
    }
   ],
   "source": [
    "450-261"
   ]
  },
  {
   "cell_type": "code",
   "execution_count": null,
   "id": "3bacab97-b4db-4514-93b9-05b37933a915",
   "metadata": {},
   "outputs": [],
   "source": []
  }
 ],
 "metadata": {
  "kernelspec": {
   "display_name": "R",
   "language": "R",
   "name": "ir"
  },
  "language_info": {
   "codemirror_mode": "r",
   "file_extension": ".r",
   "mimetype": "text/x-r-source",
   "name": "R",
   "pygments_lexer": "r",
   "version": "4.2.2"
  }
 },
 "nbformat": 4,
 "nbformat_minor": 5
}
