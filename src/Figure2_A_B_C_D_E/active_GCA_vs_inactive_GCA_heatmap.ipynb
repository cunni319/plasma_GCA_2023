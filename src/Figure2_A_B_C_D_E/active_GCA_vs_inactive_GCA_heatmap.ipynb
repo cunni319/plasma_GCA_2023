{
 "cells": [
  {
   "cell_type": "markdown",
   "id": "46f0c080-4b78-46ac-a317-3f6b98d0f13e",
   "metadata": {},
   "source": [
    "This script reads in the random effect linear regression model results between Active GCA and Inactive GCA. It gathers the proteins from Active GCA and Inactive GCA and makes a heatmap after doing a z-score transformation on the data. Age, sex, smoking status, and BMI are denoted at the top of each heatmap for each study participant."
   ]
  },
  {
   "cell_type": "code",
   "execution_count": null,
   "id": "71dbc6f3-e338-4f61-a5ea-56b60b8d2265",
   "metadata": {},
   "outputs": [],
   "source": [
    "library(\"dplyr\")\n",
    "library(\"ggpubr\")\n",
    "library(\"lme4\")\n",
    "library(\"lmerTest\")\n",
    "library(\"ggplot2\")\n",
    "library(\"pheatmap\")\n",
    "vasculitis_demographics_df <- read.csv(\"../../data/vasculitis_patient_info.csv\")\n",
    "\n",
    "#read in all quantile data\n",
    "all_quantile_df = read.csv(\"../../data/all_quantile_data.csv\")\n",
    "#head(all_quantile_df)\n",
    "#get the number of columns and rows \n",
    "num_columns <- ncol(all_quantile_df)\n",
    "num_proteins <- ncol(all_quantile_df) - 3\n",
    "num_samples <- nrow(all_quantile_df)\n",
    "\n",
    "\n",
    "#filter only active gca patients\n",
    "active_df <- filter(all_quantile_df,all_quantile_df$Study_group == \"Active\")\n",
    "active_demographics_df <- filter(vasculitis_demographics_df,vasculitis_demographics_df$Study_group == \"Active\")\n",
    "active_proteins_only <- active_df[,4:num_columns]\n",
    "\n",
    "#filter inactive gca patients\n",
    "inactive_df = filter(all_quantile_df,all_quantile_df$Study_group == \"Inactive\")\n",
    "inactive_demographics_df <- filter(vasculitis_demographics_df,vasculitis_demographics_df$Study_group == \"Inactive\")\n",
    "inactive_proteins_only <- inactive_df[,4:num_columns]\n",
    "\n",
    "#read in controls data\n",
    "controls_demographics_df <- read.csv(\"../../data/controls_demographics.csv\")\n",
    "controls_df <- filter(all_quantile_df,all_quantile_df$Study_group == \"Healthy_Control\")\n",
    "controls_proteins_only <- controls_df[,4:num_columns]\n",
    "\n",
    "proteins_only <- data.frame(active_df[ ,4:num_columns])\n",
    "#seperate the protein names for the linear model\n",
    "protein_names <- data.frame(matrix(data=0,nrow=num_proteins,ncol=1))\n",
    "colnames(protein_names) <- \"Protein\"\n",
    "protein_names[ , 1] <- data.frame(colnames(proteins_only))\n",
    "#protein_names"
   ]
  },
  {
   "cell_type": "code",
   "execution_count": 2,
   "id": "621c541b-5e54-4847-8064-a12829275364",
   "metadata": {},
   "outputs": [
    {
     "data": {
      "text/html": [
       "<style>\n",
       ".list-inline {list-style: none; margin:0; padding: 0}\n",
       ".list-inline>li {display: inline-block}\n",
       ".list-inline>li:not(:last-child)::after {content: \"\\00b7\"; padding: 0 .5ex}\n",
       "</style>\n",
       "<ol class=list-inline><li>TRUE</li><li>TRUE</li><li>TRUE</li><li>TRUE</li><li>TRUE</li><li>TRUE</li><li>TRUE</li><li>TRUE</li><li>TRUE</li><li>TRUE</li><li>TRUE</li><li>TRUE</li><li>TRUE</li><li>TRUE</li><li>TRUE</li><li>TRUE</li><li>TRUE</li><li>TRUE</li><li>TRUE</li><li>TRUE</li><li>TRUE</li><li>TRUE</li><li>TRUE</li><li>TRUE</li><li>TRUE</li><li>TRUE</li><li>TRUE</li><li>TRUE</li><li>TRUE</li><li>TRUE</li></ol>\n"
      ],
      "text/latex": [
       "\\begin{enumerate*}\n",
       "\\item TRUE\n",
       "\\item TRUE\n",
       "\\item TRUE\n",
       "\\item TRUE\n",
       "\\item TRUE\n",
       "\\item TRUE\n",
       "\\item TRUE\n",
       "\\item TRUE\n",
       "\\item TRUE\n",
       "\\item TRUE\n",
       "\\item TRUE\n",
       "\\item TRUE\n",
       "\\item TRUE\n",
       "\\item TRUE\n",
       "\\item TRUE\n",
       "\\item TRUE\n",
       "\\item TRUE\n",
       "\\item TRUE\n",
       "\\item TRUE\n",
       "\\item TRUE\n",
       "\\item TRUE\n",
       "\\item TRUE\n",
       "\\item TRUE\n",
       "\\item TRUE\n",
       "\\item TRUE\n",
       "\\item TRUE\n",
       "\\item TRUE\n",
       "\\item TRUE\n",
       "\\item TRUE\n",
       "\\item TRUE\n",
       "\\end{enumerate*}\n"
      ],
      "text/markdown": [
       "1. TRUE\n",
       "2. TRUE\n",
       "3. TRUE\n",
       "4. TRUE\n",
       "5. TRUE\n",
       "6. TRUE\n",
       "7. TRUE\n",
       "8. TRUE\n",
       "9. TRUE\n",
       "10. TRUE\n",
       "11. TRUE\n",
       "12. TRUE\n",
       "13. TRUE\n",
       "14. TRUE\n",
       "15. TRUE\n",
       "16. TRUE\n",
       "17. TRUE\n",
       "18. TRUE\n",
       "19. TRUE\n",
       "20. TRUE\n",
       "21. TRUE\n",
       "22. TRUE\n",
       "23. TRUE\n",
       "24. TRUE\n",
       "25. TRUE\n",
       "26. TRUE\n",
       "27. TRUE\n",
       "28. TRUE\n",
       "29. TRUE\n",
       "30. TRUE\n",
       "\n",
       "\n"
      ],
      "text/plain": [
       " [1] TRUE TRUE TRUE TRUE TRUE TRUE TRUE TRUE TRUE TRUE TRUE TRUE TRUE TRUE TRUE\n",
       "[16] TRUE TRUE TRUE TRUE TRUE TRUE TRUE TRUE TRUE TRUE TRUE TRUE TRUE TRUE TRUE"
      ]
     },
     "metadata": {},
     "output_type": "display_data"
    },
    {
     "data": {
      "text/html": [
       "<style>\n",
       ".list-inline {list-style: none; margin:0; padding: 0}\n",
       ".list-inline>li {display: inline-block}\n",
       ".list-inline>li:not(:last-child)::after {content: \"\\00b7\"; padding: 0 .5ex}\n",
       "</style>\n",
       "<ol class=list-inline><li>TRUE</li><li>TRUE</li><li>TRUE</li><li>TRUE</li><li>TRUE</li><li>TRUE</li><li>TRUE</li><li>TRUE</li><li>TRUE</li><li>TRUE</li><li>TRUE</li><li>TRUE</li><li>TRUE</li><li>TRUE</li><li>TRUE</li><li>TRUE</li><li>TRUE</li><li>TRUE</li><li>TRUE</li><li>TRUE</li><li>TRUE</li><li>TRUE</li><li>TRUE</li><li>TRUE</li><li>TRUE</li><li>TRUE</li><li>TRUE</li><li>TRUE</li><li>TRUE</li><li>TRUE</li></ol>\n"
      ],
      "text/latex": [
       "\\begin{enumerate*}\n",
       "\\item TRUE\n",
       "\\item TRUE\n",
       "\\item TRUE\n",
       "\\item TRUE\n",
       "\\item TRUE\n",
       "\\item TRUE\n",
       "\\item TRUE\n",
       "\\item TRUE\n",
       "\\item TRUE\n",
       "\\item TRUE\n",
       "\\item TRUE\n",
       "\\item TRUE\n",
       "\\item TRUE\n",
       "\\item TRUE\n",
       "\\item TRUE\n",
       "\\item TRUE\n",
       "\\item TRUE\n",
       "\\item TRUE\n",
       "\\item TRUE\n",
       "\\item TRUE\n",
       "\\item TRUE\n",
       "\\item TRUE\n",
       "\\item TRUE\n",
       "\\item TRUE\n",
       "\\item TRUE\n",
       "\\item TRUE\n",
       "\\item TRUE\n",
       "\\item TRUE\n",
       "\\item TRUE\n",
       "\\item TRUE\n",
       "\\end{enumerate*}\n"
      ],
      "text/markdown": [
       "1. TRUE\n",
       "2. TRUE\n",
       "3. TRUE\n",
       "4. TRUE\n",
       "5. TRUE\n",
       "6. TRUE\n",
       "7. TRUE\n",
       "8. TRUE\n",
       "9. TRUE\n",
       "10. TRUE\n",
       "11. TRUE\n",
       "12. TRUE\n",
       "13. TRUE\n",
       "14. TRUE\n",
       "15. TRUE\n",
       "16. TRUE\n",
       "17. TRUE\n",
       "18. TRUE\n",
       "19. TRUE\n",
       "20. TRUE\n",
       "21. TRUE\n",
       "22. TRUE\n",
       "23. TRUE\n",
       "24. TRUE\n",
       "25. TRUE\n",
       "26. TRUE\n",
       "27. TRUE\n",
       "28. TRUE\n",
       "29. TRUE\n",
       "30. TRUE\n",
       "\n",
       "\n"
      ],
      "text/plain": [
       " [1] TRUE TRUE TRUE TRUE TRUE TRUE TRUE TRUE TRUE TRUE TRUE TRUE TRUE TRUE TRUE\n",
       "[16] TRUE TRUE TRUE TRUE TRUE TRUE TRUE TRUE TRUE TRUE TRUE TRUE TRUE TRUE TRUE"
      ]
     },
     "metadata": {},
     "output_type": "display_data"
    }
   ],
   "source": [
    "active_df = active_df[order(active_df$maskID),]\n",
    "active_demographics_df = active_demographics_df[order(active_demographics_df$maskid),]\n",
    "active_df$maskID == active_demographics_df$maskid\n",
    "\n",
    "inactive_df = inactive_df[order(inactive_df$maskID),]\n",
    "inactive_demographics_df = inactive_demographics_df[order(inactive_demographics_df$maskid),]\n",
    "inactive_df$maskID == inactive_demographics_df$maskid"
   ]
  },
  {
   "cell_type": "code",
   "execution_count": 41,
   "id": "1dfd2853-7d44-489c-b4dd-a9812ba9c548",
   "metadata": {},
   "outputs": [
    {
     "data": {
      "text/html": [
       "<style>\n",
       ".list-inline {list-style: none; margin:0; padding: 0}\n",
       ".list-inline>li {display: inline-block}\n",
       ".list-inline>li:not(:last-child)::after {content: \"\\00b7\"; padding: 0 .5ex}\n",
       "</style>\n",
       "<ol class=list-inline><li>'GCA-1'</li><li>'GCA-10'</li><li>'GCA-11'</li><li>'GCA-12'</li><li>'GCA-13'</li><li>'GCA-14'</li><li>'GCA-15'</li><li>'GCA-16'</li><li>'GCA-17'</li><li>'GCA-18'</li><li>'GCA-19'</li><li>'GCA-2'</li><li>'GCA-20'</li><li>'GCA-21'</li><li>'GCA-22'</li><li>'GCA-23'</li><li>'GCA-24'</li><li>'GCA-25'</li><li>'GCA-26'</li><li>'GCA-27'</li><li>'GCA-28'</li><li>'GCA-29'</li><li>'GCA-3'</li><li>'GCA-30'</li><li>'GCA-4'</li><li>'GCA-5'</li><li>'GCA-6'</li><li>'GCA-7'</li><li>'GCA-8'</li><li>'GCA-9'</li></ol>\n"
      ],
      "text/latex": [
       "\\begin{enumerate*}\n",
       "\\item 'GCA-1'\n",
       "\\item 'GCA-10'\n",
       "\\item 'GCA-11'\n",
       "\\item 'GCA-12'\n",
       "\\item 'GCA-13'\n",
       "\\item 'GCA-14'\n",
       "\\item 'GCA-15'\n",
       "\\item 'GCA-16'\n",
       "\\item 'GCA-17'\n",
       "\\item 'GCA-18'\n",
       "\\item 'GCA-19'\n",
       "\\item 'GCA-2'\n",
       "\\item 'GCA-20'\n",
       "\\item 'GCA-21'\n",
       "\\item 'GCA-22'\n",
       "\\item 'GCA-23'\n",
       "\\item 'GCA-24'\n",
       "\\item 'GCA-25'\n",
       "\\item 'GCA-26'\n",
       "\\item 'GCA-27'\n",
       "\\item 'GCA-28'\n",
       "\\item 'GCA-29'\n",
       "\\item 'GCA-3'\n",
       "\\item 'GCA-30'\n",
       "\\item 'GCA-4'\n",
       "\\item 'GCA-5'\n",
       "\\item 'GCA-6'\n",
       "\\item 'GCA-7'\n",
       "\\item 'GCA-8'\n",
       "\\item 'GCA-9'\n",
       "\\end{enumerate*}\n"
      ],
      "text/markdown": [
       "1. 'GCA-1'\n",
       "2. 'GCA-10'\n",
       "3. 'GCA-11'\n",
       "4. 'GCA-12'\n",
       "5. 'GCA-13'\n",
       "6. 'GCA-14'\n",
       "7. 'GCA-15'\n",
       "8. 'GCA-16'\n",
       "9. 'GCA-17'\n",
       "10. 'GCA-18'\n",
       "11. 'GCA-19'\n",
       "12. 'GCA-2'\n",
       "13. 'GCA-20'\n",
       "14. 'GCA-21'\n",
       "15. 'GCA-22'\n",
       "16. 'GCA-23'\n",
       "17. 'GCA-24'\n",
       "18. 'GCA-25'\n",
       "19. 'GCA-26'\n",
       "20. 'GCA-27'\n",
       "21. 'GCA-28'\n",
       "22. 'GCA-29'\n",
       "23. 'GCA-3'\n",
       "24. 'GCA-30'\n",
       "25. 'GCA-4'\n",
       "26. 'GCA-5'\n",
       "27. 'GCA-6'\n",
       "28. 'GCA-7'\n",
       "29. 'GCA-8'\n",
       "30. 'GCA-9'\n",
       "\n",
       "\n"
      ],
      "text/plain": [
       " [1] \"GCA-1\"  \"GCA-10\" \"GCA-11\" \"GCA-12\" \"GCA-13\" \"GCA-14\" \"GCA-15\" \"GCA-16\"\n",
       " [9] \"GCA-17\" \"GCA-18\" \"GCA-19\" \"GCA-2\"  \"GCA-20\" \"GCA-21\" \"GCA-22\" \"GCA-23\"\n",
       "[17] \"GCA-24\" \"GCA-25\" \"GCA-26\" \"GCA-27\" \"GCA-28\" \"GCA-29\" \"GCA-3\"  \"GCA-30\"\n",
       "[25] \"GCA-4\"  \"GCA-5\"  \"GCA-6\"  \"GCA-7\"  \"GCA-8\"  \"GCA-9\" "
      ]
     },
     "metadata": {},
     "output_type": "display_data"
    }
   ],
   "source": [
    "active_df$maskID"
   ]
  },
  {
   "cell_type": "code",
   "execution_count": 3,
   "id": "d6baf0bf-bff1-4170-bebd-f4419112f349",
   "metadata": {},
   "outputs": [],
   "source": [
    "get_sigfeatures = function(num_sigfigs, sigfeature_list, data_df, results_df){\n",
    "  #Gather the significant features into a new dataframe\n",
    "  for (i in 1:num_sigfigs) {\n",
    "    feature1 <- sigfeature_list[i,1]\n",
    "    feature_to_add <- data_df[feature1]\n",
    "    results_df[,i] <- feature_to_add\n",
    "  }\n",
    "  return(results_df)\n",
    "}"
   ]
  },
  {
   "cell_type": "code",
   "execution_count": 5,
   "id": "b55e14cd-4081-4d98-9c14-118b887d281c",
   "metadata": {},
   "outputs": [
    {
     "data": {
      "text/html": [
       "<table class=\"dataframe\">\n",
       "<caption>A data.frame: 6 × 7</caption>\n",
       "<thead>\n",
       "\t<tr><th></th><th scope=col>Protein</th><th scope=col>Nominal_pvalue</th><th scope=col>formula</th><th scope=col>fold_change</th><th scope=col>adjusted_pvalue</th><th scope=col>Target</th><th scope=col>Entrez</th></tr>\n",
       "\t<tr><th></th><th scope=col>&lt;chr&gt;</th><th scope=col>&lt;dbl&gt;</th><th scope=col>&lt;chr&gt;</th><th scope=col>&lt;dbl&gt;</th><th scope=col>&lt;dbl&gt;</th><th scope=col>&lt;chr&gt;</th><th scope=col>&lt;chr&gt;</th></tr>\n",
       "</thead>\n",
       "<tbody>\n",
       "\t<tr><th scope=row>1</th><td>CRBB2_10000.28</td><td>0.09473738</td><td> ~ Study_group + (1|maskID)                   </td><td>-0.06984509</td><td>0.9999376</td><td>CRBB2</td><td>1415</td></tr>\n",
       "\t<tr><th scope=row>2</th><td>c.Raf_10001.7 </td><td>0.55398949</td><td> ~ Study_group + (1|maskID)                   </td><td> 0.03635713</td><td>0.9999376</td><td>c-Raf</td><td>5894</td></tr>\n",
       "\t<tr><th scope=row>3</th><td>ZNF41_10003.15</td><td>0.39184987</td><td> ~ Study_group + (1|maskID) + Methotrexate    </td><td>-0.12372423</td><td>0.9999376</td><td>ZNF41</td><td>7592</td></tr>\n",
       "\t<tr><th scope=row>4</th><td>ELK1_10006.25 </td><td>0.31436509</td><td> ~ Study_group + (1|maskID) + Sex             </td><td>-0.98806340</td><td>0.9999376</td><td>ELK1 </td><td>2002</td></tr>\n",
       "\t<tr><th scope=row>5</th><td>GUC1A_10008.43</td><td>0.34122022</td><td> ~ Study_group + (1|maskID)                   </td><td> 0.14157654</td><td>0.9999376</td><td>GUC1A</td><td>2978</td></tr>\n",
       "\t<tr><th scope=row>6</th><td>BECN1_10010.10</td><td>0.36480887</td><td> ~ Study_group + (1|maskID) + Age + Prednisone</td><td>-0.09990579</td><td>0.9999376</td><td>BECN1</td><td>8678</td></tr>\n",
       "</tbody>\n",
       "</table>\n"
      ],
      "text/latex": [
       "A data.frame: 6 × 7\n",
       "\\begin{tabular}{r|lllllll}\n",
       "  & Protein & Nominal\\_pvalue & formula & fold\\_change & adjusted\\_pvalue & Target & Entrez\\\\\n",
       "  & <chr> & <dbl> & <chr> & <dbl> & <dbl> & <chr> & <chr>\\\\\n",
       "\\hline\n",
       "\t1 & CRBB2\\_10000.28 & 0.09473738 &  \\textasciitilde{} Study\\_group + (1\\textbar{}maskID)                    & -0.06984509 & 0.9999376 & CRBB2 & 1415\\\\\n",
       "\t2 & c.Raf\\_10001.7  & 0.55398949 &  \\textasciitilde{} Study\\_group + (1\\textbar{}maskID)                    &  0.03635713 & 0.9999376 & c-Raf & 5894\\\\\n",
       "\t3 & ZNF41\\_10003.15 & 0.39184987 &  \\textasciitilde{} Study\\_group + (1\\textbar{}maskID) + Methotrexate     & -0.12372423 & 0.9999376 & ZNF41 & 7592\\\\\n",
       "\t4 & ELK1\\_10006.25  & 0.31436509 &  \\textasciitilde{} Study\\_group + (1\\textbar{}maskID) + Sex              & -0.98806340 & 0.9999376 & ELK1  & 2002\\\\\n",
       "\t5 & GUC1A\\_10008.43 & 0.34122022 &  \\textasciitilde{} Study\\_group + (1\\textbar{}maskID)                    &  0.14157654 & 0.9999376 & GUC1A & 2978\\\\\n",
       "\t6 & BECN1\\_10010.10 & 0.36480887 &  \\textasciitilde{} Study\\_group + (1\\textbar{}maskID) + Age + Prednisone & -0.09990579 & 0.9999376 & BECN1 & 8678\\\\\n",
       "\\end{tabular}\n"
      ],
      "text/markdown": [
       "\n",
       "A data.frame: 6 × 7\n",
       "\n",
       "| <!--/--> | Protein &lt;chr&gt; | Nominal_pvalue &lt;dbl&gt; | formula &lt;chr&gt; | fold_change &lt;dbl&gt; | adjusted_pvalue &lt;dbl&gt; | Target &lt;chr&gt; | Entrez &lt;chr&gt; |\n",
       "|---|---|---|---|---|---|---|---|\n",
       "| 1 | CRBB2_10000.28 | 0.09473738 |  ~ Study_group + (1|maskID)                    | -0.06984509 | 0.9999376 | CRBB2 | 1415 |\n",
       "| 2 | c.Raf_10001.7  | 0.55398949 |  ~ Study_group + (1|maskID)                    |  0.03635713 | 0.9999376 | c-Raf | 5894 |\n",
       "| 3 | ZNF41_10003.15 | 0.39184987 |  ~ Study_group + (1|maskID) + Methotrexate     | -0.12372423 | 0.9999376 | ZNF41 | 7592 |\n",
       "| 4 | ELK1_10006.25  | 0.31436509 |  ~ Study_group + (1|maskID) + Sex              | -0.98806340 | 0.9999376 | ELK1  | 2002 |\n",
       "| 5 | GUC1A_10008.43 | 0.34122022 |  ~ Study_group + (1|maskID)                    |  0.14157654 | 0.9999376 | GUC1A | 2978 |\n",
       "| 6 | BECN1_10010.10 | 0.36480887 |  ~ Study_group + (1|maskID) + Age + Prednisone | -0.09990579 | 0.9999376 | BECN1 | 8678 |\n",
       "\n"
      ],
      "text/plain": [
       "  Protein        Nominal_pvalue formula                                       \n",
       "1 CRBB2_10000.28 0.09473738      ~ Study_group + (1|maskID)                   \n",
       "2 c.Raf_10001.7  0.55398949      ~ Study_group + (1|maskID)                   \n",
       "3 ZNF41_10003.15 0.39184987      ~ Study_group + (1|maskID) + Methotrexate    \n",
       "4 ELK1_10006.25  0.31436509      ~ Study_group + (1|maskID) + Sex             \n",
       "5 GUC1A_10008.43 0.34122022      ~ Study_group + (1|maskID)                   \n",
       "6 BECN1_10010.10 0.36480887      ~ Study_group + (1|maskID) + Age + Prednisone\n",
       "  fold_change adjusted_pvalue Target Entrez\n",
       "1 -0.06984509 0.9999376       CRBB2  1415  \n",
       "2  0.03635713 0.9999376       c-Raf  5894  \n",
       "3 -0.12372423 0.9999376       ZNF41  7592  \n",
       "4 -0.98806340 0.9999376       ELK1   2002  \n",
       "5  0.14157654 0.9999376       GUC1A  2978  \n",
       "6 -0.09990579 0.9999376       BECN1  8678  "
      ]
     },
     "metadata": {},
     "output_type": "display_data"
    }
   ],
   "source": [
    "#read in results from active vs. inactive\n",
    "linear_modeling_results = read.csv(\"../../analysis/linear_modeling_active_and_inactive/linear_models_with_covariates_results.csv\")\n",
    "head(linear_modeling_results)"
   ]
  },
  {
   "cell_type": "code",
   "execution_count": 6,
   "id": "7597b522-a536-44a7-9dd8-cf8eafbcdb23",
   "metadata": {},
   "outputs": [
    {
     "data": {
      "text/html": [
       "<style>\n",
       ".list-inline {list-style: none; margin:0; padding: 0}\n",
       ".list-inline>li {display: inline-block}\n",
       ".list-inline>li:not(:last-child)::after {content: \"\\00b7\"; padding: 0 .5ex}\n",
       "</style>\n",
       "<ol class=list-inline><li>4</li><li>7</li></ol>\n"
      ],
      "text/latex": [
       "\\begin{enumerate*}\n",
       "\\item 4\n",
       "\\item 7\n",
       "\\end{enumerate*}\n"
      ],
      "text/markdown": [
       "1. 4\n",
       "2. 7\n",
       "\n",
       "\n"
      ],
      "text/plain": [
       "[1] 4 7"
      ]
     },
     "metadata": {},
     "output_type": "display_data"
    },
    {
     "data": {
      "text/html": [
       "<style>\n",
       ".list-inline {list-style: none; margin:0; padding: 0}\n",
       ".list-inline>li {display: inline-block}\n",
       ".list-inline>li:not(:last-child)::after {content: \"\\00b7\"; padding: 0 .5ex}\n",
       "</style>\n",
       "<ol class=list-inline><li>6</li><li>7</li></ol>\n"
      ],
      "text/latex": [
       "\\begin{enumerate*}\n",
       "\\item 6\n",
       "\\item 7\n",
       "\\end{enumerate*}\n"
      ],
      "text/markdown": [
       "1. 6\n",
       "2. 7\n",
       "\n",
       "\n"
      ],
      "text/plain": [
       "[1] 6 7"
      ]
     },
     "metadata": {},
     "output_type": "display_data"
    }
   ],
   "source": [
    "#get significant higher in active and lower in active\n",
    "significant_higher_in_active = filter(linear_modeling_results,linear_modeling_results$Nominal_pvalue < 0.01 & linear_modeling_results$fold_change > 0)\n",
    "dim(significant_higher_in_active)\n",
    "higher_protein_names = data.frame(significant_higher_in_active[,1])\n",
    "num_higher_in_active = nrow(significant_higher_in_active)\n",
    "\n",
    "significant_lower_in_active = filter(linear_modeling_results,linear_modeling_results$Nominal_pvalue < 0.01 & linear_modeling_results$fold_change < 0)\n",
    "dim(significant_lower_in_active)\n",
    "lower_protein_names = data.frame(significant_lower_in_active[,1])\n",
    "num_lower_in_active = nrow(lower_protein_names)\n",
    "total_num_significant = num_higher_in_active+num_lower_in_active"
   ]
  },
  {
   "cell_type": "code",
   "execution_count": 7,
   "id": "b6d40484-ee26-4d85-8d78-ce0afd093ed7",
   "metadata": {
    "tags": []
   },
   "outputs": [
    {
     "data": {
      "text/html": [
       "<table class=\"dataframe\">\n",
       "<caption>A data.frame: 6 × 4</caption>\n",
       "<thead>\n",
       "\t<tr><th></th><th scope=col>Apo.A.IV_17685.9</th><th scope=col>PGCB_3461.58</th><th scope=col>Protein.disulfide.isomerase_4278.14</th><th scope=col>Eotaxin_5301.7</th></tr>\n",
       "\t<tr><th></th><th scope=col>&lt;dbl&gt;</th><th scope=col>&lt;dbl&gt;</th><th scope=col>&lt;dbl&gt;</th><th scope=col>&lt;dbl&gt;</th></tr>\n",
       "</thead>\n",
       "<tbody>\n",
       "\t<tr><th scope=row>1</th><td>53530.21</td><td>1132.5422</td><td>139.7789</td><td>17595.747</td></tr>\n",
       "\t<tr><th scope=row>2</th><td>56960.55</td><td>1458.2700</td><td>143.9733</td><td>13668.098</td></tr>\n",
       "\t<tr><th scope=row>3</th><td>78246.65</td><td>1203.2367</td><td>110.7444</td><td>20824.489</td></tr>\n",
       "\t<tr><th scope=row>4</th><td>57341.34</td><td> 674.1711</td><td>136.4156</td><td>15120.460</td></tr>\n",
       "\t<tr><th scope=row>5</th><td>50673.13</td><td> 941.3222</td><td>136.4156</td><td> 9568.836</td></tr>\n",
       "\t<tr><th scope=row>6</th><td>50951.43</td><td> 956.8467</td><td>219.9456</td><td>20334.804</td></tr>\n",
       "</tbody>\n",
       "</table>\n"
      ],
      "text/latex": [
       "A data.frame: 6 × 4\n",
       "\\begin{tabular}{r|llll}\n",
       "  & Apo.A.IV\\_17685.9 & PGCB\\_3461.58 & Protein.disulfide.isomerase\\_4278.14 & Eotaxin\\_5301.7\\\\\n",
       "  & <dbl> & <dbl> & <dbl> & <dbl>\\\\\n",
       "\\hline\n",
       "\t1 & 53530.21 & 1132.5422 & 139.7789 & 17595.747\\\\\n",
       "\t2 & 56960.55 & 1458.2700 & 143.9733 & 13668.098\\\\\n",
       "\t3 & 78246.65 & 1203.2367 & 110.7444 & 20824.489\\\\\n",
       "\t4 & 57341.34 &  674.1711 & 136.4156 & 15120.460\\\\\n",
       "\t5 & 50673.13 &  941.3222 & 136.4156 &  9568.836\\\\\n",
       "\t6 & 50951.43 &  956.8467 & 219.9456 & 20334.804\\\\\n",
       "\\end{tabular}\n"
      ],
      "text/markdown": [
       "\n",
       "A data.frame: 6 × 4\n",
       "\n",
       "| <!--/--> | Apo.A.IV_17685.9 &lt;dbl&gt; | PGCB_3461.58 &lt;dbl&gt; | Protein.disulfide.isomerase_4278.14 &lt;dbl&gt; | Eotaxin_5301.7 &lt;dbl&gt; |\n",
       "|---|---|---|---|---|\n",
       "| 1 | 53530.21 | 1132.5422 | 139.7789 | 17595.747 |\n",
       "| 2 | 56960.55 | 1458.2700 | 143.9733 | 13668.098 |\n",
       "| 3 | 78246.65 | 1203.2367 | 110.7444 | 20824.489 |\n",
       "| 4 | 57341.34 |  674.1711 | 136.4156 | 15120.460 |\n",
       "| 5 | 50673.13 |  941.3222 | 136.4156 |  9568.836 |\n",
       "| 6 | 50951.43 |  956.8467 | 219.9456 | 20334.804 |\n",
       "\n"
      ],
      "text/plain": [
       "  Apo.A.IV_17685.9 PGCB_3461.58 Protein.disulfide.isomerase_4278.14\n",
       "1 53530.21         1132.5422    139.7789                           \n",
       "2 56960.55         1458.2700    143.9733                           \n",
       "3 78246.65         1203.2367    110.7444                           \n",
       "4 57341.34          674.1711    136.4156                           \n",
       "5 50673.13          941.3222    136.4156                           \n",
       "6 50951.43          956.8467    219.9456                           \n",
       "  Eotaxin_5301.7\n",
       "1 17595.747     \n",
       "2 13668.098     \n",
       "3 20824.489     \n",
       "4 15120.460     \n",
       "5  9568.836     \n",
       "6 20334.804     "
      ]
     },
     "metadata": {},
     "output_type": "display_data"
    }
   ],
   "source": [
    "#gather the 4 proteins that are higher in active compared to inactive for active GCA\n",
    "active_proteins_higher = data.frame(matrix(data=0,nrow = 30, ncol = num_higher_in_active))\n",
    "colnames(active_proteins_higher) = significant_higher_in_active[,1]\n",
    "active_proteins_higher = get_sigfeatures(num_higher_in_active, higher_protein_names , active_df, active_proteins_higher)\n",
    "\n",
    "#get_sigfeatures = function(num_sigfigs, sigfeature_list, data_df, results_df)\n",
    "head(active_proteins_higher)"
   ]
  },
  {
   "cell_type": "code",
   "execution_count": 8,
   "id": "57e21f6e-cce1-4833-a230-4205b37adf8d",
   "metadata": {
    "tags": []
   },
   "outputs": [
    {
     "data": {
      "text/html": [
       "<table class=\"dataframe\">\n",
       "<caption>A data.frame: 6 × 4</caption>\n",
       "<thead>\n",
       "\t<tr><th></th><th scope=col>Apo.A.IV_17685.9</th><th scope=col>PGCB_3461.58</th><th scope=col>Protein.disulfide.isomerase_4278.14</th><th scope=col>Eotaxin_5301.7</th></tr>\n",
       "\t<tr><th></th><th scope=col>&lt;dbl&gt;</th><th scope=col>&lt;dbl&gt;</th><th scope=col>&lt;dbl&gt;</th><th scope=col>&lt;dbl&gt;</th></tr>\n",
       "</thead>\n",
       "<tbody>\n",
       "\t<tr><th scope=row>1</th><td>57341.34</td><td>1303.5233</td><td>132.98222</td><td>19805.476</td></tr>\n",
       "\t<tr><th scope=row>2</th><td>30511.46</td><td>1009.2356</td><td>129.90778</td><td> 3178.717</td></tr>\n",
       "\t<tr><th scope=row>3</th><td>28742.35</td><td> 903.9144</td><td> 99.63556</td><td> 5369.606</td></tr>\n",
       "\t<tr><th scope=row>4</th><td>60554.94</td><td> 699.1444</td><td>157.40000</td><td>17685.076</td></tr>\n",
       "\t<tr><th scope=row>5</th><td>45403.57</td><td> 803.5811</td><td>119.74778</td><td> 7096.086</td></tr>\n",
       "\t<tr><th scope=row>6</th><td>45579.01</td><td> 776.3444</td><td>171.48778</td><td>11742.980</td></tr>\n",
       "</tbody>\n",
       "</table>\n"
      ],
      "text/latex": [
       "A data.frame: 6 × 4\n",
       "\\begin{tabular}{r|llll}\n",
       "  & Apo.A.IV\\_17685.9 & PGCB\\_3461.58 & Protein.disulfide.isomerase\\_4278.14 & Eotaxin\\_5301.7\\\\\n",
       "  & <dbl> & <dbl> & <dbl> & <dbl>\\\\\n",
       "\\hline\n",
       "\t1 & 57341.34 & 1303.5233 & 132.98222 & 19805.476\\\\\n",
       "\t2 & 30511.46 & 1009.2356 & 129.90778 &  3178.717\\\\\n",
       "\t3 & 28742.35 &  903.9144 &  99.63556 &  5369.606\\\\\n",
       "\t4 & 60554.94 &  699.1444 & 157.40000 & 17685.076\\\\\n",
       "\t5 & 45403.57 &  803.5811 & 119.74778 &  7096.086\\\\\n",
       "\t6 & 45579.01 &  776.3444 & 171.48778 & 11742.980\\\\\n",
       "\\end{tabular}\n"
      ],
      "text/markdown": [
       "\n",
       "A data.frame: 6 × 4\n",
       "\n",
       "| <!--/--> | Apo.A.IV_17685.9 &lt;dbl&gt; | PGCB_3461.58 &lt;dbl&gt; | Protein.disulfide.isomerase_4278.14 &lt;dbl&gt; | Eotaxin_5301.7 &lt;dbl&gt; |\n",
       "|---|---|---|---|---|\n",
       "| 1 | 57341.34 | 1303.5233 | 132.98222 | 19805.476 |\n",
       "| 2 | 30511.46 | 1009.2356 | 129.90778 |  3178.717 |\n",
       "| 3 | 28742.35 |  903.9144 |  99.63556 |  5369.606 |\n",
       "| 4 | 60554.94 |  699.1444 | 157.40000 | 17685.076 |\n",
       "| 5 | 45403.57 |  803.5811 | 119.74778 |  7096.086 |\n",
       "| 6 | 45579.01 |  776.3444 | 171.48778 | 11742.980 |\n",
       "\n"
      ],
      "text/plain": [
       "  Apo.A.IV_17685.9 PGCB_3461.58 Protein.disulfide.isomerase_4278.14\n",
       "1 57341.34         1303.5233    132.98222                          \n",
       "2 30511.46         1009.2356    129.90778                          \n",
       "3 28742.35          903.9144     99.63556                          \n",
       "4 60554.94          699.1444    157.40000                          \n",
       "5 45403.57          803.5811    119.74778                          \n",
       "6 45579.01          776.3444    171.48778                          \n",
       "  Eotaxin_5301.7\n",
       "1 19805.476     \n",
       "2  3178.717     \n",
       "3  5369.606     \n",
       "4 17685.076     \n",
       "5  7096.086     \n",
       "6 11742.980     "
      ]
     },
     "metadata": {},
     "output_type": "display_data"
    }
   ],
   "source": [
    "#do the same for inactive, gather the 4 proteins higher in active compared to inactive\n",
    "inactive_proteins_higher = data.frame(matrix(data=0,nrow = 30, ncol = num_higher_in_active))\n",
    "colnames(inactive_proteins_higher) = significant_higher_in_active[,1]\n",
    "inactive_proteins_higher = get_sigfeatures(num_higher_in_active, higher_protein_names , inactive_df, inactive_proteins_higher)\n",
    "\n",
    "#get_sigfeatures = function(num_sigfigs, sigfeature_list, data_df, results_df)\n",
    "head(inactive_proteins_higher)"
   ]
  },
  {
   "cell_type": "code",
   "execution_count": 9,
   "id": "e0ca4dc0-9e2a-4ff1-9f9e-160d1f749e6d",
   "metadata": {
    "tags": []
   },
   "outputs": [
    {
     "data": {
      "text/html": [
       "<style>\n",
       ".list-inline {list-style: none; margin:0; padding: 0}\n",
       ".list-inline>li {display: inline-block}\n",
       ".list-inline>li:not(:last-child)::after {content: \"\\00b7\"; padding: 0 .5ex}\n",
       "</style>\n",
       "<ol class=list-inline><li>30</li><li>12</li></ol>\n"
      ],
      "text/latex": [
       "\\begin{enumerate*}\n",
       "\\item 30\n",
       "\\item 12\n",
       "\\end{enumerate*}\n"
      ],
      "text/markdown": [
       "1. 30\n",
       "2. 12\n",
       "\n",
       "\n"
      ],
      "text/plain": [
       "[1] 30 12"
      ]
     },
     "metadata": {},
     "output_type": "display_data"
    }
   ],
   "source": [
    "#now get the 6 proteins that are lower in active compared to inactive for active gca\n",
    "active_proteins_lower = data.frame(matrix(data=0,nrow = 30, ncol = num_lower_in_active))\n",
    "colnames(active_proteins_lower) = significant_lower_in_active[,1]\n",
    "active_proteins_lower = get_sigfeatures(num_lower_in_active, lower_protein_names , active_df, active_proteins_lower)\n",
    "\n",
    "#get_sigfeatures = function(num_sigfigs, sigfeature_list, data_df, results_df)\n",
    "active_proteins_lower$Study_group = active_df$Study_group\n",
    "active_proteins_lower$sample_ID = active_df$sample_ID\n",
    "active_proteins_lower$sex = active_demographics_df$Sex\n",
    "active_proteins_lower$smoking = active_demographics_df$Smoking\n",
    "active_proteins_lower$age = active_demographics_df$Age\n",
    "active_proteins_lower$bmi = active_demographics_df$BMI_Kg_M2\n",
    "\n",
    "dim(active_proteins_lower)"
   ]
  },
  {
   "cell_type": "code",
   "execution_count": 10,
   "id": "522b8537-7b0b-4869-9cf2-73371960fbee",
   "metadata": {
    "tags": []
   },
   "outputs": [
    {
     "data": {
      "text/html": [
       "<style>\n",
       ".list-inline {list-style: none; margin:0; padding: 0}\n",
       ".list-inline>li {display: inline-block}\n",
       ".list-inline>li:not(:last-child)::after {content: \"\\00b7\"; padding: 0 .5ex}\n",
       "</style>\n",
       "<ol class=list-inline><li>30</li><li>12</li></ol>\n"
      ],
      "text/latex": [
       "\\begin{enumerate*}\n",
       "\\item 30\n",
       "\\item 12\n",
       "\\end{enumerate*}\n"
      ],
      "text/markdown": [
       "1. 30\n",
       "2. 12\n",
       "\n",
       "\n"
      ],
      "text/plain": [
       "[1] 30 12"
      ]
     },
     "metadata": {},
     "output_type": "display_data"
    }
   ],
   "source": [
    "#now get the 6 proteins that are lower in active compared to inactive for inactive gca\n",
    "inactive_proteins_lower = data.frame(matrix(data=0,nrow = 30, ncol = num_lower_in_active))\n",
    "colnames(inactive_proteins_lower) = significant_lower_in_active[,1]\n",
    "inactive_proteins_lower = get_sigfeatures(num_lower_in_active, lower_protein_names , inactive_df, inactive_proteins_lower)\n",
    "\n",
    "#get_sigfeatures = function(num_sigfigs, sigfeature_list, data_df, results_df)\n",
    "inactive_proteins_lower$Study_group = inactive_df$Study_group\n",
    "inactive_proteins_lower$sample_ID = inactive_df$sample_ID\n",
    "inactive_proteins_lower$sex = inactive_demographics_df$Sex\n",
    "inactive_proteins_lower$smoking = inactive_demographics_df$Smoking\n",
    "inactive_proteins_lower$age = inactive_demographics_df$Age\n",
    "inactive_proteins_lower$bmi = inactive_demographics_df$BMI_Kg_M2\n",
    "\n",
    "dim(inactive_proteins_lower)"
   ]
  },
  {
   "cell_type": "code",
   "execution_count": 11,
   "id": "cc2036b9-84a1-41d2-91af-76aca5efb045",
   "metadata": {},
   "outputs": [
    {
     "data": {
      "text/html": [
       "<style>\n",
       ".list-inline {list-style: none; margin:0; padding: 0}\n",
       ".list-inline>li {display: inline-block}\n",
       ".list-inline>li:not(:last-child)::after {content: \"\\00b7\"; padding: 0 .5ex}\n",
       "</style>\n",
       "<ol class=list-inline><li>60</li><li>4</li></ol>\n"
      ],
      "text/latex": [
       "\\begin{enumerate*}\n",
       "\\item 60\n",
       "\\item 4\n",
       "\\end{enumerate*}\n"
      ],
      "text/markdown": [
       "1. 60\n",
       "2. 4\n",
       "\n",
       "\n"
      ],
      "text/plain": [
       "[1] 60  4"
      ]
     },
     "metadata": {},
     "output_type": "display_data"
    },
    {
     "data": {
      "text/html": [
       "<style>\n",
       ".list-inline {list-style: none; margin:0; padding: 0}\n",
       ".list-inline>li {display: inline-block}\n",
       ".list-inline>li:not(:last-child)::after {content: \"\\00b7\"; padding: 0 .5ex}\n",
       "</style>\n",
       "<ol class=list-inline><li>60</li><li>12</li></ol>\n"
      ],
      "text/latex": [
       "\\begin{enumerate*}\n",
       "\\item 60\n",
       "\\item 12\n",
       "\\end{enumerate*}\n"
      ],
      "text/markdown": [
       "1. 60\n",
       "2. 12\n",
       "\n",
       "\n"
      ],
      "text/plain": [
       "[1] 60 12"
      ]
     },
     "metadata": {},
     "output_type": "display_data"
    }
   ],
   "source": [
    "#combine the 3 proteins higher in active for both active and inactive\n",
    "all_proteins_higher = rbind(active_proteins_higher,inactive_proteins_higher)\n",
    "dim(all_proteins_higher)\n",
    "\n",
    "#combine the 6 proteins lower in active for both active and inactive \n",
    "all_lower_proteins = rbind(active_proteins_lower,inactive_proteins_lower)\n",
    "dim(all_lower_proteins)"
   ]
  },
  {
   "cell_type": "code",
   "execution_count": 23,
   "id": "2560cb20-b940-42ee-8cba-af683a279652",
   "metadata": {},
   "outputs": [
    {
     "data": {
      "text/html": [
       "<style>\n",
       ".list-inline {list-style: none; margin:0; padding: 0}\n",
       ".list-inline>li {display: inline-block}\n",
       ".list-inline>li:not(:last-child)::after {content: \"\\00b7\"; padding: 0 .5ex}\n",
       "</style>\n",
       "<ol class=list-inline><li>60</li><li>16</li></ol>\n"
      ],
      "text/latex": [
       "\\begin{enumerate*}\n",
       "\\item 60\n",
       "\\item 16\n",
       "\\end{enumerate*}\n"
      ],
      "text/markdown": [
       "1. 60\n",
       "2. 16\n",
       "\n",
       "\n"
      ],
      "text/plain": [
       "[1] 60 16"
      ]
     },
     "metadata": {},
     "output_type": "display_data"
    },
    {
     "data": {
      "text/html": [
       "<table class=\"dataframe\">\n",
       "<caption>A data.frame: 10 × 1</caption>\n",
       "<thead>\n",
       "\t<tr><th scope=col>colnames.all_proteins_active_and_inactive_only...1.total_num_significant..</th></tr>\n",
       "\t<tr><th scope=col>&lt;chr&gt;</th></tr>\n",
       "</thead>\n",
       "<tbody>\n",
       "\t<tr><td>Apo.A.IV_17685.9                   </td></tr>\n",
       "\t<tr><td>PGCB_3461.58                       </td></tr>\n",
       "\t<tr><td>Protein.disulfide.isomerase_4278.14</td></tr>\n",
       "\t<tr><td>Eotaxin_5301.7                     </td></tr>\n",
       "\t<tr><td>PLOD3_10612.18                     </td></tr>\n",
       "\t<tr><td>IMPA1_17796.15                     </td></tr>\n",
       "\t<tr><td>NRN1L_20159.1                      </td></tr>\n",
       "\t<tr><td>TOM1_25492.7                       </td></tr>\n",
       "\t<tr><td>MMP.12_4496.60                     </td></tr>\n",
       "\t<tr><td>PGP9.5_5019.16                     </td></tr>\n",
       "</tbody>\n",
       "</table>\n"
      ],
      "text/latex": [
       "A data.frame: 10 × 1\n",
       "\\begin{tabular}{l}\n",
       " colnames.all\\_proteins\\_active\\_and\\_inactive\\_only...1.total\\_num\\_significant..\\\\\n",
       " <chr>\\\\\n",
       "\\hline\n",
       "\t Apo.A.IV\\_17685.9                   \\\\\n",
       "\t PGCB\\_3461.58                       \\\\\n",
       "\t Protein.disulfide.isomerase\\_4278.14\\\\\n",
       "\t Eotaxin\\_5301.7                     \\\\\n",
       "\t PLOD3\\_10612.18                     \\\\\n",
       "\t IMPA1\\_17796.15                     \\\\\n",
       "\t NRN1L\\_20159.1                      \\\\\n",
       "\t TOM1\\_25492.7                       \\\\\n",
       "\t MMP.12\\_4496.60                     \\\\\n",
       "\t PGP9.5\\_5019.16                     \\\\\n",
       "\\end{tabular}\n"
      ],
      "text/markdown": [
       "\n",
       "A data.frame: 10 × 1\n",
       "\n",
       "| colnames.all_proteins_active_and_inactive_only...1.total_num_significant.. &lt;chr&gt; |\n",
       "|---|\n",
       "| Apo.A.IV_17685.9                    |\n",
       "| PGCB_3461.58                        |\n",
       "| Protein.disulfide.isomerase_4278.14 |\n",
       "| Eotaxin_5301.7                      |\n",
       "| PLOD3_10612.18                      |\n",
       "| IMPA1_17796.15                      |\n",
       "| NRN1L_20159.1                       |\n",
       "| TOM1_25492.7                        |\n",
       "| MMP.12_4496.60                      |\n",
       "| PGP9.5_5019.16                      |\n",
       "\n"
      ],
      "text/plain": [
       "   colnames.all_proteins_active_and_inactive_only...1.total_num_significant..\n",
       "1  Apo.A.IV_17685.9                                                          \n",
       "2  PGCB_3461.58                                                              \n",
       "3  Protein.disulfide.isomerase_4278.14                                       \n",
       "4  Eotaxin_5301.7                                                            \n",
       "5  PLOD3_10612.18                                                            \n",
       "6  IMPA1_17796.15                                                            \n",
       "7  NRN1L_20159.1                                                             \n",
       "8  TOM1_25492.7                                                              \n",
       "9  MMP.12_4496.60                                                            \n",
       "10 PGP9.5_5019.16                                                            "
      ]
     },
     "metadata": {},
     "output_type": "display_data"
    }
   ],
   "source": [
    "all_proteins = cbind(all_proteins_higher,all_lower_proteins)\n",
    "dim(all_proteins)\n",
    "#save the protein names\n",
    "protein_names = data.frame(colnames(all_proteins_active_and_inactive_only[,1:total_num_significant]))\n",
    "protein_names"
   ]
  },
  {
   "cell_type": "code",
   "execution_count": 14,
   "id": "19e98ae1-f95e-43df-b670-a8ea26a604c7",
   "metadata": {},
   "outputs": [
    {
     "data": {
      "text/html": [
       "<style>\n",
       ".list-inline {list-style: none; margin:0; padding: 0}\n",
       ".list-inline>li {display: inline-block}\n",
       ".list-inline>li:not(:last-child)::after {content: \"\\00b7\"; padding: 0 .5ex}\n",
       "</style>\n",
       "<ol class=list-inline><li>60</li><li>10</li></ol>\n"
      ],
      "text/latex": [
       "\\begin{enumerate*}\n",
       "\\item 60\n",
       "\\item 10\n",
       "\\end{enumerate*}\n"
      ],
      "text/markdown": [
       "1. 60\n",
       "2. 10\n",
       "\n",
       "\n"
      ],
      "text/plain": [
       "[1] 60 10"
      ]
     },
     "metadata": {},
     "output_type": "display_data"
    },
    {
     "data": {
      "text/html": [
       "<table class=\"dataframe\">\n",
       "<caption>A data.frame: 6 × 10</caption>\n",
       "<thead>\n",
       "\t<tr><th></th><th scope=col>Apo.A.IV_17685.9</th><th scope=col>PGCB_3461.58</th><th scope=col>Protein.disulfide.isomerase_4278.14</th><th scope=col>Eotaxin_5301.7</th><th scope=col>PLOD3_10612.18</th><th scope=col>IMPA1_17796.15</th><th scope=col>NRN1L_20159.1</th><th scope=col>TOM1_25492.7</th><th scope=col>MMP.12_4496.60</th><th scope=col>PGP9.5_5019.16</th></tr>\n",
       "\t<tr><th></th><th scope=col>&lt;dbl&gt;</th><th scope=col>&lt;dbl&gt;</th><th scope=col>&lt;dbl&gt;</th><th scope=col>&lt;dbl&gt;</th><th scope=col>&lt;dbl&gt;</th><th scope=col>&lt;dbl&gt;</th><th scope=col>&lt;dbl&gt;</th><th scope=col>&lt;dbl&gt;</th><th scope=col>&lt;dbl&gt;</th><th scope=col>&lt;dbl&gt;</th></tr>\n",
       "</thead>\n",
       "<tbody>\n",
       "\t<tr><th scope=row>KP9U</th><td>53530.21</td><td>1132.5422</td><td>139.7789</td><td>17595.747</td><td>2612.307</td><td> 6973.928</td><td> 932.5706</td><td>287.9711</td><td>1573.7256</td><td>1000.8433</td></tr>\n",
       "\t<tr><th scope=row>KP65</th><td>56960.55</td><td>1458.2700</td><td>143.9733</td><td>13668.098</td><td>1616.750</td><td> 4096.007</td><td> 676.6300</td><td>297.5733</td><td> 923.0178</td><td> 850.1989</td></tr>\n",
       "\t<tr><th scope=row>KP6H</th><td>78246.65</td><td>1203.2367</td><td>110.7444</td><td>20824.489</td><td>1793.763</td><td> 3886.769</td><td>1706.3978</td><td>404.4844</td><td>2020.4522</td><td> 982.0522</td></tr>\n",
       "\t<tr><th scope=row>KP68</th><td>57341.34</td><td> 674.1711</td><td>136.4156</td><td>15120.460</td><td>2362.923</td><td> 6310.377</td><td> 973.7956</td><td>271.1889</td><td>1527.9356</td><td> 786.0711</td></tr>\n",
       "\t<tr><th scope=row>KNYU</th><td>50673.13</td><td> 941.3222</td><td>136.4156</td><td> 9568.836</td><td>2190.531</td><td> 5515.048</td><td> 945.0678</td><td>276.0806</td><td>1478.5522</td><td>1024.3611</td></tr>\n",
       "\t<tr><th scope=row>KP9R</th><td>50951.43</td><td> 956.8467</td><td>219.9456</td><td>20334.804</td><td>2052.130</td><td>11404.437</td><td> 743.5833</td><td>271.3867</td><td> 705.3644</td><td>1193.5600</td></tr>\n",
       "</tbody>\n",
       "</table>\n"
      ],
      "text/latex": [
       "A data.frame: 6 × 10\n",
       "\\begin{tabular}{r|llllllllll}\n",
       "  & Apo.A.IV\\_17685.9 & PGCB\\_3461.58 & Protein.disulfide.isomerase\\_4278.14 & Eotaxin\\_5301.7 & PLOD3\\_10612.18 & IMPA1\\_17796.15 & NRN1L\\_20159.1 & TOM1\\_25492.7 & MMP.12\\_4496.60 & PGP9.5\\_5019.16\\\\\n",
       "  & <dbl> & <dbl> & <dbl> & <dbl> & <dbl> & <dbl> & <dbl> & <dbl> & <dbl> & <dbl>\\\\\n",
       "\\hline\n",
       "\tKP9U & 53530.21 & 1132.5422 & 139.7789 & 17595.747 & 2612.307 &  6973.928 &  932.5706 & 287.9711 & 1573.7256 & 1000.8433\\\\\n",
       "\tKP65 & 56960.55 & 1458.2700 & 143.9733 & 13668.098 & 1616.750 &  4096.007 &  676.6300 & 297.5733 &  923.0178 &  850.1989\\\\\n",
       "\tKP6H & 78246.65 & 1203.2367 & 110.7444 & 20824.489 & 1793.763 &  3886.769 & 1706.3978 & 404.4844 & 2020.4522 &  982.0522\\\\\n",
       "\tKP68 & 57341.34 &  674.1711 & 136.4156 & 15120.460 & 2362.923 &  6310.377 &  973.7956 & 271.1889 & 1527.9356 &  786.0711\\\\\n",
       "\tKNYU & 50673.13 &  941.3222 & 136.4156 &  9568.836 & 2190.531 &  5515.048 &  945.0678 & 276.0806 & 1478.5522 & 1024.3611\\\\\n",
       "\tKP9R & 50951.43 &  956.8467 & 219.9456 & 20334.804 & 2052.130 & 11404.437 &  743.5833 & 271.3867 &  705.3644 & 1193.5600\\\\\n",
       "\\end{tabular}\n"
      ],
      "text/markdown": [
       "\n",
       "A data.frame: 6 × 10\n",
       "\n",
       "| <!--/--> | Apo.A.IV_17685.9 &lt;dbl&gt; | PGCB_3461.58 &lt;dbl&gt; | Protein.disulfide.isomerase_4278.14 &lt;dbl&gt; | Eotaxin_5301.7 &lt;dbl&gt; | PLOD3_10612.18 &lt;dbl&gt; | IMPA1_17796.15 &lt;dbl&gt; | NRN1L_20159.1 &lt;dbl&gt; | TOM1_25492.7 &lt;dbl&gt; | MMP.12_4496.60 &lt;dbl&gt; | PGP9.5_5019.16 &lt;dbl&gt; |\n",
       "|---|---|---|---|---|---|---|---|---|---|---|\n",
       "| KP9U | 53530.21 | 1132.5422 | 139.7789 | 17595.747 | 2612.307 |  6973.928 |  932.5706 | 287.9711 | 1573.7256 | 1000.8433 |\n",
       "| KP65 | 56960.55 | 1458.2700 | 143.9733 | 13668.098 | 1616.750 |  4096.007 |  676.6300 | 297.5733 |  923.0178 |  850.1989 |\n",
       "| KP6H | 78246.65 | 1203.2367 | 110.7444 | 20824.489 | 1793.763 |  3886.769 | 1706.3978 | 404.4844 | 2020.4522 |  982.0522 |\n",
       "| KP68 | 57341.34 |  674.1711 | 136.4156 | 15120.460 | 2362.923 |  6310.377 |  973.7956 | 271.1889 | 1527.9356 |  786.0711 |\n",
       "| KNYU | 50673.13 |  941.3222 | 136.4156 |  9568.836 | 2190.531 |  5515.048 |  945.0678 | 276.0806 | 1478.5522 | 1024.3611 |\n",
       "| KP9R | 50951.43 |  956.8467 | 219.9456 | 20334.804 | 2052.130 | 11404.437 |  743.5833 | 271.3867 |  705.3644 | 1193.5600 |\n",
       "\n"
      ],
      "text/plain": [
       "     Apo.A.IV_17685.9 PGCB_3461.58 Protein.disulfide.isomerase_4278.14\n",
       "KP9U 53530.21         1132.5422    139.7789                           \n",
       "KP65 56960.55         1458.2700    143.9733                           \n",
       "KP6H 78246.65         1203.2367    110.7444                           \n",
       "KP68 57341.34          674.1711    136.4156                           \n",
       "KNYU 50673.13          941.3222    136.4156                           \n",
       "KP9R 50951.43          956.8467    219.9456                           \n",
       "     Eotaxin_5301.7 PLOD3_10612.18 IMPA1_17796.15 NRN1L_20159.1 TOM1_25492.7\n",
       "KP9U 17595.747      2612.307        6973.928       932.5706     287.9711    \n",
       "KP65 13668.098      1616.750        4096.007       676.6300     297.5733    \n",
       "KP6H 20824.489      1793.763        3886.769      1706.3978     404.4844    \n",
       "KP68 15120.460      2362.923        6310.377       973.7956     271.1889    \n",
       "KNYU  9568.836      2190.531        5515.048       945.0678     276.0806    \n",
       "KP9R 20334.804      2052.130       11404.437       743.5833     271.3867    \n",
       "     MMP.12_4496.60 PGP9.5_5019.16\n",
       "KP9U 1573.7256      1000.8433     \n",
       "KP65  923.0178       850.1989     \n",
       "KP6H 2020.4522       982.0522     \n",
       "KP68 1527.9356       786.0711     \n",
       "KNYU 1478.5522      1024.3611     \n",
       "KP9R  705.3644      1193.5600     "
      ]
     },
     "metadata": {},
     "output_type": "display_data"
    }
   ],
   "source": [
    "#1. Remove the column of Case IDs and sample status. Make the row names the Case ID\n",
    "all_proteins_active_and_inactive_only = all_proteins[,1:total_num_significant]\n",
    "dim(all_proteins_active_and_inactive_only)\n",
    "rownames(all_proteins_active_and_inactive_only) = all_proteins$sample_ID\n",
    "head(all_proteins_active_and_inactive_only)"
   ]
  },
  {
   "cell_type": "code",
   "execution_count": 15,
   "id": "9e24705a-5292-47b6-80af-ecb32f5f21e8",
   "metadata": {},
   "outputs": [
    {
     "data": {
      "text/html": [
       "<table class=\"dataframe\">\n",
       "<caption>A data.frame: 6 × 5</caption>\n",
       "<thead>\n",
       "\t<tr><th></th><th scope=col>Study_group</th><th scope=col>sex</th><th scope=col>smoking</th><th scope=col>age</th><th scope=col>bmi</th></tr>\n",
       "\t<tr><th></th><th scope=col>&lt;chr&gt;</th><th scope=col>&lt;chr&gt;</th><th scope=col>&lt;chr&gt;</th><th scope=col>&lt;dbl&gt;</th><th scope=col>&lt;dbl&gt;</th></tr>\n",
       "</thead>\n",
       "<tbody>\n",
       "\t<tr><th scope=row>KP9U</th><td>Active</td><td>Male  </td><td>No </td><td>69.0</td><td>      NA</td></tr>\n",
       "\t<tr><th scope=row>KP65</th><td>Active</td><td>Female</td><td>No </td><td>71.7</td><td>27.10246</td></tr>\n",
       "\t<tr><th scope=row>KP6H</th><td>Active</td><td>Male  </td><td>No </td><td>79.6</td><td>26.18892</td></tr>\n",
       "\t<tr><th scope=row>KP68</th><td>Active</td><td>Female</td><td>Yes</td><td>63.1</td><td>28.44349</td></tr>\n",
       "\t<tr><th scope=row>KNYU</th><td>Active</td><td>Female</td><td>Yes</td><td>65.3</td><td>23.56477</td></tr>\n",
       "\t<tr><th scope=row>KP9R</th><td>Active</td><td>Female</td><td>No </td><td>72.4</td><td>29.70839</td></tr>\n",
       "</tbody>\n",
       "</table>\n"
      ],
      "text/latex": [
       "A data.frame: 6 × 5\n",
       "\\begin{tabular}{r|lllll}\n",
       "  & Study\\_group & sex & smoking & age & bmi\\\\\n",
       "  & <chr> & <chr> & <chr> & <dbl> & <dbl>\\\\\n",
       "\\hline\n",
       "\tKP9U & Active & Male   & No  & 69.0 &       NA\\\\\n",
       "\tKP65 & Active & Female & No  & 71.7 & 27.10246\\\\\n",
       "\tKP6H & Active & Male   & No  & 79.6 & 26.18892\\\\\n",
       "\tKP68 & Active & Female & Yes & 63.1 & 28.44349\\\\\n",
       "\tKNYU & Active & Female & Yes & 65.3 & 23.56477\\\\\n",
       "\tKP9R & Active & Female & No  & 72.4 & 29.70839\\\\\n",
       "\\end{tabular}\n"
      ],
      "text/markdown": [
       "\n",
       "A data.frame: 6 × 5\n",
       "\n",
       "| <!--/--> | Study_group &lt;chr&gt; | sex &lt;chr&gt; | smoking &lt;chr&gt; | age &lt;dbl&gt; | bmi &lt;dbl&gt; |\n",
       "|---|---|---|---|---|---|\n",
       "| KP9U | Active | Male   | No  | 69.0 |       NA |\n",
       "| KP65 | Active | Female | No  | 71.7 | 27.10246 |\n",
       "| KP6H | Active | Male   | No  | 79.6 | 26.18892 |\n",
       "| KP68 | Active | Female | Yes | 63.1 | 28.44349 |\n",
       "| KNYU | Active | Female | Yes | 65.3 | 23.56477 |\n",
       "| KP9R | Active | Female | No  | 72.4 | 29.70839 |\n",
       "\n"
      ],
      "text/plain": [
       "     Study_group sex    smoking age  bmi     \n",
       "KP9U Active      Male   No      69.0       NA\n",
       "KP65 Active      Female No      71.7 27.10246\n",
       "KP6H Active      Male   No      79.6 26.18892\n",
       "KP68 Active      Female Yes     63.1 28.44349\n",
       "KNYU Active      Female Yes     65.3 23.56477\n",
       "KP9R Active      Female No      72.4 29.70839"
      ]
     },
     "metadata": {},
     "output_type": "display_data"
    }
   ],
   "source": [
    "#2.#Make a vector of the sample status for the heatmap\n",
    " \n",
    "colors_df2 <- data.frame(matrix(data = 0, nrow = 60, ncol=5))\n",
    "colnames(colors_df2) <- c(\"Study_group\",\"sex\",\"smoking\",\"age\",\"bmi\")\n",
    "# #print(colors_df)\n",
    "colors_df2[,1] <- all_proteins$Study_group\n",
    "colors_df2[,2] <- all_proteins$sex\n",
    "colors_df2[,3] <- all_proteins$smoking\n",
    "colors_df2[,4] <- all_proteins$age\n",
    "colors_df2[,5] <- all_proteins$bmi\n",
    "\n",
    "rownames(colors_df2) <- all_proteins$sample_ID\n",
    "head(colors_df2)"
   ]
  },
  {
   "cell_type": "code",
   "execution_count": 16,
   "id": "a4f78b7b-e3ba-4a05-9517-285805a5f322",
   "metadata": {},
   "outputs": [],
   "source": [
    "# 3. define breaks\n",
    "paletteLength <- 100\n",
    "myColor <- colorRampPalette(c(\"Royalblue\", \"white\", \"Firebrick\"))(paletteLength)\n",
    "myBreaks <- c(seq(-6, 0, length.out=ceiling(paletteLength/2) + 1), \n",
    "              seq(6/paletteLength, 6, length.out=floor(paletteLength/2)))"
   ]
  },
  {
   "cell_type": "code",
   "execution_count": 17,
   "id": "9f9bc77f-9d9a-443a-9ad1-f236c1dcfea0",
   "metadata": {},
   "outputs": [],
   "source": [
    "#4. z score\n",
    "\n",
    "zscore_all_proteins_active_and_inactive_only = scale(all_proteins_active_and_inactive_only, center=TRUE,scale=TRUE)\n",
    "zscore_all_proteins_active_and_inactive_only_transposed = t(zscore_all_proteins_active_and_inactive_only)\n",
    "colnames(zscore_all_proteins_active_and_inactive_only_transposed) = all_proteins$sample_ID"
   ]
  },
  {
   "cell_type": "code",
   "execution_count": 43,
   "id": "d9cf5024-499b-4e00-b73e-69060abf7e20",
   "metadata": {},
   "outputs": [
    {
     "data": {
      "text/html": [
       "<strong>pdf:</strong> 2"
      ],
      "text/latex": [
       "\\textbf{pdf:} 2"
      ],
      "text/markdown": [
       "**pdf:** 2"
      ],
      "text/plain": [
       "pdf \n",
       "  2 "
      ]
     },
     "metadata": {},
     "output_type": "display_data"
    },
    {
     "data": {
      "image/png": "[encoded data removed]",
      "text/plain": [
       "plot without title"
      ]
     },
     "metadata": {
      "image/png": {
       "height": 420,
       "width": 420
      }
     },
     "output_type": "display_data"
    }
   ],
   "source": [
    "heatmap_plot1 <- pheatmap(zscore_all_proteins_active_and_inactive_only_transposed, annotation = colors_df2,show_colnames = TRUE,\n",
    "                          show_rownames = TRUE, cluster_cols = FALSE, cluster_rows = FALSE,   color = myColor, breaks = myBreaks)\n",
    "pdf(file=\"../../analysis/Figure2_A_B_C_D_E_F/Active_GCA_vs_Inactive_GCA_heatmap.pdf\", width = 12, height = 12)\n",
    "print(heatmap_plot1)\n",
    "dev.off()\n",
    "print(heatmap_plot1)"
   ]
  },
  {
   "cell_type": "code",
   "execution_count": 19,
   "id": "f6e09f1f-80df-47b8-aa15-391be71a582b",
   "metadata": {},
   "outputs": [
    {
     "data": {
      "text/html": [
       "<table class=\"dataframe\">\n",
       "<caption>A data.frame: 6 × 1</caption>\n",
       "<thead>\n",
       "\t<tr><th></th><th scope=col>age</th></tr>\n",
       "\t<tr><th></th><th scope=col>&lt;dbl&gt;</th></tr>\n",
       "</thead>\n",
       "<tbody>\n",
       "\t<tr><th scope=row>KP9U</th><td>69.0</td></tr>\n",
       "\t<tr><th scope=row>KP65</th><td>71.7</td></tr>\n",
       "\t<tr><th scope=row>KP6H</th><td>79.6</td></tr>\n",
       "\t<tr><th scope=row>KP68</th><td>63.1</td></tr>\n",
       "\t<tr><th scope=row>KNYU</th><td>65.3</td></tr>\n",
       "\t<tr><th scope=row>KP9R</th><td>72.4</td></tr>\n",
       "</tbody>\n",
       "</table>\n"
      ],
      "text/latex": [
       "A data.frame: 6 × 1\n",
       "\\begin{tabular}{r|l}\n",
       "  & age\\\\\n",
       "  & <dbl>\\\\\n",
       "\\hline\n",
       "\tKP9U & 69.0\\\\\n",
       "\tKP65 & 71.7\\\\\n",
       "\tKP6H & 79.6\\\\\n",
       "\tKP68 & 63.1\\\\\n",
       "\tKNYU & 65.3\\\\\n",
       "\tKP9R & 72.4\\\\\n",
       "\\end{tabular}\n"
      ],
      "text/markdown": [
       "\n",
       "A data.frame: 6 × 1\n",
       "\n",
       "| <!--/--> | age &lt;dbl&gt; |\n",
       "|---|---|\n",
       "| KP9U | 69.0 |\n",
       "| KP65 | 71.7 |\n",
       "| KP6H | 79.6 |\n",
       "| KP68 | 63.1 |\n",
       "| KNYU | 65.3 |\n",
       "| KP9R | 72.4 |\n",
       "\n"
      ],
      "text/plain": [
       "     age \n",
       "KP9U 69.0\n",
       "KP65 71.7\n",
       "KP6H 79.6\n",
       "KP68 63.1\n",
       "KNYU 65.3\n",
       "KP9R 72.4"
      ]
     },
     "metadata": {},
     "output_type": "display_data"
    }
   ],
   "source": [
    "#2.#Make a vector of the sample status for the heatmap\n",
    " \n",
    "colors_df3 <- data.frame(matrix(data = 0, nrow = 60, ncol=1))\n",
    "colnames(colors_df3) <- \"age\"\n",
    "# #print(colors_df)\n",
    "colors_df3[,1] <- all_proteins$age\n",
    "rownames(colors_df3) <- all_proteins$sample_ID\n",
    "head(colors_df3)"
   ]
  },
  {
   "cell_type": "code",
   "execution_count": 42,
   "id": "5c7bd372-327d-4d47-9f6b-434a94df1360",
   "metadata": {},
   "outputs": [
    {
     "data": {
      "text/html": [
       "<strong>pdf:</strong> 2"
      ],
      "text/latex": [
       "\\textbf{pdf:} 2"
      ],
      "text/markdown": [
       "**pdf:** 2"
      ],
      "text/plain": [
       "pdf \n",
       "  2 "
      ]
     },
     "metadata": {},
     "output_type": "display_data"
    },
    {
     "data": {
      "image/png": "[encoded data removed]",
      "text/plain": [
       "plot without title"
      ]
     },
     "metadata": {
      "image/png": {
       "height": 420,
       "width": 420
      }
     },
     "output_type": "display_data"
    }
   ],
   "source": [
    "heatmap_plot2 <- pheatmap(t(colors_df3),show_colnames = FALSE,\n",
    "                          show_rownames = FALSE, cluster_cols = FALSE, cluster_rows = FALSE,color = colorRampPalette(c(\"white\",\"darkgreen\"))(n=100))\n",
    "pdf(file=\"../../analysis/Figure2_A_B_C_D_E_F/Active_GCA_vs_Inactive_GCA_age_heatmap.pdf\")\n",
    "print(heatmap_plot2)\n",
    "dev.off()\n",
    "print(heatmap_plot2)"
   ]
  },
  {
   "cell_type": "code",
   "execution_count": 29,
   "id": "70a13371-d838-462e-887d-ec4d51194eac",
   "metadata": {},
   "outputs": [
    {
     "data": {
      "text/html": [
       "<table class=\"dataframe\">\n",
       "<caption>A data.frame: 6 × 1</caption>\n",
       "<thead>\n",
       "\t<tr><th></th><th scope=col>bmi</th></tr>\n",
       "\t<tr><th></th><th scope=col>&lt;dbl&gt;</th></tr>\n",
       "</thead>\n",
       "<tbody>\n",
       "\t<tr><th scope=row>KP9U</th><td>      NA</td></tr>\n",
       "\t<tr><th scope=row>KP65</th><td>27.10246</td></tr>\n",
       "\t<tr><th scope=row>KP6H</th><td>26.18892</td></tr>\n",
       "\t<tr><th scope=row>KP68</th><td>28.44349</td></tr>\n",
       "\t<tr><th scope=row>KNYU</th><td>23.56477</td></tr>\n",
       "\t<tr><th scope=row>KP9R</th><td>29.70839</td></tr>\n",
       "</tbody>\n",
       "</table>\n"
      ],
      "text/latex": [
       "A data.frame: 6 × 1\n",
       "\\begin{tabular}{r|l}\n",
       "  & bmi\\\\\n",
       "  & <dbl>\\\\\n",
       "\\hline\n",
       "\tKP9U &       NA\\\\\n",
       "\tKP65 & 27.10246\\\\\n",
       "\tKP6H & 26.18892\\\\\n",
       "\tKP68 & 28.44349\\\\\n",
       "\tKNYU & 23.56477\\\\\n",
       "\tKP9R & 29.70839\\\\\n",
       "\\end{tabular}\n"
      ],
      "text/markdown": [
       "\n",
       "A data.frame: 6 × 1\n",
       "\n",
       "| <!--/--> | bmi &lt;dbl&gt; |\n",
       "|---|---|\n",
       "| KP9U |       NA |\n",
       "| KP65 | 27.10246 |\n",
       "| KP6H | 26.18892 |\n",
       "| KP68 | 28.44349 |\n",
       "| KNYU | 23.56477 |\n",
       "| KP9R | 29.70839 |\n",
       "\n"
      ],
      "text/plain": [
       "     bmi     \n",
       "KP9U       NA\n",
       "KP65 27.10246\n",
       "KP6H 26.18892\n",
       "KP68 28.44349\n",
       "KNYU 23.56477\n",
       "KP9R 29.70839"
      ]
     },
     "metadata": {},
     "output_type": "display_data"
    }
   ],
   "source": [
    "#2.#Make a vector of the sample status for the heatmap\n",
    " \n",
    "colors_df4 <- data.frame(matrix(data = 0, nrow = 60, ncol=1))\n",
    "colnames(colors_df4) <- \"bmi\"\n",
    "# #print(colors_df)\n",
    "colors_df4[,1] <- all_proteins$bmi\n",
    "rownames(colors_df4) <- all_proteins$sample_ID\n",
    "head(colors_df4)"
   ]
  },
  {
   "cell_type": "code",
   "execution_count": 44,
   "id": "fa63d2b7-694a-4bf1-a284-1d6ac3d6ba54",
   "metadata": {},
   "outputs": [
    {
     "data": {
      "text/html": [
       "<strong>pdf:</strong> 2"
      ],
      "text/latex": [
       "\\textbf{pdf:} 2"
      ],
      "text/markdown": [
       "**pdf:** 2"
      ],
      "text/plain": [
       "pdf \n",
       "  2 "
      ]
     },
     "metadata": {},
     "output_type": "display_data"
    },
    {
     "data": {
      "image/png": "[encoded data removed]",
      "text/plain": [
       "plot without title"
      ]
     },
     "metadata": {
      "image/png": {
       "height": 420,
       "width": 420
      }
     },
     "output_type": "display_data"
    }
   ],
   "source": [
    "heatmap_plot3 <- pheatmap(t(colors_df4),show_colnames = FALSE,show_rownames = FALSE, cluster_cols = FALSE, \n",
    "                          cluster_rows = FALSE,color = colorRampPalette(c(\"white\",\"purple3\"))(n=100), na_col = \"black\")\n",
    "pdf(file=\"../../analysis/Figure2_A_B_C_D_E_F/Active_GCA_vs_Inactive_GCA_bmi_heatmap.pdf\")\n",
    "print(heatmap_plot3)\n",
    "dev.off()\n",
    "print(heatmap_plot3)"
   ]
  },
  {
   "cell_type": "code",
   "execution_count": null,
   "id": "22b29884-dfd9-473a-917b-e2358fbb423c",
   "metadata": {},
   "outputs": [],
   "source": []
  }
 ],
 "metadata": {
  "kernelspec": {
   "display_name": "R",
   "language": "R",
   "name": "ir"
  },
  "language_info": {
   "codemirror_mode": "r",
   "file_extension": ".r",
   "mimetype": "text/x-r-source",
   "name": "R",
   "pygments_lexer": "r",
   "version": "4.2.2"
  }
 },
 "nbformat": 4,
 "nbformat_minor": 5
}
