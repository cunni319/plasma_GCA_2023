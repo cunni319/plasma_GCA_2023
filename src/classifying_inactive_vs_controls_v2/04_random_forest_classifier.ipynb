{
 "cells": [
  {
   "cell_type": "code",
   "execution_count": 1,
   "id": "512e787f-78b4-4a0c-89bd-e795b7ff0b2b",
   "metadata": {},
   "outputs": [],
   "source": [
    "from sklearn.ensemble import RandomForestClassifier\n",
    "from sklearn.linear_model import LogisticRegression\n",
    "from sklearn.metrics import r2_score\n",
    "import pandas as pd\n",
    "import numpy as np"
   ]
  },
  {
   "cell_type": "code",
   "execution_count": 2,
   "id": "969db651-4a1a-4908-a35e-3a9debfb5d1a",
   "metadata": {},
   "outputs": [],
   "source": [
    "def main(working_dir):\n",
    "\n",
    "    #classifying based on all features\n",
    "    for i in range(1,11):\n",
    "        #print(\"i: %s\" % (i))\n",
    "        train_file1 = \"../../analysis/classifying_inactive_vs_control_v2/%sfold/train/%strain%s.csv\" % (i,working_dir, i)\n",
    "        #print(train_file1)\n",
    "        train1 = pd.read_csv(train_file1)\n",
    "        \n",
    "\n",
    "        test_file1 = \"../../analysis/classifying_inactive_vs_control_v2/%sfold/test/%stest%s.csv\" % (i,working_dir, i)\n",
    "        #print(test_file1)\n",
    "        test1 = pd.read_csv(test_file1)\n",
    "         \n",
    "        feature_names = list(train1.columns.values)\n",
    "        num_features = len(feature_names)\n",
    "        feature_names = list(feature_names[4:num_features])\n",
    "        \n",
    "        x_train = train1[feature_names]\n",
    "        y_train = train1['Classifier']\n",
    "\n",
    "        x_test = test1[feature_names]\n",
    "        y_test = test1['Classifier']\n",
    "        rf_model = RandomForestClassifier(random_state=23)\n",
    "        # rf_model = LogisticRegression()\n",
    "\n",
    "        #print(feature_names)\n",
    "        rf_model.fit(x_train, y_train)\n",
    "        yhat1 = rf_model.predict(x_test)\n",
    "        predicted_and_actual_values = pd.DataFrame()\n",
    "        predicted_and_actual_values['Predicted'] = yhat1\n",
    "        predicted_and_actual_values['Actual'] = y_test\n",
    "        predicted_file = \"../../analysis/classifying_inactive_vs_control_v2/%sfold/predicted/%spredicted_vals%s.csv\" % (i,working_dir, i)\n",
    "        predicted_and_actual_values.to_csv(predicted_file,index=False)   \n",
    "\n",
    "        #features of importance\n",
    "        features_of_importance = rf_model.feature_importances_\n",
    "        features_of_importance = pd.DataFrame(features_of_importance)\n",
    "        features_of_importance['Protein'] = feature_names\n",
    "        #saving the dataframe\n",
    "        #df.to_csv('file1.csv')\n",
    "        features_of_importance_file = \"../../analysis/classifying_inactive_vs_control_v2/%sfold/features_of_importance/%sfeatures_of_importance%s.csv\" % (i,working_dir, i)\n",
    "        features_of_importance.to_csv(features_of_importance_file,index=False)\n",
    "\n"
   ]
  },
  {
   "cell_type": "code",
   "execution_count": 7,
   "id": "cdf52544-3cad-4465-a9cf-7074165eebef",
   "metadata": {},
   "outputs": [
    {
     "name": "stdout",
     "output_type": "stream",
     "text": [
      "done\n"
     ]
    }
   ],
   "source": [
    "temp_list = ['all_proteins_', 'top_10_proteins_', 'top_25_proteins_', 'top_50_proteins_',\n",
    "             'top_100_proteins_', 'top_150_proteins_', 'top_200_proteins_','top_250_proteins_']\n",
    "\n",
    "\n",
    "for working_dir in temp_list:\n",
    "    main(working_dir)\n",
    "    # break\n",
    "print(\"done\")"
   ]
  },
  {
   "cell_type": "code",
   "execution_count": null,
   "id": "a77a3f38-84d1-436e-bc34-74c70b11451c",
   "metadata": {},
   "outputs": [],
   "source": []
  }
 ],
 "metadata": {
  "kernelspec": {
   "display_name": "Python 3",
   "language": "python",
   "name": "python3"
  },
  "language_info": {
   "codemirror_mode": {
    "name": "ipython",
    "version": 3
   },
   "file_extension": ".py",
   "mimetype": "text/x-python",
   "name": "python",
   "nbconvert_exporter": "python",
   "pygments_lexer": "ipython3",
   "version": "3.9.12"
  }
 },
 "nbformat": 4,
 "nbformat_minor": 5
}
