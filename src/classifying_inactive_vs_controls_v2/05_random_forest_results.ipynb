{
 "cells": [
  {
   "cell_type": "code",
   "execution_count": 1,
   "id": "32a9c585-0454-4867-ab4f-9e1a873a5860",
   "metadata": {},
   "outputs": [],
   "source": [
    "import pandas as pd\n",
    "import numpy as np\n",
    "def confusion_matrix_statistics_nfold(predicted_values):\n",
    "    num_samples = len(predicted_values)\n",
    "       \n",
    "    true_positives = 0\n",
    "    true_negatives = 0\n",
    "    false_positives = 0\n",
    "    false_negatives = 0\n",
    "    for i in range(0,num_samples):\n",
    "        predicted_val = predicted_values.iloc[i,0]\n",
    "        actual_val = predicted_values.iloc[i,1]\n",
    "        \n",
    "        if(predicted_val == 1):\n",
    "           if(actual_val == 1):\n",
    "               true_positives += 1\n",
    "           else:\n",
    "               false_positives += 1\n",
    "\n",
    "        if(predicted_val == 0):\n",
    "           if(actual_val == 0):\n",
    "               true_negatives += 1\n",
    "           else:\n",
    "               false_negatives += 1\n",
    "\n",
    "    print(\"true positives: \" + str(true_positives))\n",
    "    print(\"true negatives: \" + str(true_negatives))\n",
    "    print(\"false positives: \" + str(false_positives))\n",
    "    print(\"false negatives: \" + str(false_negatives))\n",
    "    print(\"total number of samples: \" + str(true_positives+true_negatives+false_positives+false_negatives))\n",
    "    print(\"Accuracy: \" + str((true_positives+true_negatives)/(true_positives+true_negatives+false_positives+false_negatives)))\n",
    "    print(\"Specificity: \" + str(true_negatives/(true_negatives + false_positives)))\n",
    "    print(\"Sensitivity: \" + str(true_positives/(true_positives + false_negatives)))\n",
    "    print(\"PPV: \" + str(true_positives/(true_positives + false_positives)))\n",
    "    print(\"NPV: \" + str(true_negatives/(true_negatives+false_negatives)))\n",
    "    return"
   ]
  },
  {
   "cell_type": "code",
   "execution_count": 3,
   "id": "3f2d4169-460a-412c-8f3b-5d35a3e0f22e",
   "metadata": {},
   "outputs": [
    {
     "name": "stdout",
     "output_type": "stream",
     "text": [
      "true positives: 29\n",
      "true negatives: 30\n",
      "false positives: 0\n",
      "false negatives: 1\n",
      "total number of samples: 60\n",
      "Accuracy: 0.9833333333333333\n",
      "Specificity: 1.0\n",
      "Sensitivity: 0.9666666666666667\n",
      "PPV: 1.0\n",
      "NPV: 0.967741935483871\n"
     ]
    }
   ],
   "source": [
    "#read in results for 10 fold cross validation with all features\n",
    "prediction_results1 = pd.read_csv(\"../../analysis/classifying_inactive_vs_control_v2/1fold/predicted/all_proteins_predicted_vals1.csv\")\n",
    "for i in range(2,11):\n",
    "    prediction_file = \"../../analysis/classifying_inactive_vs_control_v2/%sfold/predicted/all_proteins_predicted_vals%s.csv\" % (i,i)\n",
    "    prediction_results2 = pd.read_csv(prediction_file)\n",
    "    prediction_results1 = pd.concat([prediction_results1, prediction_results2])\n",
    "\n",
    "confusion_matrix_statistics_nfold(prediction_results1)\n"
   ]
  },
  {
   "cell_type": "code",
   "execution_count": 14,
   "id": "b622f199-a401-440c-ba4a-a97953fec782",
   "metadata": {},
   "outputs": [
    {
     "name": "stdout",
     "output_type": "stream",
     "text": [
      "true positives: 29\n",
      "true negatives: 30\n",
      "false positives: 0\n",
      "false negatives: 1\n",
      "total number of samples: 60\n",
      "Accuracy: 0.9833333333333333\n",
      "Specificity: 1.0\n",
      "Sensitivity: 0.9666666666666667\n",
      "PPV: 1.0\n",
      "NPV: 0.967741935483871\n"
     ]
    }
   ],
   "source": [
    "#read in results for the top 10 proteins\n",
    "prediction_results1 = pd.read_csv(\"../../analysis/classifying_inactive_vs_control_v2/1fold/predicted/top_10_proteins_predicted_vals1.csv\")\n",
    "for i in range(2,11):\n",
    "    prediction_file = \"../../analysis/classifying_inactive_vs_control_v2/%sfold/predicted/top_10_proteins_predicted_vals%s.csv\" % (i,i)\n",
    "    prediction_results2 = pd.read_csv(prediction_file)\n",
    "    prediction_results1 = pd.concat([prediction_results1, prediction_results2])\n",
    "\n",
    "confusion_matrix_statistics_nfold(prediction_results1)\n"
   ]
  },
  {
   "cell_type": "code",
   "execution_count": 15,
   "id": "42f94c40-0da0-48e2-816b-c1c766c605af",
   "metadata": {},
   "outputs": [
    {
     "name": "stdout",
     "output_type": "stream",
     "text": [
      "true positives: 28\n",
      "true negatives: 30\n",
      "false positives: 0\n",
      "false negatives: 2\n",
      "total number of samples: 60\n",
      "Accuracy: 0.9666666666666667\n",
      "Specificity: 1.0\n",
      "Sensitivity: 0.9333333333333333\n",
      "PPV: 1.0\n",
      "NPV: 0.9375\n"
     ]
    }
   ],
   "source": [
    "#read in results for the top 25 proteins\n",
    "prediction_results1 = pd.read_csv(\"../../analysis/classifying_inactive_vs_control_v2/1fold/predicted/top_25_proteins_predicted_vals1.csv\")\n",
    "for i in range(2,11):\n",
    "    prediction_file = \"../../analysis/classifying_inactive_vs_control_v2/%sfold/predicted/top_25_proteins_predicted_vals%s.csv\" % (i,i)\n",
    "    prediction_results2 = pd.read_csv(prediction_file)\n",
    "    prediction_results1 = pd.concat([prediction_results1, prediction_results2])\n",
    "\n",
    "confusion_matrix_statistics_nfold(prediction_results1)\n"
   ]
  },
  {
   "cell_type": "code",
   "execution_count": 16,
   "id": "c178be58-6b8d-44d6-9a4f-4d308f44df07",
   "metadata": {},
   "outputs": [
    {
     "name": "stdout",
     "output_type": "stream",
     "text": [
      "true positives: 29\n",
      "true negatives: 30\n",
      "false positives: 0\n",
      "false negatives: 1\n",
      "total number of samples: 60\n",
      "Accuracy: 0.9833333333333333\n",
      "Specificity: 1.0\n",
      "Sensitivity: 0.9666666666666667\n",
      "PPV: 1.0\n",
      "NPV: 0.967741935483871\n"
     ]
    }
   ],
   "source": [
    "#read in results for the top 50 proteins\n",
    "prediction_results1 = pd.read_csv(\"../../analysis/classifying_inactive_vs_control_v2/1fold/predicted/top_50_proteins_predicted_vals1.csv\")\n",
    "for i in range(2,11):\n",
    "    prediction_file = \"../../analysis/classifying_inactive_vs_control_v2/%sfold/predicted/top_50_proteins_predicted_vals%s.csv\" % (i,i)\n",
    "    prediction_results2 = pd.read_csv(prediction_file)\n",
    "    prediction_results1 = pd.concat([prediction_results1, prediction_results2])\n",
    "\n",
    "confusion_matrix_statistics_nfold(prediction_results1)\n"
   ]
  },
  {
   "cell_type": "code",
   "execution_count": 17,
   "id": "0e919424-b248-4def-8179-a614ce9fc814",
   "metadata": {},
   "outputs": [
    {
     "name": "stdout",
     "output_type": "stream",
     "text": [
      "true positives: 30\n",
      "true negatives: 30\n",
      "false positives: 0\n",
      "false negatives: 0\n",
      "total number of samples: 60\n",
      "Accuracy: 1.0\n",
      "Specificity: 1.0\n",
      "Sensitivity: 1.0\n",
      "PPV: 1.0\n",
      "NPV: 1.0\n"
     ]
    }
   ],
   "source": [
    "#read in results for the top 100 proteins\n",
    "prediction_results1 = pd.read_csv(\"../../analysis/classifying_inactive_vs_control_v2/1fold/predicted/top_100_proteins_predicted_vals1.csv\")\n",
    "for i in range(2,11):\n",
    "    prediction_file = \"../../analysis/classifying_inactive_vs_control_v2/%sfold/predicted/top_100_proteins_predicted_vals%s.csv\" % (i,i)\n",
    "    prediction_results2 = pd.read_csv(prediction_file)\n",
    "    prediction_results1 = pd.concat([prediction_results1, prediction_results2])\n",
    "\n",
    "confusion_matrix_statistics_nfold(prediction_results1)\n"
   ]
  },
  {
   "cell_type": "code",
   "execution_count": 18,
   "id": "891b3a67-893b-4c1f-b8f0-5d75f5e4f3d7",
   "metadata": {},
   "outputs": [
    {
     "name": "stdout",
     "output_type": "stream",
     "text": [
      "true positives: 29\n",
      "true negatives: 30\n",
      "false positives: 0\n",
      "false negatives: 1\n",
      "total number of samples: 60\n",
      "Accuracy: 0.9833333333333333\n",
      "Specificity: 1.0\n",
      "Sensitivity: 0.9666666666666667\n",
      "PPV: 1.0\n",
      "NPV: 0.967741935483871\n"
     ]
    }
   ],
   "source": [
    "#read in results for the top 150 proteins\n",
    "prediction_results1 = pd.read_csv(\"../../analysis/classifying_inactive_vs_control_v2/1fold/predicted/top_150_proteins_predicted_vals1.csv\")\n",
    "for i in range(2,11):\n",
    "    prediction_file = \"../../analysis/classifying_inactive_vs_control_v2/%sfold/predicted/top_150_proteins_predicted_vals%s.csv\" % (i,i)\n",
    "    prediction_results2 = pd.read_csv(prediction_file)\n",
    "    prediction_results1 = pd.concat([prediction_results1, prediction_results2])\n",
    "\n",
    "confusion_matrix_statistics_nfold(prediction_results1)\n"
   ]
  },
  {
   "cell_type": "code",
   "execution_count": 19,
   "id": "a4fe5907-2b13-402e-828e-60f4ec804b60",
   "metadata": {},
   "outputs": [
    {
     "name": "stdout",
     "output_type": "stream",
     "text": [
      "true positives: 30\n",
      "true negatives: 30\n",
      "false positives: 0\n",
      "false negatives: 0\n",
      "total number of samples: 60\n",
      "Accuracy: 1.0\n",
      "Specificity: 1.0\n",
      "Sensitivity: 1.0\n",
      "PPV: 1.0\n",
      "NPV: 1.0\n"
     ]
    }
   ],
   "source": [
    "#read in results for the top 200 proteins\n",
    "prediction_results1 = pd.read_csv(\"../../analysis/classifying_inactive_vs_control_v2/1fold/predicted/top_200_proteins_predicted_vals1.csv\")\n",
    "for i in range(2,11):\n",
    "    prediction_file = \"../../analysis/classifying_inactive_vs_control_v2/%sfold/predicted/top_200_proteins_predicted_vals%s.csv\" % (i,i)\n",
    "    prediction_results2 = pd.read_csv(prediction_file)\n",
    "    prediction_results1 = pd.concat([prediction_results1, prediction_results2])\n",
    "\n",
    "confusion_matrix_statistics_nfold(prediction_results1)\n"
   ]
  },
  {
   "cell_type": "code",
   "execution_count": 20,
   "id": "08c435ed-b7b5-4600-bec8-ccbb97f949ae",
   "metadata": {},
   "outputs": [
    {
     "name": "stdout",
     "output_type": "stream",
     "text": [
      "true positives: 30\n",
      "true negatives: 30\n",
      "false positives: 0\n",
      "false negatives: 0\n",
      "total number of samples: 60\n",
      "Accuracy: 1.0\n",
      "Specificity: 1.0\n",
      "Sensitivity: 1.0\n",
      "PPV: 1.0\n",
      "NPV: 1.0\n"
     ]
    }
   ],
   "source": [
    "#read in results for the top 250 proteins\n",
    "prediction_results1 = pd.read_csv(\"../../analysis/classifying_inactive_vs_control_v2/1fold/predicted/top_250_proteins_predicted_vals1.csv\")\n",
    "for i in range(2,11):\n",
    "    prediction_file = \"../../analysis/classifying_inactive_vs_control_v2/%sfold/predicted/top_250_proteins_predicted_vals%s.csv\" % (i,i)\n",
    "    prediction_results2 = pd.read_csv(prediction_file)\n",
    "    prediction_results1 = pd.concat([prediction_results1, prediction_results2])\n",
    "\n",
    "confusion_matrix_statistics_nfold(prediction_results1)\n"
   ]
  },
  {
   "cell_type": "code",
   "execution_count": null,
   "id": "b0fe49a0-7394-4a88-bd82-b1b8bc384e41",
   "metadata": {},
   "outputs": [],
   "source": []
  }
 ],
 "metadata": {
  "kernelspec": {
   "display_name": "Python 3",
   "language": "python",
   "name": "python3"
  },
  "language_info": {
   "codemirror_mode": {
    "name": "ipython",
    "version": 3
   },
   "file_extension": ".py",
   "mimetype": "text/x-python",
   "name": "python",
   "nbconvert_exporter": "python",
   "pygments_lexer": "ipython3",
   "version": "3.9.12"
  }
 },
 "nbformat": 4,
 "nbformat_minor": 5
}
