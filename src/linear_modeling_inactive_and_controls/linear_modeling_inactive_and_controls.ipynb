{
 "cells": [
  {
   "cell_type": "markdown",
   "id": "6b057735-6731-4878-af1d-0b898a9a38ed",
   "metadata": {},
   "source": [
    "This script uses the quantile normalized data as well as the clinical and demographic data to build linear regression models between Inactive GCA patients and Healthy controls. Marginal linear regression models were run on six clinical and demographic variables (age, smoking status, sex, prednisone use, aspirin use, and methotrexate use) between Inactive GCA and Healthy controls. Variables with linear regression model P-values < 0.05 were identified as significant confounders and included in the full multiple linear regression models. In the full multiple linear regression models, the P-value from the study group variable was used to identify differentially abundant proteins between Inactive GCA and Healthy controls. A threshold of P < 0.01 was applied to all plasma proteins for significance."
   ]
  },
  {
   "cell_type": "code",
   "execution_count": null,
   "id": "12bc5083-b368-41e3-8e34-ff593ee16ccd",
   "metadata": {},
   "outputs": [],
   "source": [
    "#Protein ~ Study_group\tAge\tSmoking\tPrednisone\tMethotrexate\tAspirin\n",
    "#function_name <- function(arg_1, arg_2, ...) {\n",
    "#   Function body \n",
    "#}\n",
    "make_linear_model <- function(binary_results){\n",
    "    #binary_results is the row from the binary data, 7 columns with 6 values\n",
    "    model_string = \"~ Study_group\"\n",
    "    if(binary_results[1,2] == 1){\n",
    "        model_string = paste0(model_string,\" + Age\")\n",
    "    }\n",
    "    if(binary_results[1,3] == 1){\n",
    "        model_string = paste0(model_string,\" + Sex\")\n",
    "    }\n",
    "    if(binary_results[1,4] == 1){\n",
    "        model_string = paste0(model_string,\" + Smoking\")\n",
    "    }\n",
    "    if(binary_results[1,5] == 1){\n",
    "        model_string = paste0(model_string,\" + Prednisone\")\n",
    "    }    \n",
    "    if(binary_results[1,6] == 1){\n",
    "        model_string = paste0(model_string,\" + Methotrexate\")\n",
    "    }    \n",
    "    if(binary_results[1,7] == 1){\n",
    "        model_string = paste0(model_string,\" + Aspirin\")\n",
    "    }    \n",
    "    return(model_string)\n",
    "}\n"
   ]
  },
  {
   "cell_type": "code",
   "execution_count": 17,
   "id": "91d37cd8-7b29-4730-b202-e093f5e4d0c8",
   "metadata": {},
   "outputs": [],
   "source": [
    "library(\"dplyr\")\n",
    "library(\"ggpubr\")\n",
    "library(\"lme4\")\n",
    "library(\"lmerTest\")\n",
    "library(\"ggplot2\")\n",
    "#read in the proteomics data and the patient demographics data\n",
    "#vasculitis_df <- read.csv(\"../../data/vasculitis_patients_final.csv\")\n",
    "vasculitis_demographics_df <- read.csv(\"../../data/vasculitis_patient_info.csv\")\n",
    "\n",
    "#read in all quantile data\n",
    "all_quantile_df = read.csv(\"../../data/all_quantile_data.csv\")\n",
    "#head(all_quantile_df)\n",
    "#get the number of columns and rows \n",
    "num_columns <- ncol(all_quantile_df)\n",
    "num_proteins <- ncol(all_quantile_df) - 3\n",
    "num_samples <- nrow(all_quantile_df)\n",
    "\n",
    "\n",
    "#filter only active gca patients\n",
    "active_df <- filter(all_quantile_df,all_quantile_df$Study_group == \"Active\")\n",
    "active_demographics_df <- filter(vasculitis_demographics_df,vasculitis_demographics_df$Study_group == \"Active\")\n",
    "active_proteins_only <- active_df[,4:num_columns]\n",
    "\n",
    "#filter inactive gca patients\n",
    "inactive_df = filter(all_quantile_df,all_quantile_df$Study_group == \"Inactive\")\n",
    "inactive_demographics_df <- filter(vasculitis_demographics_df,vasculitis_demographics_df$Study_group == \"Inactive\")\n",
    "inactive_proteins_only <- inactive_df[,4:num_columns]\n",
    "\n",
    "#read in controls data\n",
    "controls_demographics_df <- read.csv(\"../../data/controls_demographics.csv\")\n",
    "controls_df <- filter(all_quantile_df,all_quantile_df$Study_group == \"Healthy_Control\")\n",
    "controls_proteins_only <- controls_df[,4:num_columns]\n",
    "\n",
    "proteins_only <- data.frame(active_df[ ,4:num_columns])\n",
    "#seperate the protein names for the linear model\n",
    "protein_names <- data.frame(matrix(data=0,nrow=num_proteins,ncol=1))\n",
    "colnames(protein_names) <- \"Protein\"\n",
    "protein_names[ , 1] <- data.frame(colnames(proteins_only))\n",
    "#protein_names\n",
    "\n"
   ]
  },
  {
   "cell_type": "code",
   "execution_count": 18,
   "id": "afe095ec-494c-4470-95fa-b52174bcd781",
   "metadata": {
    "tags": []
   },
   "outputs": [
    {
     "name": "stdout",
     "output_type": "stream",
     "text": [
      " [1] TRUE TRUE TRUE TRUE TRUE TRUE TRUE TRUE TRUE TRUE TRUE TRUE TRUE TRUE TRUE\n",
      "[16] TRUE TRUE TRUE TRUE TRUE TRUE TRUE TRUE TRUE TRUE TRUE TRUE TRUE TRUE TRUE\n",
      " [1] TRUE TRUE TRUE TRUE TRUE TRUE TRUE TRUE TRUE TRUE TRUE TRUE TRUE TRUE TRUE\n",
      "[16] TRUE TRUE TRUE TRUE TRUE TRUE TRUE TRUE TRUE TRUE TRUE TRUE TRUE TRUE TRUE\n"
     ]
    },
    {
     "data": {
      "text/html": [
       "<style>\n",
       ".list-inline {list-style: none; margin:0; padding: 0}\n",
       ".list-inline>li {display: inline-block}\n",
       ".list-inline>li:not(:last-child)::after {content: \"\\00b7\"; padding: 0 .5ex}\n",
       "</style>\n",
       "<ol class=list-inline><li>30</li><li>7298</li></ol>\n"
      ],
      "text/latex": [
       "\\begin{enumerate*}\n",
       "\\item 30\n",
       "\\item 7298\n",
       "\\end{enumerate*}\n"
      ],
      "text/markdown": [
       "1. 30\n",
       "2. 7298\n",
       "\n",
       "\n"
      ],
      "text/plain": [
       "[1]   30 7298"
      ]
     },
     "metadata": {},
     "output_type": "display_data"
    },
    {
     "data": {
      "text/html": [
       "<table class=\"dataframe\">\n",
       "<caption>A data.frame: 6 × 7298</caption>\n",
       "<thead>\n",
       "\t<tr><th></th><th scope=col>Age</th><th scope=col>Sex</th><th scope=col>Smoking</th><th scope=col>Prednisone</th><th scope=col>Methotrexate</th><th scope=col>Aspirin</th><th scope=col>Study_group</th><th scope=col>maskID</th><th scope=col>sample_ID</th><th scope=col>CRBB2_10000.28</th><th scope=col>⋯</th><th scope=col>YIPF6_9984.12</th><th scope=col>Neuropeptide.W_9986.14</th><th scope=col>LRC25.CD_9987.30</th><th scope=col>LRC24_9989.12</th><th scope=col>EMIL3.region.2_9991.112</th><th scope=col>ZN264_9993.11</th><th scope=col>ATP4B_9994.217</th><th scope=col>DUT_9995.6</th><th scope=col>UBXN4.CD.1_9997.12</th><th scope=col>IRF6_9999.1</th></tr>\n",
       "\t<tr><th></th><th scope=col>&lt;dbl&gt;</th><th scope=col>&lt;chr&gt;</th><th scope=col>&lt;chr&gt;</th><th scope=col>&lt;chr&gt;</th><th scope=col>&lt;chr&gt;</th><th scope=col>&lt;chr&gt;</th><th scope=col>&lt;chr&gt;</th><th scope=col>&lt;chr&gt;</th><th scope=col>&lt;chr&gt;</th><th scope=col>&lt;dbl&gt;</th><th scope=col>⋯</th><th scope=col>&lt;dbl&gt;</th><th scope=col>&lt;dbl&gt;</th><th scope=col>&lt;dbl&gt;</th><th scope=col>&lt;dbl&gt;</th><th scope=col>&lt;dbl&gt;</th><th scope=col>&lt;dbl&gt;</th><th scope=col>&lt;dbl&gt;</th><th scope=col>&lt;dbl&gt;</th><th scope=col>&lt;dbl&gt;</th><th scope=col>&lt;dbl&gt;</th></tr>\n",
       "</thead>\n",
       "<tbody>\n",
       "\t<tr><th scope=row>1</th><td>69.3</td><td>Male  </td><td>No </td><td>Yes</td><td>No</td><td>No </td><td>Inactive</td><td>GCA-1 </td><td>KP5W</td><td> 689.0178</td><td>⋯</td><td>666.6633</td><td> 1980.6800</td><td>538.4122</td><td>507.4411</td><td>586.0383</td><td>1256.4778</td><td>1651.703</td><td>1692.672</td><td> 8440.326</td><td>1184.1156</td></tr>\n",
       "\t<tr><th scope=row>10</th><td>72.2</td><td>Female</td><td>No </td><td>No </td><td>No</td><td>Yes</td><td>Inactive</td><td>GCA-10</td><td>KP8Z</td><td> 509.9244</td><td>⋯</td><td>579.5956</td><td> 1294.9889</td><td>579.0083</td><td>407.8878</td><td>595.7067</td><td>1157.9300</td><td>1769.919</td><td>6646.468</td><td>26205.253</td><td>3649.0967</td></tr>\n",
       "\t<tr><th scope=row>11</th><td>80.0</td><td>Male  </td><td>No </td><td>Yes</td><td>No</td><td>No </td><td>Inactive</td><td>GCA-11</td><td>KPAN</td><td>1503.5411</td><td>⋯</td><td>571.3867</td><td> 1581.3544</td><td>481.5956</td><td>420.6511</td><td>567.4211</td><td> 877.5811</td><td>1278.554</td><td>5780.831</td><td>26205.253</td><td>3216.1500</td></tr>\n",
       "\t<tr><th scope=row>12</th><td>63.6</td><td>Female</td><td>Yes</td><td>Yes</td><td>No</td><td>Yes</td><td>Inactive</td><td>GCA-12</td><td>KNZD</td><td> 567.8378</td><td>⋯</td><td>853.2322</td><td>16046.8056</td><td>597.7856</td><td>474.4144</td><td>620.9267</td><td>1292.6711</td><td>1801.653</td><td>1110.298</td><td> 4930.646</td><td> 964.1144</td></tr>\n",
       "\t<tr><th scope=row>13</th><td>65.6</td><td>Female</td><td>Yes</td><td>No </td><td>No</td><td>Yes</td><td>Inactive</td><td>GCA-13</td><td>KNVL</td><td> 551.0106</td><td>⋯</td><td>601.7589</td><td>  719.4522</td><td>638.4144</td><td>412.5933</td><td>496.0989</td><td>1421.4900</td><td>1750.598</td><td>2370.842</td><td>11896.302</td><td>1195.5356</td></tr>\n",
       "\t<tr><th scope=row>14</th><td>72.8</td><td>Female</td><td>No </td><td>No </td><td>No</td><td>No </td><td>Inactive</td><td>GCA-14</td><td>KP7R</td><td> 818.7789</td><td>⋯</td><td>611.1356</td><td> 6525.2078</td><td>963.4044</td><td>475.0489</td><td>996.1478</td><td>1645.2478</td><td>1745.823</td><td>1413.522</td><td> 6016.766</td><td> 833.8333</td></tr>\n",
       "</tbody>\n",
       "</table>\n"
      ],
      "text/latex": [
       "A data.frame: 6 × 7298\n",
       "\\begin{tabular}{r|lllllllllllllllllllll}\n",
       "  & Age & Sex & Smoking & Prednisone & Methotrexate & Aspirin & Study\\_group & maskID & sample\\_ID & CRBB2\\_10000.28 & ⋯ & YIPF6\\_9984.12 & Neuropeptide.W\\_9986.14 & LRC25.CD\\_9987.30 & LRC24\\_9989.12 & EMIL3.region.2\\_9991.112 & ZN264\\_9993.11 & ATP4B\\_9994.217 & DUT\\_9995.6 & UBXN4.CD.1\\_9997.12 & IRF6\\_9999.1\\\\\n",
       "  & <dbl> & <chr> & <chr> & <chr> & <chr> & <chr> & <chr> & <chr> & <chr> & <dbl> & ⋯ & <dbl> & <dbl> & <dbl> & <dbl> & <dbl> & <dbl> & <dbl> & <dbl> & <dbl> & <dbl>\\\\\n",
       "\\hline\n",
       "\t1 & 69.3 & Male   & No  & Yes & No & No  & Inactive & GCA-1  & KP5W &  689.0178 & ⋯ & 666.6633 &  1980.6800 & 538.4122 & 507.4411 & 586.0383 & 1256.4778 & 1651.703 & 1692.672 &  8440.326 & 1184.1156\\\\\n",
       "\t10 & 72.2 & Female & No  & No  & No & Yes & Inactive & GCA-10 & KP8Z &  509.9244 & ⋯ & 579.5956 &  1294.9889 & 579.0083 & 407.8878 & 595.7067 & 1157.9300 & 1769.919 & 6646.468 & 26205.253 & 3649.0967\\\\\n",
       "\t11 & 80.0 & Male   & No  & Yes & No & No  & Inactive & GCA-11 & KPAN & 1503.5411 & ⋯ & 571.3867 &  1581.3544 & 481.5956 & 420.6511 & 567.4211 &  877.5811 & 1278.554 & 5780.831 & 26205.253 & 3216.1500\\\\\n",
       "\t12 & 63.6 & Female & Yes & Yes & No & Yes & Inactive & GCA-12 & KNZD &  567.8378 & ⋯ & 853.2322 & 16046.8056 & 597.7856 & 474.4144 & 620.9267 & 1292.6711 & 1801.653 & 1110.298 &  4930.646 &  964.1144\\\\\n",
       "\t13 & 65.6 & Female & Yes & No  & No & Yes & Inactive & GCA-13 & KNVL &  551.0106 & ⋯ & 601.7589 &   719.4522 & 638.4144 & 412.5933 & 496.0989 & 1421.4900 & 1750.598 & 2370.842 & 11896.302 & 1195.5356\\\\\n",
       "\t14 & 72.8 & Female & No  & No  & No & No  & Inactive & GCA-14 & KP7R &  818.7789 & ⋯ & 611.1356 &  6525.2078 & 963.4044 & 475.0489 & 996.1478 & 1645.2478 & 1745.823 & 1413.522 &  6016.766 &  833.8333\\\\\n",
       "\\end{tabular}\n"
      ],
      "text/markdown": [
       "\n",
       "A data.frame: 6 × 7298\n",
       "\n",
       "| <!--/--> | Age &lt;dbl&gt; | Sex &lt;chr&gt; | Smoking &lt;chr&gt; | Prednisone &lt;chr&gt; | Methotrexate &lt;chr&gt; | Aspirin &lt;chr&gt; | Study_group &lt;chr&gt; | maskID &lt;chr&gt; | sample_ID &lt;chr&gt; | CRBB2_10000.28 &lt;dbl&gt; | ⋯ ⋯ | YIPF6_9984.12 &lt;dbl&gt; | Neuropeptide.W_9986.14 &lt;dbl&gt; | LRC25.CD_9987.30 &lt;dbl&gt; | LRC24_9989.12 &lt;dbl&gt; | EMIL3.region.2_9991.112 &lt;dbl&gt; | ZN264_9993.11 &lt;dbl&gt; | ATP4B_9994.217 &lt;dbl&gt; | DUT_9995.6 &lt;dbl&gt; | UBXN4.CD.1_9997.12 &lt;dbl&gt; | IRF6_9999.1 &lt;dbl&gt; |\n",
       "|---|---|---|---|---|---|---|---|---|---|---|---|---|---|---|---|---|---|---|---|---|---|\n",
       "| 1 | 69.3 | Male   | No  | Yes | No | No  | Inactive | GCA-1  | KP5W |  689.0178 | ⋯ | 666.6633 |  1980.6800 | 538.4122 | 507.4411 | 586.0383 | 1256.4778 | 1651.703 | 1692.672 |  8440.326 | 1184.1156 |\n",
       "| 10 | 72.2 | Female | No  | No  | No | Yes | Inactive | GCA-10 | KP8Z |  509.9244 | ⋯ | 579.5956 |  1294.9889 | 579.0083 | 407.8878 | 595.7067 | 1157.9300 | 1769.919 | 6646.468 | 26205.253 | 3649.0967 |\n",
       "| 11 | 80.0 | Male   | No  | Yes | No | No  | Inactive | GCA-11 | KPAN | 1503.5411 | ⋯ | 571.3867 |  1581.3544 | 481.5956 | 420.6511 | 567.4211 |  877.5811 | 1278.554 | 5780.831 | 26205.253 | 3216.1500 |\n",
       "| 12 | 63.6 | Female | Yes | Yes | No | Yes | Inactive | GCA-12 | KNZD |  567.8378 | ⋯ | 853.2322 | 16046.8056 | 597.7856 | 474.4144 | 620.9267 | 1292.6711 | 1801.653 | 1110.298 |  4930.646 |  964.1144 |\n",
       "| 13 | 65.6 | Female | Yes | No  | No | Yes | Inactive | GCA-13 | KNVL |  551.0106 | ⋯ | 601.7589 |   719.4522 | 638.4144 | 412.5933 | 496.0989 | 1421.4900 | 1750.598 | 2370.842 | 11896.302 | 1195.5356 |\n",
       "| 14 | 72.8 | Female | No  | No  | No | No  | Inactive | GCA-14 | KP7R |  818.7789 | ⋯ | 611.1356 |  6525.2078 | 963.4044 | 475.0489 | 996.1478 | 1645.2478 | 1745.823 | 1413.522 |  6016.766 |  833.8333 |\n",
       "\n"
      ],
      "text/plain": [
       "   Age  Sex    Smoking Prednisone Methotrexate Aspirin Study_group maskID\n",
       "1  69.3 Male   No      Yes        No           No      Inactive    GCA-1 \n",
       "10 72.2 Female No      No         No           Yes     Inactive    GCA-10\n",
       "11 80.0 Male   No      Yes        No           No      Inactive    GCA-11\n",
       "12 63.6 Female Yes     Yes        No           Yes     Inactive    GCA-12\n",
       "13 65.6 Female Yes     No         No           Yes     Inactive    GCA-13\n",
       "14 72.8 Female No      No         No           No      Inactive    GCA-14\n",
       "   sample_ID CRBB2_10000.28 ⋯ YIPF6_9984.12 Neuropeptide.W_9986.14\n",
       "1  KP5W       689.0178      ⋯ 666.6633       1980.6800            \n",
       "10 KP8Z       509.9244      ⋯ 579.5956       1294.9889            \n",
       "11 KPAN      1503.5411      ⋯ 571.3867       1581.3544            \n",
       "12 KNZD       567.8378      ⋯ 853.2322      16046.8056            \n",
       "13 KNVL       551.0106      ⋯ 601.7589        719.4522            \n",
       "14 KP7R       818.7789      ⋯ 611.1356       6525.2078            \n",
       "   LRC25.CD_9987.30 LRC24_9989.12 EMIL3.region.2_9991.112 ZN264_9993.11\n",
       "1  538.4122         507.4411      586.0383                1256.4778    \n",
       "10 579.0083         407.8878      595.7067                1157.9300    \n",
       "11 481.5956         420.6511      567.4211                 877.5811    \n",
       "12 597.7856         474.4144      620.9267                1292.6711    \n",
       "13 638.4144         412.5933      496.0989                1421.4900    \n",
       "14 963.4044         475.0489      996.1478                1645.2478    \n",
       "   ATP4B_9994.217 DUT_9995.6 UBXN4.CD.1_9997.12 IRF6_9999.1\n",
       "1  1651.703       1692.672    8440.326          1184.1156  \n",
       "10 1769.919       6646.468   26205.253          3649.0967  \n",
       "11 1278.554       5780.831   26205.253          3216.1500  \n",
       "12 1801.653       1110.298    4930.646           964.1144  \n",
       "13 1750.598       2370.842   11896.302          1195.5356  \n",
       "14 1745.823       1413.522    6016.766           833.8333  "
      ]
     },
     "metadata": {},
     "output_type": "display_data"
    }
   ],
   "source": [
    "#gather the demographics I need for both active GCA and controls\n",
    "#age,sex,smoking,prednisone,methotrexate,and aspirin\n",
    "#check that the demographics and protein data is in the same order\n",
    "print(inactive_demographics_df$maskid == inactive_df$maskID)\n",
    "#head(inactive_demographics_df)\n",
    "#print(dim(inactive_demographics_df))\n",
    "inactive_demographics_df = inactive_demographics_df[order(inactive_demographics_df$maskid),]\n",
    "inactive_df = inactive_df[order(inactive_df$maskID),]\n",
    "#head(inactive_demographics_df)\n",
    "#print(dim(inactive_demographics_df))\n",
    "#inactive_df = inactive_df[order(inactive_df$maskID),]\n",
    "#print(head(inactive_df))\n",
    "print(inactive_demographics_df$maskid == inactive_df$maskID)\n",
    "\n",
    "inactive_gca_demographics_and_proteins_df <- data.frame(inactive_demographics_df$Age)\n",
    "colnames(inactive_gca_demographics_and_proteins_df) <- \"Age\"\n",
    "inactive_gca_demographics_and_proteins_df$Sex <- inactive_demographics_df$Sex\n",
    "inactive_gca_demographics_and_proteins_df$Smoking <- inactive_demographics_df$Smoking\n",
    "inactive_gca_demographics_and_proteins_df$Prednisone <- inactive_demographics_df$PrednisoneCurrentlyReceiving\n",
    "inactive_gca_demographics_and_proteins_df$Methotrexate <- inactive_demographics_df$MethotrexateWasTaken\n",
    "inactive_gca_demographics_and_proteins_df$Aspirin <- inactive_demographics_df$Aspirin\n",
    "inactive_gca_demographics_and_proteins_df2 <- cbind(inactive_gca_demographics_and_proteins_df,inactive_df)\n",
    "\n",
    "dim(inactive_gca_demographics_and_proteins_df2)\n",
    "head(inactive_gca_demographics_and_proteins_df2)\n",
    "#now I have all the active demographics and protein abundance together, do the same for controls"
   ]
  },
  {
   "cell_type": "code",
   "execution_count": 19,
   "id": "2649a750-24e9-4384-a53a-bf0c6a291b64",
   "metadata": {},
   "outputs": [
    {
     "name": "stdout",
     "output_type": "stream",
     "text": [
      " [1] TRUE TRUE TRUE TRUE TRUE TRUE TRUE TRUE TRUE TRUE TRUE TRUE TRUE TRUE TRUE\n",
      "[16] TRUE TRUE TRUE TRUE TRUE TRUE TRUE TRUE TRUE TRUE TRUE TRUE TRUE TRUE TRUE\n",
      " [1] TRUE TRUE TRUE TRUE TRUE TRUE TRUE TRUE TRUE TRUE TRUE TRUE TRUE TRUE TRUE\n",
      "[16] TRUE TRUE TRUE TRUE TRUE TRUE TRUE TRUE TRUE TRUE TRUE TRUE TRUE TRUE TRUE\n"
     ]
    },
    {
     "data": {
      "text/html": [
       "<style>\n",
       ".list-inline {list-style: none; margin:0; padding: 0}\n",
       ".list-inline>li {display: inline-block}\n",
       ".list-inline>li:not(:last-child)::after {content: \"\\00b7\"; padding: 0 .5ex}\n",
       "</style>\n",
       "<ol class=list-inline><li>30</li><li>7298</li></ol>\n"
      ],
      "text/latex": [
       "\\begin{enumerate*}\n",
       "\\item 30\n",
       "\\item 7298\n",
       "\\end{enumerate*}\n"
      ],
      "text/markdown": [
       "1. 30\n",
       "2. 7298\n",
       "\n",
       "\n"
      ],
      "text/plain": [
       "[1]   30 7298"
      ]
     },
     "metadata": {},
     "output_type": "display_data"
    }
   ],
   "source": [
    "print(controls_demographics_df$case_id == controls_df$maskID)\n",
    "#put the controls data in order using case id for the demographics \n",
    "#and the maskID for the protein abundance\n",
    "controls_demographics_df <- controls_demographics_df[order(controls_demographics_df$case_id),]\n",
    "controls_df <- controls_df[order(controls_df$maskID),]\n",
    "print(controls_demographics_df$case_id == controls_df$maskID)\n",
    "#everything is in the same order, I can begin gather all demographic\n",
    "#data that I need and combine with the protein abundance\n",
    "control_demographics_and_proteins_df <- data.frame(controls_demographics_df$Age)\n",
    "colnames(control_demographics_and_proteins_df) <- (\"Age\")\n",
    "control_demographics_and_proteins_df$Sex <- controls_demographics_df$control_gender\n",
    "control_demographics_and_proteins_df$Smoking <- controls_demographics_df$SLmoking\n",
    "control_demographics_and_proteins_df$Prednisone <- controls_demographics_df$Prednisone\n",
    "control_demographics_and_proteins_df$Methotrexate <- controls_demographics_df$Methotrexate\n",
    "control_demographics_and_proteins_df$Aspirin <- controls_demographics_df$Aspirin\n",
    "control_demographics_and_proteins_df2 <- cbind(control_demographics_and_proteins_df,controls_df)\n",
    "dim(control_demographics_and_proteins_df2)"
   ]
  },
  {
   "cell_type": "code",
   "execution_count": 20,
   "id": "67fe1d16-a036-4c0a-bb5b-acf7a95f945f",
   "metadata": {},
   "outputs": [
    {
     "data": {
      "text/html": [
       "<style>\n",
       ".list-inline {list-style: none; margin:0; padding: 0}\n",
       ".list-inline>li {display: inline-block}\n",
       ".list-inline>li:not(:last-child)::after {content: \"\\00b7\"; padding: 0 .5ex}\n",
       "</style>\n",
       "<ol class=list-inline><li>60</li><li>7298</li></ol>\n"
      ],
      "text/latex": [
       "\\begin{enumerate*}\n",
       "\\item 60\n",
       "\\item 7298\n",
       "\\end{enumerate*}\n"
      ],
      "text/markdown": [
       "1. 60\n",
       "2. 7298\n",
       "\n",
       "\n"
      ],
      "text/plain": [
       "[1]   60 7298"
      ]
     },
     "metadata": {},
     "output_type": "display_data"
    }
   ],
   "source": [
    "#now combine everything and run linear models\n",
    "inactive_and_controls_demographics_and_proteins <- rbind(inactive_gca_demographics_and_proteins_df2,control_demographics_and_proteins_df2)\n",
    "dim(inactive_and_controls_demographics_and_proteins)\n",
    "#inactive_and_controls_demographics_and_proteins"
   ]
  },
  {
   "cell_type": "code",
   "execution_count": 21,
   "id": "0abf8632-4b61-4bb7-a9d8-024a24e3cb5a",
   "metadata": {},
   "outputs": [],
   "source": [
    "#now I can start the linear modeling\n",
    "#make a dataframe to hold the results\n",
    "inactive_linear_modeling_results <- data.frame(matrix(data=0,nrow=num_proteins,ncol=7))\n",
    "colnames(inactive_linear_modeling_results) <- cbind(\"Proteins\",\"Age\",\"Sex\",\"Smoking\",\"Prednisone\",\"Methotrexate\",\"Aspirin\")\n",
    "inactive_linear_modeling_results[,1] <- protein_names\n"
   ]
  },
  {
   "cell_type": "code",
   "execution_count": 22,
   "id": "4a0183b6-18e3-4250-b73c-3d5ed4898525",
   "metadata": {},
   "outputs": [
    {
     "name": "stdout",
     "output_type": "stream",
     "text": [
      "[1] \"Done with linear models.\"\n"
     ]
    }
   ],
   "source": [
    "#loop through all proteins using all covariates\n",
    "for(i in 1:num_proteins){\n",
    "    protein_name <- protein_names[i,1]\n",
    "    age_model <- lm(paste0(protein_name, \" ~ Age\"),data = inactive_and_controls_demographics_and_proteins)\n",
    "    pvalue1 <- summary(age_model)$coefficients[2,4]\n",
    "    inactive_linear_modeling_results[i,2] <- pvalue1\n",
    "    \n",
    "    sex_model <- lm(paste0(protein_name, \" ~ Sex\"),data = inactive_and_controls_demographics_and_proteins)\n",
    "    pvalue2 <- summary(sex_model)$coefficients[2,4]\n",
    "    inactive_linear_modeling_results[i,3] <- pvalue2\n",
    "    \n",
    "    smoking_model <- lm(paste0(protein_name, \" ~ Smoking\"),data = inactive_and_controls_demographics_and_proteins)\n",
    "    pvalue3 <- summary(smoking_model)$coefficients[2,4]\n",
    "    inactive_linear_modeling_results[i,4] <- pvalue3\n",
    "    \n",
    "    prednisone_model <- lm(paste0(protein_name, \" ~ Prednisone\"),data = inactive_and_controls_demographics_and_proteins)\n",
    "    pvalue4 <- summary(prednisone_model)$coefficients[2,4]\n",
    "    inactive_linear_modeling_results[i,5] <- pvalue4\n",
    "    \n",
    "    methotrexate_model <- lm(paste0(protein_name, \" ~ Methotrexate\"),data = inactive_and_controls_demographics_and_proteins)\n",
    "    pvalue5 <- summary(methotrexate_model)$coefficients[2,4]\n",
    "    inactive_linear_modeling_results[i,6] <- pvalue5\n",
    "    \n",
    "    \n",
    "    aspirin_model <- lm(paste0(protein_name, \" ~ Aspirin\"),data = inactive_and_controls_demographics_and_proteins)\n",
    "    pvalue6 <- summary(aspirin_model)$coefficients[2,4]\n",
    "    inactive_linear_modeling_results[i,7] <- pvalue6\n",
    "    \n",
    "}\n",
    "print(\"Done with linear models.\")"
   ]
  },
  {
   "cell_type": "code",
   "execution_count": 23,
   "id": "47fb7d77-8fca-4aed-a292-4cc9d665dcda",
   "metadata": {},
   "outputs": [
    {
     "data": {
      "text/html": [
       "<table class=\"dataframe\">\n",
       "<caption>A data.frame: 6 × 7</caption>\n",
       "<thead>\n",
       "\t<tr><th></th><th scope=col>Proteins</th><th scope=col>Age</th><th scope=col>Sex</th><th scope=col>Smoking</th><th scope=col>Prednisone</th><th scope=col>Methotrexate</th><th scope=col>Aspirin</th></tr>\n",
       "\t<tr><th></th><th scope=col>&lt;chr&gt;</th><th scope=col>&lt;dbl&gt;</th><th scope=col>&lt;dbl&gt;</th><th scope=col>&lt;dbl&gt;</th><th scope=col>&lt;dbl&gt;</th><th scope=col>&lt;dbl&gt;</th><th scope=col>&lt;dbl&gt;</th></tr>\n",
       "</thead>\n",
       "<tbody>\n",
       "\t<tr><th scope=row>1</th><td>CRBB2_10000.28</td><td>0.204116564</td><td>0.79801017</td><td>0.4563687</td><td>0.0012441261</td><td>0.890268714</td><td>0.64202651</td></tr>\n",
       "\t<tr><th scope=row>2</th><td>c.Raf_10001.7 </td><td>0.107937637</td><td>0.63701055</td><td>0.4317544</td><td>0.0001893987</td><td>0.039013734</td><td>0.01059678</td></tr>\n",
       "\t<tr><th scope=row>3</th><td>ZNF41_10003.15</td><td>0.688196428</td><td>0.63642831</td><td>0.7767302</td><td>0.1102232044</td><td>0.001235063</td><td>0.14366297</td></tr>\n",
       "\t<tr><th scope=row>4</th><td>ELK1_10006.25 </td><td>0.230443909</td><td>0.05225988</td><td>0.8239646</td><td>0.1807871635</td><td>0.746208106</td><td>0.66369455</td></tr>\n",
       "\t<tr><th scope=row>5</th><td>GUC1A_10008.43</td><td>0.320817191</td><td>0.38977785</td><td>0.6877522</td><td>0.1231599756</td><td>0.848377925</td><td>0.10447903</td></tr>\n",
       "\t<tr><th scope=row>6</th><td>BECN1_10010.10</td><td>0.009791296</td><td>0.73966883</td><td>0.8125307</td><td>0.8861102836</td><td>0.818486385</td><td>0.91760220</td></tr>\n",
       "</tbody>\n",
       "</table>\n"
      ],
      "text/latex": [
       "A data.frame: 6 × 7\n",
       "\\begin{tabular}{r|lllllll}\n",
       "  & Proteins & Age & Sex & Smoking & Prednisone & Methotrexate & Aspirin\\\\\n",
       "  & <chr> & <dbl> & <dbl> & <dbl> & <dbl> & <dbl> & <dbl>\\\\\n",
       "\\hline\n",
       "\t1 & CRBB2\\_10000.28 & 0.204116564 & 0.79801017 & 0.4563687 & 0.0012441261 & 0.890268714 & 0.64202651\\\\\n",
       "\t2 & c.Raf\\_10001.7  & 0.107937637 & 0.63701055 & 0.4317544 & 0.0001893987 & 0.039013734 & 0.01059678\\\\\n",
       "\t3 & ZNF41\\_10003.15 & 0.688196428 & 0.63642831 & 0.7767302 & 0.1102232044 & 0.001235063 & 0.14366297\\\\\n",
       "\t4 & ELK1\\_10006.25  & 0.230443909 & 0.05225988 & 0.8239646 & 0.1807871635 & 0.746208106 & 0.66369455\\\\\n",
       "\t5 & GUC1A\\_10008.43 & 0.320817191 & 0.38977785 & 0.6877522 & 0.1231599756 & 0.848377925 & 0.10447903\\\\\n",
       "\t6 & BECN1\\_10010.10 & 0.009791296 & 0.73966883 & 0.8125307 & 0.8861102836 & 0.818486385 & 0.91760220\\\\\n",
       "\\end{tabular}\n"
      ],
      "text/markdown": [
       "\n",
       "A data.frame: 6 × 7\n",
       "\n",
       "| <!--/--> | Proteins &lt;chr&gt; | Age &lt;dbl&gt; | Sex &lt;dbl&gt; | Smoking &lt;dbl&gt; | Prednisone &lt;dbl&gt; | Methotrexate &lt;dbl&gt; | Aspirin &lt;dbl&gt; |\n",
       "|---|---|---|---|---|---|---|---|\n",
       "| 1 | CRBB2_10000.28 | 0.204116564 | 0.79801017 | 0.4563687 | 0.0012441261 | 0.890268714 | 0.64202651 |\n",
       "| 2 | c.Raf_10001.7  | 0.107937637 | 0.63701055 | 0.4317544 | 0.0001893987 | 0.039013734 | 0.01059678 |\n",
       "| 3 | ZNF41_10003.15 | 0.688196428 | 0.63642831 | 0.7767302 | 0.1102232044 | 0.001235063 | 0.14366297 |\n",
       "| 4 | ELK1_10006.25  | 0.230443909 | 0.05225988 | 0.8239646 | 0.1807871635 | 0.746208106 | 0.66369455 |\n",
       "| 5 | GUC1A_10008.43 | 0.320817191 | 0.38977785 | 0.6877522 | 0.1231599756 | 0.848377925 | 0.10447903 |\n",
       "| 6 | BECN1_10010.10 | 0.009791296 | 0.73966883 | 0.8125307 | 0.8861102836 | 0.818486385 | 0.91760220 |\n",
       "\n"
      ],
      "text/plain": [
       "  Proteins       Age         Sex        Smoking   Prednisone   Methotrexate\n",
       "1 CRBB2_10000.28 0.204116564 0.79801017 0.4563687 0.0012441261 0.890268714 \n",
       "2 c.Raf_10001.7  0.107937637 0.63701055 0.4317544 0.0001893987 0.039013734 \n",
       "3 ZNF41_10003.15 0.688196428 0.63642831 0.7767302 0.1102232044 0.001235063 \n",
       "4 ELK1_10006.25  0.230443909 0.05225988 0.8239646 0.1807871635 0.746208106 \n",
       "5 GUC1A_10008.43 0.320817191 0.38977785 0.6877522 0.1231599756 0.848377925 \n",
       "6 BECN1_10010.10 0.009791296 0.73966883 0.8125307 0.8861102836 0.818486385 \n",
       "  Aspirin   \n",
       "1 0.64202651\n",
       "2 0.01059678\n",
       "3 0.14366297\n",
       "4 0.66369455\n",
       "5 0.10447903\n",
       "6 0.91760220"
      ]
     },
     "metadata": {},
     "output_type": "display_data"
    }
   ],
   "source": [
    "head(inactive_linear_modeling_results)"
   ]
  },
  {
   "cell_type": "code",
   "execution_count": 92,
   "id": "aefcbc2e-1791-4eba-aa6e-868c830fd4bd",
   "metadata": {},
   "outputs": [],
   "source": [
    "#save results\n",
    "write.csv(inactive_linear_modeling_results,\"../../analysis/linear_modeling_inactive_and_controls/Inactive_vs_Control_demographic_variables_linear_modeling_results.csv\",row.names=FALSE)"
   ]
  },
  {
   "cell_type": "code",
   "execution_count": 24,
   "id": "aee13022-50bf-4236-b9a7-77d5ce379b0f",
   "metadata": {},
   "outputs": [],
   "source": [
    "#binarize the results\n",
    "inactive_binary_modeling_results <- data.frame(matrix(data = 0,nrow=num_proteins,ncol=7))\n",
    "colnames(inactive_binary_modeling_results) <- colnames(inactive_linear_modeling_results)\n",
    "inactive_binary_modeling_results[,1] <- protein_names\n",
    "for(i in 1:num_proteins){\n",
    "    for(j in 2:7){\n",
    "        current_pval <- inactive_linear_modeling_results[i,j]\n",
    "        if(current_pval < 0.05){\n",
    "            inactive_binary_modeling_results[i,j] <- 1\n",
    "        }\n",
    "        else{\n",
    "            inactive_binary_modeling_results[i,j] <- 0\n",
    "        }\n",
    "    }    \n",
    "}"
   ]
  },
  {
   "cell_type": "code",
   "execution_count": 91,
   "id": "482f2da4-70c1-4da6-b185-216b9004977d",
   "metadata": {},
   "outputs": [],
   "source": [
    "#save binary results\n",
    "write.csv(inactive_binary_modeling_results,\"../../analysis/linear_modeling_inactive_and_controls/inactive_binary_modeling_results.csv\",row.names=FALSE)"
   ]
  },
  {
   "cell_type": "code",
   "execution_count": 25,
   "id": "d1bc92b2-d053-4885-9cb6-20c73cacedd4",
   "metadata": {},
   "outputs": [
    {
     "name": "stdout",
     "output_type": "stream",
     "text": [
      "[1] \"Done with models.\"\n"
     ]
    }
   ],
   "source": [
    "#I have a function that takes the binaryized data and returns a string to use in the model. Run for all proteins\n",
    "inactive_adjusted_linear_modeling_results <- data.frame(matrix(data=0,nrow=num_proteins,ncol= 6))\n",
    "colnames(inactive_adjusted_linear_modeling_results) <- cbind(\"Protein\",\"Adjusted_linear_model\",\"linear_modeling_pvalue\",\"adjusted_pvalues\",\"fold_change\",\"coefficient\")\n",
    "inactive_adjusted_linear_modeling_results[,1] <- protein_names\n",
    "for(i in 1:num_proteins){\n",
    "    #get protein name\n",
    "    current_protein <- protein_names[i,1]\n",
    "    #make linear model string\n",
    "    binary_results <- inactive_binary_modeling_results[i,]\n",
    "    model_string <- \"\"\n",
    "    model_string <- make_linear_model(binary_results)\n",
    "    inactive_adjusted_linear_modeling_results[i,2] <- model_string\n",
    "    adjusted_linear_model <- lm(paste0(current_protein,model_string),data = inactive_and_controls_demographics_and_proteins)\n",
    "    pvalue1 <- summary(adjusted_linear_model)$coefficients[2,4]\n",
    "    inactive_adjusted_linear_modeling_results[i,3] <- pvalue1\n",
    "    coefficient_value <- summary(adjusted_linear_model)$coefficients[2,1]\n",
    "    inactive_adjusted_linear_modeling_results[i,6] <- coefficient_value\n",
    "}\n",
    "print(\"Done with models.\")"
   ]
  },
  {
   "cell_type": "code",
   "execution_count": 26,
   "id": "d2d4125e-22ef-4a61-98c3-d3a5c96b5ec9",
   "metadata": {},
   "outputs": [
    {
     "data": {
      "text/html": [
       "<table class=\"dataframe\">\n",
       "<caption>A data.frame: 6 × 6</caption>\n",
       "<thead>\n",
       "\t<tr><th></th><th scope=col>Protein</th><th scope=col>Adjusted_linear_model</th><th scope=col>linear_modeling_pvalue</th><th scope=col>adjusted_pvalues</th><th scope=col>fold_change</th><th scope=col>coefficient</th></tr>\n",
       "\t<tr><th></th><th scope=col>&lt;chr&gt;</th><th scope=col>&lt;chr&gt;</th><th scope=col>&lt;dbl&gt;</th><th scope=col>&lt;dbl&gt;</th><th scope=col>&lt;dbl&gt;</th><th scope=col>&lt;dbl&gt;</th></tr>\n",
       "</thead>\n",
       "<tbody>\n",
       "\t<tr><th scope=row>1</th><td>CRBB2_10000.28</td><td>~ Study_group + Prednisone                         </td><td>0.460432058</td><td>0</td><td>0</td><td>  51.48781</td></tr>\n",
       "\t<tr><th scope=row>2</th><td>c.Raf_10001.7 </td><td>~ Study_group + Prednisone + Methotrexate + Aspirin</td><td>0.001965581</td><td>0</td><td>0</td><td>-301.48136</td></tr>\n",
       "\t<tr><th scope=row>3</th><td>ZNF41_10003.15</td><td>~ Study_group + Methotrexate                       </td><td>0.844371015</td><td>0</td><td>0</td><td>   2.83606</td></tr>\n",
       "\t<tr><th scope=row>4</th><td>ELK1_10006.25 </td><td>~ Study_group                                      </td><td>0.284338811</td><td>0</td><td>0</td><td>1023.15169</td></tr>\n",
       "\t<tr><th scope=row>5</th><td>GUC1A_10008.43</td><td>~ Study_group                                      </td><td>0.165504267</td><td>0</td><td>0</td><td>  55.93024</td></tr>\n",
       "\t<tr><th scope=row>6</th><td>BECN1_10010.10</td><td>~ Study_group + Age                                </td><td>0.058162557</td><td>0</td><td>0</td><td>  70.36173</td></tr>\n",
       "</tbody>\n",
       "</table>\n"
      ],
      "text/latex": [
       "A data.frame: 6 × 6\n",
       "\\begin{tabular}{r|llllll}\n",
       "  & Protein & Adjusted\\_linear\\_model & linear\\_modeling\\_pvalue & adjusted\\_pvalues & fold\\_change & coefficient\\\\\n",
       "  & <chr> & <chr> & <dbl> & <dbl> & <dbl> & <dbl>\\\\\n",
       "\\hline\n",
       "\t1 & CRBB2\\_10000.28 & \\textasciitilde{} Study\\_group + Prednisone                          & 0.460432058 & 0 & 0 &   51.48781\\\\\n",
       "\t2 & c.Raf\\_10001.7  & \\textasciitilde{} Study\\_group + Prednisone + Methotrexate + Aspirin & 0.001965581 & 0 & 0 & -301.48136\\\\\n",
       "\t3 & ZNF41\\_10003.15 & \\textasciitilde{} Study\\_group + Methotrexate                        & 0.844371015 & 0 & 0 &    2.83606\\\\\n",
       "\t4 & ELK1\\_10006.25  & \\textasciitilde{} Study\\_group                                       & 0.284338811 & 0 & 0 & 1023.15169\\\\\n",
       "\t5 & GUC1A\\_10008.43 & \\textasciitilde{} Study\\_group                                       & 0.165504267 & 0 & 0 &   55.93024\\\\\n",
       "\t6 & BECN1\\_10010.10 & \\textasciitilde{} Study\\_group + Age                                 & 0.058162557 & 0 & 0 &   70.36173\\\\\n",
       "\\end{tabular}\n"
      ],
      "text/markdown": [
       "\n",
       "A data.frame: 6 × 6\n",
       "\n",
       "| <!--/--> | Protein &lt;chr&gt; | Adjusted_linear_model &lt;chr&gt; | linear_modeling_pvalue &lt;dbl&gt; | adjusted_pvalues &lt;dbl&gt; | fold_change &lt;dbl&gt; | coefficient &lt;dbl&gt; |\n",
       "|---|---|---|---|---|---|---|\n",
       "| 1 | CRBB2_10000.28 | ~ Study_group + Prednisone                          | 0.460432058 | 0 | 0 |   51.48781 |\n",
       "| 2 | c.Raf_10001.7  | ~ Study_group + Prednisone + Methotrexate + Aspirin | 0.001965581 | 0 | 0 | -301.48136 |\n",
       "| 3 | ZNF41_10003.15 | ~ Study_group + Methotrexate                        | 0.844371015 | 0 | 0 |    2.83606 |\n",
       "| 4 | ELK1_10006.25  | ~ Study_group                                       | 0.284338811 | 0 | 0 | 1023.15169 |\n",
       "| 5 | GUC1A_10008.43 | ~ Study_group                                       | 0.165504267 | 0 | 0 |   55.93024 |\n",
       "| 6 | BECN1_10010.10 | ~ Study_group + Age                                 | 0.058162557 | 0 | 0 |   70.36173 |\n",
       "\n"
      ],
      "text/plain": [
       "  Protein        Adjusted_linear_model                              \n",
       "1 CRBB2_10000.28 ~ Study_group + Prednisone                         \n",
       "2 c.Raf_10001.7  ~ Study_group + Prednisone + Methotrexate + Aspirin\n",
       "3 ZNF41_10003.15 ~ Study_group + Methotrexate                       \n",
       "4 ELK1_10006.25  ~ Study_group                                      \n",
       "5 GUC1A_10008.43 ~ Study_group                                      \n",
       "6 BECN1_10010.10 ~ Study_group + Age                                \n",
       "  linear_modeling_pvalue adjusted_pvalues fold_change coefficient\n",
       "1 0.460432058            0                0             51.48781 \n",
       "2 0.001965581            0                0           -301.48136 \n",
       "3 0.844371015            0                0              2.83606 \n",
       "4 0.284338811            0                0           1023.15169 \n",
       "5 0.165504267            0                0             55.93024 \n",
       "6 0.058162557            0                0             70.36173 "
      ]
     },
     "metadata": {},
     "output_type": "display_data"
    }
   ],
   "source": [
    "head(inactive_adjusted_linear_modeling_results)\n"
   ]
  },
  {
   "cell_type": "code",
   "execution_count": 27,
   "id": "bb5af308-fdaf-4d83-90de-6002196c52e3",
   "metadata": {},
   "outputs": [],
   "source": [
    "#add the (BH) adjusted pvalues\n",
    "inactive_adjusted_linear_modeling_results[,4] <- p.adjust(inactive_adjusted_linear_modeling_results$linear_modeling_pvalue, method=\"hochberg\")\n"
   ]
  },
  {
   "cell_type": "code",
   "execution_count": 28,
   "id": "c79f8683-bab7-4eaa-bd10-755073675574",
   "metadata": {
    "tags": []
   },
   "outputs": [],
   "source": [
    "#find the means of active and controls\n",
    "fold_changes <- data.frame(matrix(data=0,nrow=num_proteins,ncol=4))\n",
    "colnames(fold_changes) <- cbind(\"Proteins\", \"Inactive_mean\",\"Control_mean\",\"fold_change\")\n",
    "fold_changes[,1] <- protein_names\n",
    "for(i in 1:num_proteins){\n",
    "    fold_changes[i,2] <- mean(inactive_proteins_only[,i])\n",
    "    fold_changes[i,3] <- mean(controls_proteins_only[,i])\n",
    "}\n",
    "fold_changes[,4] <- log2(fold_changes[,2]/fold_changes[,3])"
   ]
  },
  {
   "cell_type": "code",
   "execution_count": 29,
   "id": "0429196c-db39-4e8c-9374-cc7b7b39d226",
   "metadata": {},
   "outputs": [],
   "source": [
    "#add the fold changes\n",
    "inactive_adjusted_linear_modeling_results[,5] <- fold_changes[,4]\n",
    "\n",
    "#add entrez and target names\n",
    "protein_key <- read.csv(\"../../data/key_for_protein_names.csv\")\n",
    "inactive_adjusted_linear_modeling_results$Target <- protein_key[,2]\n",
    "inactive_adjusted_linear_modeling_results$Entrez <- protein_key[,3]\n",
    "inactive_adjusted_linear_modeling_results$Uniprot = protein_key$Uniprot\n",
    "\n",
    "\n",
    "#save the results\n",
    "write.csv(inactive_adjusted_linear_modeling_results,\"../../analysis/linear_modeling_inactive_and_controls/inactive_adjusted_linear_modeling_results.csv\",row.names=FALSE)"
   ]
  },
  {
   "cell_type": "code",
   "execution_count": 30,
   "id": "2e8937cd-3dce-43de-acad-1217df7b7c86",
   "metadata": {},
   "outputs": [
    {
     "data": {
      "text/html": [
       "<style>\n",
       ".list-inline {list-style: none; margin:0; padding: 0}\n",
       ".list-inline>li {display: inline-block}\n",
       ".list-inline>li:not(:last-child)::after {content: \"\\00b7\"; padding: 0 .5ex}\n",
       "</style>\n",
       "<ol class=list-inline><li>781</li><li>9</li></ol>\n"
      ],
      "text/latex": [
       "\\begin{enumerate*}\n",
       "\\item 781\n",
       "\\item 9\n",
       "\\end{enumerate*}\n"
      ],
      "text/markdown": [
       "1. 781\n",
       "2. 9\n",
       "\n",
       "\n"
      ],
      "text/plain": [
       "[1] 781   9"
      ]
     },
     "metadata": {},
     "output_type": "display_data"
    }
   ],
   "source": [
    "#find the significant pvalues and summarize the models\n",
    "significant_adjusted_linear_modeling_results <- filter(inactive_adjusted_linear_modeling_results,inactive_adjusted_linear_modeling_results$linear_modeling_pvalue < 0.01)\n",
    "dim(significant_adjusted_linear_modeling_results)\n",
    "significant_adjusted_linear_modeling_results <- significant_adjusted_linear_modeling_results[order(significant_adjusted_linear_modeling_results$linear_modeling_pvalue),]\n",
    "#head(significant_adjusted_linear_modeling_results)\n"
   ]
  },
  {
   "cell_type": "code",
   "execution_count": 31,
   "id": "0e7e9e9c-cf80-423e-a6f3-782288141647",
   "metadata": {},
   "outputs": [
    {
     "data": {
      "text/html": [
       "<style>\n",
       ".list-inline {list-style: none; margin:0; padding: 0}\n",
       ".list-inline>li {display: inline-block}\n",
       ".list-inline>li:not(:last-child)::after {content: \"\\00b7\"; padding: 0 .5ex}\n",
       "</style>\n",
       "<ol class=list-inline><li>331</li><li>9</li></ol>\n"
      ],
      "text/latex": [
       "\\begin{enumerate*}\n",
       "\\item 331\n",
       "\\item 9\n",
       "\\end{enumerate*}\n"
      ],
      "text/markdown": [
       "1. 331\n",
       "2. 9\n",
       "\n",
       "\n"
      ],
      "text/plain": [
       "[1] 331   9"
      ]
     },
     "metadata": {},
     "output_type": "display_data"
    },
    {
     "data": {
      "text/html": [
       "<style>\n",
       ".list-inline {list-style: none; margin:0; padding: 0}\n",
       ".list-inline>li {display: inline-block}\n",
       ".list-inline>li:not(:last-child)::after {content: \"\\00b7\"; padding: 0 .5ex}\n",
       "</style>\n",
       "<ol class=list-inline><li>450</li><li>9</li></ol>\n"
      ],
      "text/latex": [
       "\\begin{enumerate*}\n",
       "\\item 450\n",
       "\\item 9\n",
       "\\end{enumerate*}\n"
      ],
      "text/markdown": [
       "1. 450\n",
       "2. 9\n",
       "\n",
       "\n"
      ],
      "text/plain": [
       "[1] 450   9"
      ]
     },
     "metadata": {},
     "output_type": "display_data"
    }
   ],
   "source": [
    "#find those that are lower in active compared to controls\n",
    "#and those that are higher in active compared to controls\n",
    "higher_in_inactive_proteins <- filter(significant_adjusted_linear_modeling_results,significant_adjusted_linear_modeling_results$fold_change > 0)\n",
    "dim(higher_in_inactive_proteins)\n",
    "write.csv(higher_in_inactive_proteins,\"../../analysis/linear_modeling_inactive_and_controls/higher_in_inactive_proteins.csv\",row.names=FALSE)\n",
    "\n",
    "lower_in_inactive_proteins <- filter(significant_adjusted_linear_modeling_results,significant_adjusted_linear_modeling_results$fold_change < 0)\n",
    "dim(lower_in_inactive_proteins)\n",
    "write.csv(lower_in_inactive_proteins,\"../../analysis/linear_modeling_inactive_and_controls/lower_in_inactive_proteins.csv\",row.names=FALSE)\n"
   ]
  },
  {
   "cell_type": "code",
   "execution_count": null,
   "id": "a066c117-ad3f-4acd-9cd9-b19c28c46487",
   "metadata": {},
   "outputs": [],
   "source": []
  }
 ],
 "metadata": {
  "kernelspec": {
   "display_name": "R",
   "language": "R",
   "name": "ir"
  },
  "language_info": {
   "codemirror_mode": "r",
   "file_extension": ".r",
   "mimetype": "text/x-r-source",
   "name": "R",
   "pygments_lexer": "r",
   "version": "4.2.2"
  }
 },
 "nbformat": 4,
 "nbformat_minor": 5
}
