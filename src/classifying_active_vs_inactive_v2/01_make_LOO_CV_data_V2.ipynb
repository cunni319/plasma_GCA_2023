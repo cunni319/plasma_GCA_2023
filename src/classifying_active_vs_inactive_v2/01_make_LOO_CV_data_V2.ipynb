{
 "cells": [
  {
   "cell_type": "code",
   "execution_count": 2,
   "id": "9798cc86-f400-47e0-8342-1a96efdcfe19",
   "metadata": {},
   "outputs": [],
   "source": [
    "\n",
    "\n",
    "import pandas as pd\n",
    "import os\n",
    "import sys\n"
   ]
  },
  {
   "cell_type": "code",
   "execution_count": 3,
   "id": "695dbae0-b1ec-42ed-a2a3-21647a0a1023",
   "metadata": {},
   "outputs": [],
   "source": [
    "sys.path.insert(1, '/Users/m197371/vasculitis_project_quantile_normalization/analysis/classifying_active_vs_control_v2')\n",
    "data_df = pd.read_csv(\"../../data/active_and_inactive_machine_learning/all_active_and_inactive_machine_learning_final.csv\", sep=\",\")\n",
    "header_list = list(data_df.columns.values)\n",
    "r, c = data_df.shape\n",
    "\n",
    "output_dir = \"../../analysis/classifying_active_vs_inactive_v2/all_proteins\""
   ]
  },
  {
   "cell_type": "code",
   "execution_count": 4,
   "id": "b533d736-be67-468c-93eb-89f7c2167319",
   "metadata": {},
   "outputs": [
    {
     "name": "stdout",
     "output_type": "stream",
     "text": [
      "working with GCA-1. this will be test1\n",
      "working with GCA-2. this will be test2\n",
      "working with GCA-3. this will be test3\n",
      "working with GCA-4. this will be test4\n",
      "working with GCA-5. this will be test5\n",
      "working with GCA-6. this will be test6\n",
      "working with GCA-7. this will be test7\n",
      "working with GCA-8. this will be test8\n",
      "working with GCA-9. this will be test9\n",
      "working with GCA-10. this will be test10\n",
      "working with GCA-11. this will be test11\n",
      "working with GCA-12. this will be test12\n",
      "working with GCA-13. this will be test13\n",
      "working with GCA-14. this will be test14\n",
      "working with GCA-15. this will be test15\n",
      "working with GCA-16. this will be test16\n",
      "working with GCA-17. this will be test17\n",
      "working with GCA-18. this will be test18\n",
      "working with GCA-19. this will be test19\n",
      "working with GCA-20. this will be test20\n",
      "working with GCA-21. this will be test21\n",
      "working with GCA-22. this will be test22\n",
      "working with GCA-23. this will be test23\n",
      "working with GCA-24. this will be test24\n",
      "working with GCA-25. this will be test25\n",
      "working with GCA-26. this will be test26\n",
      "working with GCA-27. this will be test27\n",
      "working with GCA-28. this will be test28\n",
      "working with GCA-29. this will be test29\n",
      "working with GCA-30. this will be test30\n"
     ]
    }
   ],
   "source": [
    "mask_info_dict = {}\n",
    "\n",
    "#leave one patient out (2samples, 58samples)\n",
    "#2class (1, 0)\n",
    "#patientID = maskID\n",
    "\n",
    "#make mask_info_dict\n",
    "for i in range(r):\n",
    "    \n",
    "    sample_ID = data_df[\"sample_ID\"][i]\n",
    "    maskID = data_df[\"maskID\"][i]\n",
    "\n",
    "    try: mask_info_dict[maskID].append(sample_ID)\n",
    "    except KeyError: mask_info_dict[maskID] = [sample_ID]\n",
    "\n",
    "mask_info_list = list(mask_info_dict.keys())\n",
    "# used_maskID_list = [] #this empty list will be filled with \"maskIDs\" that was once considered as \"test\" dataset. Thus, will be eventually be same as mask_info_list.\n",
    "\n",
    "#30 training/test datasets\n",
    "loocv_count = 1\n",
    "for test_maskID in mask_info_list:\n",
    "    \n",
    "    print (\"working with %s. this will be test%s\" % (test_maskID, loocv_count))\n",
    "    \n",
    "    #test_maskID is the anchor point of test dataset\n",
    "    test_data_file = \"%s/test2/test%s.csv\" % (output_dir, loocv_count)\n",
    "    train_data_file = \"%s/train2/train%s.csv\" % (output_dir, loocv_count)\n",
    "\n",
    "    test_data_df = data_df.loc[data_df['maskID'] == test_maskID]\n",
    "    test_data_df.to_csv(test_data_file, index=False)\n",
    "\n",
    "    train_data_df = data_df.loc[data_df['maskID'] != test_maskID]\n",
    "    train_data_df.to_csv(train_data_file, index=False)\n",
    "\n",
    "    loocv_count += 1\n",
    "    \n",
    "    # break\n"
   ]
  },
  {
   "cell_type": "code",
   "execution_count": null,
   "id": "8f52481b-aa72-4b91-a07f-ce5952b2bc67",
   "metadata": {},
   "outputs": [],
   "source": []
  }
 ],
 "metadata": {
  "kernelspec": {
   "display_name": "Python 3",
   "language": "python",
   "name": "python3"
  },
  "language_info": {
   "codemirror_mode": {
    "name": "ipython",
    "version": 3
   },
   "file_extension": ".py",
   "mimetype": "text/x-python",
   "name": "python",
   "nbconvert_exporter": "python",
   "pygments_lexer": "ipython3",
   "version": "3.9.12"
  }
 },
 "nbformat": 4,
 "nbformat_minor": 5
}
