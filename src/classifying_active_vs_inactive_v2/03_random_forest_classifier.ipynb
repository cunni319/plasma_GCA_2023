{
 "cells": [
  {
   "cell_type": "code",
   "execution_count": 3,
   "id": "5457dd12-ed3a-4788-b640-27c11b782700",
   "metadata": {},
   "outputs": [],
   "source": [
    "from sklearn.ensemble import RandomForestClassifier\n",
    "from sklearn.metrics import r2_score\n",
    "import pandas as pd\n",
    "import numpy as np"
   ]
  },
  {
   "cell_type": "code",
   "execution_count": 5,
   "id": "12027ab7-f7c5-46e0-b060-f8ef64523d29",
   "metadata": {
    "tags": []
   },
   "outputs": [
    {
     "name": "stdout",
     "output_type": "stream",
     "text": [
      "done\n"
     ]
    }
   ],
   "source": [
    "#classifying based on all features\n",
    "for i in range(1,31):\n",
    "    #print(\"i: %s\" % (i))\n",
    "    train_file1 = \"../../analysis/classifying_active_vs_inactive_v2/all_proteins/train2/train%s.csv\" % (i)\n",
    "    #print(train_file1)\n",
    "    train1 = pd.read_csv(train_file1)\n",
    "    #print(train1)\n",
    "    \n",
    "    test_file1 = \"../../analysis/classifying_active_vs_inactive_v2/all_proteins/test2/test%s.csv\" % (i)\n",
    "    #print(test_file1)\n",
    "    test1 = pd.read_csv(test_file1)\n",
    "    #print(test1)\n",
    "    feature_names = list(train1.columns.values)\n",
    "    feature_names = list(feature_names[4:])\n",
    "    #print(feature_names)\n",
    "    x_train = train1[feature_names]\n",
    "    y_train = train1['Classifier']\n",
    "    \n",
    "    x_test = test1[feature_names]\n",
    "    y_test = test1['Classifier']\n",
    "    #\n",
    "    #print (\"total number of used features %s\" % len(feature_names))\n",
    "    lr_model = RandomForestClassifier(random_state = 23)\n",
    "\n",
    "    #print(feature_names)\n",
    "    lr_model.fit(x_train, y_train)\n",
    "    yhat1 = lr_model.predict(x_test)\n",
    "    predicted_and_actual_values = pd.DataFrame()\n",
    "    predicted_and_actual_values['Predicted'] = yhat1\n",
    "    predicted_and_actual_values['Actual'] = y_test\n",
    "    predicted_file = \"../../analysis/classifying_active_vs_inactive_v2/all_proteins/predicted/predicted_vals%s.csv\" % (i)\n",
    "    predicted_and_actual_values.to_csv(predicted_file,index=False)    \n",
    "print(\"done\")"
   ]
  },
  {
   "cell_type": "code",
   "execution_count": 28,
   "id": "5deb7195-006d-4708-95cd-605608a42dfb",
   "metadata": {},
   "outputs": [
    {
     "name": "stdout",
     "output_type": "stream",
     "text": [
      "done\n"
     ]
    }
   ],
   "source": [
    "#classifying based on differentially abundant proteins with a pvalue < 0.01\n",
    "for i in range(1,31):\n",
    "    #print(\"i: %s\" % (i))\n",
    "    train_file1 = \"../../analysis/classifying_active_vs_inactive_v2/differentially_abundant_proteins/train_0_01/train%s.csv\" % (i)\n",
    "\n",
    "    #print(train_file1)\n",
    "    train1 = pd.read_csv(train_file1)\n",
    "    #print(train1)\n",
    "    \n",
    "    test_file1 = \"../../analysis/classifying_active_vs_inactive_v2/differentially_abundant_proteins/test_0_01/test%s.csv\" % (i)\n",
    "    #print(test_file1)\n",
    "    test1 = pd.read_csv(test_file1)\n",
    "    #print(test1)\n",
    "    feature_names = list(train1.columns.values)\n",
    "    feature_names = list(feature_names[4:])\n",
    "    #print(feature_names)\n",
    "    x_train = train1[feature_names]\n",
    "    y_train = train1['Classifier']\n",
    "    \n",
    "    x_test = test1[feature_names]\n",
    "    y_test = test1['Classifier']\n",
    "    \n",
    "    # print (x_train)\n",
    "    \n",
    "    #print (\"total number of used features %s\" % len(feature_names))\n",
    "    #rf_model = RandomForestClassifier()\n",
    "    rf_model = RandomForestClassifier(random_state=23)\n",
    "    #rf_model = RandomForestClassifier()\n",
    "    \n",
    "    #print(feature_names)\n",
    "    rf_model.fit(x_train, y_train)\n",
    "    yhat1 = rf_model.predict(x_test)\n",
    "    predicted_and_actual_values = pd.DataFrame()\n",
    "    predicted_and_actual_values['Predicted'] = yhat1\n",
    "    predicted_and_actual_values['Actual'] = y_test\n",
    "    predicted_file = \"../../analysis/classifying_active_vs_inactive_v2/differentially_abundant_proteins/predicted_0_01/predicted_vals%s.csv\" % (i)\n",
    "    predicted_and_actual_values.to_csv(predicted_file,index=False)    \n",
    "    \n",
    "    #features of importance\n",
    "    features_of_importance= rf_model.feature_importances_\n",
    "    features_of_importance= pd.DataFrame(features_of_importance)\n",
    "    features_of_importance.columns = ['Value']\n",
    "    features_of_importance['Protein'] = feature_names\n",
    "    # saving the dataframe\n",
    "    #df.to_csv('file1.csv')\n",
    "    features_of_importance_file = \"../../analysis/classifying_active_vs_inactive_v2/differentially_abundant_proteins/features_of_importance_0_01/features_of_importance%s.csv\" % (i)\n",
    "    features_of_importance.to_csv(features_of_importance_file,index=False)\n",
    "    \n",
    "    # break\n",
    "print(\"done\")"
   ]
  },
  {
   "cell_type": "code",
   "execution_count": 29,
   "id": "914c7392-0b3b-49b9-88e7-09e2ce4806f8",
   "metadata": {
    "tags": []
   },
   "outputs": [
    {
     "name": "stdout",
     "output_type": "stream",
     "text": [
      "done\n"
     ]
    }
   ],
   "source": [
    "#classifying based on differentially abundant proteins with a pvalue < 0.05\n",
    "for i in range(1,31):\n",
    "    #print(\"i: %s\" % (i))\n",
    "    train_file1 = \"../../analysis/classifying_active_vs_inactive_v2/differentially_abundant_proteins/train_0_05/train%s.csv\" % (i)\n",
    "\n",
    "    #print(train_file1)\n",
    "    train1 = pd.read_csv(train_file1)\n",
    "    #print(train1)\n",
    "    \n",
    "    test_file1 = \"../../analysis/classifying_active_vs_inactive_v2/differentially_abundant_proteins/test_0_05/test%s.csv\" % (i)\n",
    "    #print(test_file1)\n",
    "    test1 = pd.read_csv(test_file1)\n",
    "    \n",
    "    #print(test1)\n",
    "    feature_names = list(train1.columns.values)\n",
    "    feature_names = list(feature_names[4:])\n",
    "    #print(feature_names)\n",
    "    x_train = train1[feature_names]\n",
    "    y_train = train1['Classifier']\n",
    "    \n",
    "    x_test = test1[feature_names]\n",
    "    y_test = test1['Classifier']\n",
    "    \n",
    "    # print (x_train)\n",
    "\n",
    "    #print (\"total number of used features %s\" % len(feature_names))\n",
    "    #rf_model = RandomForestClassifier()\n",
    "    rf_model = RandomForestClassifier(random_state=23)\n",
    "    #rf_model = RandomForestClassifier()\n",
    "    \n",
    "    #print(feature_names)\n",
    "    rf_model.fit(x_train, y_train)\n",
    "    yhat1 = rf_model.predict(x_test)\n",
    "    predicted_and_actual_values = pd.DataFrame()\n",
    "    predicted_and_actual_values['Predicted'] = yhat1\n",
    "    predicted_and_actual_values['Actual'] = y_test\n",
    "    predicted_file = \"../../analysis/classifying_active_vs_inactive_v2/differentially_abundant_proteins/predicted_0_05/predicted_vals%s.csv\" % (i)\n",
    "    predicted_and_actual_values.to_csv(predicted_file,index=False)    \n",
    "    \n",
    "    #features of importance\n",
    "    features_of_importance= rf_model.feature_importances_\n",
    "    features_of_importance= pd.DataFrame(features_of_importance)\n",
    "    features_of_importance.columns = ['Value']\n",
    "    features_of_importance['Protein'] = feature_names\n",
    "    # saving the dataframe\n",
    "    #df.to_csv('file1.csv')\n",
    "    #features_of_importance_file = \"../../analysis/classifying_active_vs_inactive_v2/differentially_abundant_proteins/features_of_importance/features_of_importance%s.csv\" % (i)\n",
    "    #features_of_importance.to_csv(features_of_importance_file,index=False)\n",
    "    \n",
    "    # break\n",
    "print(\"done\")"
   ]
  },
  {
   "cell_type": "code",
   "execution_count": 30,
   "id": "a2a57f2c-5592-4ed6-840b-769b1afd3cf7",
   "metadata": {},
   "outputs": [
    {
     "name": "stdout",
     "output_type": "stream",
     "text": [
      "done\n"
     ]
    }
   ],
   "source": [
    "#classifying based on differentially abundant proteins with a pvalue < 0.10\n",
    "for i in range(1,31):\n",
    "    #print(\"i: %s\" % (i))\n",
    "    train_file1 = \"../../analysis/classifying_active_vs_inactive_v2/differentially_abundant_proteins/train_0_10/train%s.csv\" % (i)\n",
    "\n",
    "    #print(train_file1)\n",
    "    train1 = pd.read_csv(train_file1)\n",
    "    #print(train1)\n",
    "    \n",
    "    test_file1 = \"../../analysis/classifying_active_vs_inactive_v2/differentially_abundant_proteins/test_0_10/test%s.csv\" % (i)\n",
    "    #print(test_file1)\n",
    "    test1 = pd.read_csv(test_file1)\n",
    "    \n",
    "    #print(test1)\n",
    "    feature_names = list(train1.columns.values)\n",
    "    feature_names = list(feature_names[4:])\n",
    "    #print(feature_names)\n",
    "    x_train = train1[feature_names]\n",
    "    y_train = train1['Classifier']\n",
    "    \n",
    "    x_test = test1[feature_names]\n",
    "    y_test = test1['Classifier']\n",
    "    \n",
    "    # print (x_train)\n",
    "    \n",
    "    #print (\"total number of used features %s\" % len(feature_names))\n",
    "    #rf_model = RandomForestClassifier(random_state = 39,criterion=\"entropy\")\n",
    "    rf_model = RandomForestClassifier(random_state=23)\n",
    "    #rf_model = RandomForestClassifier()\n",
    "    \n",
    "    #print(feature_names)\n",
    "    rf_model.fit(x_train, y_train)\n",
    "    yhat1 = rf_model.predict(x_test)\n",
    "    predicted_and_actual_values = pd.DataFrame()\n",
    "    predicted_and_actual_values['Predicted'] = yhat1\n",
    "    predicted_and_actual_values['Actual'] = y_test\n",
    "    predicted_file = \"../../analysis/classifying_active_vs_inactive_v2/differentially_abundant_proteins/predicted_0_10/predicted_vals%s.csv\" % (i)\n",
    "    predicted_and_actual_values.to_csv(predicted_file,index=False)    \n",
    "    \n",
    "    #features of importance\n",
    "    features_of_importance= rf_model.feature_importances_\n",
    "    features_of_importance= pd.DataFrame(features_of_importance)\n",
    "    features_of_importance.columns = ['Value']\n",
    "    features_of_importance['Protein'] = feature_names\n",
    "    # saving the dataframe\n",
    "    #df.to_csv('file1.csv')\n",
    "    #features_of_importance_file = \"../../analysis/classifying_active_vs_inactive_v2/differentially_abundant_proteins/features_of_importance/features_of_importance%s.csv\" % (i)\n",
    "    #features_of_importance.to_csv(features_of_importance_file,index=False)\n",
    "    \n",
    "    # break\n",
    "print(\"done\")"
   ]
  },
  {
   "cell_type": "code",
   "execution_count": null,
   "id": "43d9d749-2fb8-4a40-a02b-a8646eb60815",
   "metadata": {},
   "outputs": [],
   "source": []
  },
  {
   "cell_type": "code",
   "execution_count": null,
   "id": "7e254f95-9a46-45be-8c95-4fbc89c97d23",
   "metadata": {},
   "outputs": [],
   "source": []
  }
 ],
 "metadata": {
  "kernelspec": {
   "display_name": "Python 3",
   "language": "python",
   "name": "python3"
  },
  "language_info": {
   "codemirror_mode": {
    "name": "ipython",
    "version": 3
   },
   "file_extension": ".py",
   "mimetype": "text/x-python",
   "name": "python",
   "nbconvert_exporter": "python",
   "pygments_lexer": "ipython3",
   "version": "3.9.12"
  }
 },
 "nbformat": 4,
 "nbformat_minor": 5
}
