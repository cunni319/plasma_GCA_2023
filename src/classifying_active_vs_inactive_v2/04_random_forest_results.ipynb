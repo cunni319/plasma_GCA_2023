{
 "cells": [
  {
   "cell_type": "code",
   "execution_count": 1,
   "id": "2d8d8c9f-f637-4da3-933e-eda116381306",
   "metadata": {},
   "outputs": [],
   "source": [
    "import pandas as pd\n",
    "import numpy as np\n",
    "def confusion_matrix_statistics_nfold(predicted_values):\n",
    "    num_samples = len(predicted_values)\n",
    "       \n",
    "    true_positives = 0\n",
    "    true_negatives = 0\n",
    "    false_positives = 0\n",
    "    false_negatives = 0\n",
    "    for i in range(0,num_samples):\n",
    "        predicted_val = predicted_values.iloc[i,0]\n",
    "        actual_val = predicted_values.iloc[i,1]\n",
    "        \n",
    "        if(predicted_val == 1):\n",
    "           if(actual_val == 1):\n",
    "               true_positives += 1\n",
    "           else:\n",
    "               false_positives += 1\n",
    "\n",
    "        if(predicted_val == 0):\n",
    "           if(actual_val == 0):\n",
    "               true_negatives += 1\n",
    "           else:\n",
    "               false_negatives += 1\n",
    "\n",
    "    print(\"true positives: \" + str(true_positives))\n",
    "    print(\"true negatives: \" + str(true_negatives))\n",
    "    print(\"false positives: \" + str(false_positives))\n",
    "    print(\"false negatives: \" + str(false_negatives))\n",
    "    print(\"total number of samples: \" + str(true_positives+true_negatives+false_positives+false_negatives))\n",
    "    print(\"Accuracy: \" + str((true_positives+true_negatives)/(true_positives+true_negatives+false_positives+false_negatives)))\n",
    "    print(\"Specificity: \" + str(true_negatives/(true_negatives + false_positives)))\n",
    "    print(\"Sensitivity: \" + str(true_positives/(true_positives + false_negatives)))\n",
    "    print(\"PPV: \" + str(true_positives/(true_positives + false_positives)))\n",
    "    print(\"NPV: \" + str(true_negatives/(true_negatives+false_negatives)))\n",
    "    return"
   ]
  },
  {
   "cell_type": "code",
   "execution_count": 2,
   "id": "4770f553-8e7c-492f-b2b7-3b66422baf7a",
   "metadata": {},
   "outputs": [
    {
     "name": "stdout",
     "output_type": "stream",
     "text": [
      "true positives: 17\n",
      "true negatives: 14\n",
      "false positives: 16\n",
      "false negatives: 13\n",
      "total number of samples: 60\n",
      "Accuracy: 0.5166666666666667\n",
      "Specificity: 0.4666666666666667\n",
      "Sensitivity: 0.5666666666666667\n",
      "PPV: 0.5151515151515151\n",
      "NPV: 0.5185185185185185\n"
     ]
    }
   ],
   "source": [
    "#read in results for leave one patient out using all features\n",
    "prediction_results1 = pd.read_csv(\"../../analysis/classifying_active_vs_inactive_v2/all_proteins/predicted/predicted_vals1.csv\")\n",
    "for i in range(2,31):\n",
    "    prediction_file = \"../../analysis/classifying_active_vs_inactive_v2/all_proteins/predicted/predicted_vals%s.csv\" % (i)\n",
    "    prediction_results2 = pd.read_csv(prediction_file)\n",
    "    prediction_results1 = pd.concat([prediction_results1, prediction_results2])\n",
    "confusion_matrix_statistics_nfold(prediction_results1)\n"
   ]
  },
  {
   "cell_type": "code",
   "execution_count": null,
   "id": "946126ac-228f-47a6-b8bd-60473b4f5f09",
   "metadata": {},
   "outputs": [],
   "source": []
  }
 ],
 "metadata": {
  "kernelspec": {
   "display_name": "Python 3",
   "language": "python",
   "name": "python3"
  },
  "language_info": {
   "codemirror_mode": {
    "name": "ipython",
    "version": 3
   },
   "file_extension": ".py",
   "mimetype": "text/x-python",
   "name": "python",
   "nbconvert_exporter": "python",
   "pygments_lexer": "ipython3",
   "version": "3.9.12"
  }
 },
 "nbformat": 4,
 "nbformat_minor": 5
}
