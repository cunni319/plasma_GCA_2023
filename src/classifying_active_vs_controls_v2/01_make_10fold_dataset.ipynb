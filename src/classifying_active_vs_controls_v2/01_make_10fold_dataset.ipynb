{
 "cells": [
  {
   "cell_type": "code",
   "execution_count": 7,
   "id": "f143b0ed-efc0-4b00-bf2c-090256c2ce87",
   "metadata": {},
   "outputs": [],
   "source": [
    "#01_make_10fold_dataset.py         Sep.5.2023\n",
    "#Kevin\n",
    "\n",
    "#objective: split the full dataset into 10fold\n",
    "#caution [1]: class 0 and class 1 needs to be balanced.\n",
    "#caution [2]: There should be 6 in the testing set and\n",
    "#             54 in the training set\n",
    "\n",
    "#input: \"/Users/m197371/vasculitis_project_quantile_normalization/data/active_and_controls_machine_learning/active_and_controls_higher_in_active_machine_learning_all.csv\"\n",
    "\n",
    "\n",
    "import pandas as pd\n",
    "# from sklearn.model_selection import StratifiedKFold\n",
    "# from sklearn.model_selection import train_test_split\n",
    "import os\n",
    "import sys\n",
    "sys.path.insert(1, '/Users/m197371/vasculitis_project_quantile_normalization/analysis/classifying_active_vs_control_v2')\n"
   ]
  },
  {
   "cell_type": "code",
   "execution_count": 8,
   "id": "f269f9e8-1736-44e2-beb0-c932018d4d94",
   "metadata": {},
   "outputs": [],
   "source": [
    "data_df = pd.read_csv(\"../../data/active_and_controls_machine_learning/all_active_and_controls_machine_learning_final.csv\", sep=\",\")\n",
    "\n",
    "X_train_folds = []\n",
    "X_test_folds = []\n",
    "y_train_folds = []\n",
    "y_test_folds = []\n",
    "\n",
    "X = data_df.drop(columns=['Study_group','maskID','sample_ID','Classifier'])\n",
    "y = data_df['Classifier']\n",
    "\n",
    "num_samples, _ = data_df.shape\n",
    "\n",
    "n_splits = 10"
   ]
  },
  {
   "cell_type": "code",
   "execution_count": 9,
   "id": "cb8714f2-c3d8-4580-b7cb-b2ae328b5b97",
   "metadata": {},
   "outputs": [],
   "source": [
    "gca_idx_list = y[y == 1].index.tolist()\n",
    "control_idx_list = y[y == 0].index.tolist()"
   ]
  },
  {
   "cell_type": "code",
   "execution_count": 10,
   "id": "a022ae57-fb30-471a-a063-177ce00c9f26",
   "metadata": {
    "tags": []
   },
   "outputs": [],
   "source": [
    "samples_per_fold = (num_samples/n_splits)/2 #test set's total number of samples\n",
    "kfold_index_dict = {}\n",
    "\n",
    "index_count = 0\n",
    "for i in range(n_splits):\n",
    "    kfold = \"%sfold\" % (i + 1)\n",
    "\n",
    "    for j in range(int(samples_per_fold)):\n",
    "  \n",
    "        gca_sample_idx = gca_idx_list[index_count]\n",
    "        control_sample_idx = control_idx_list[index_count]\n",
    "\n",
    "        try:\n",
    "            kfold_index_dict[kfold].append(gca_sample_idx)\n",
    "            kfold_index_dict[kfold].append(control_sample_idx)\n",
    "        except KeyError:\n",
    "            kfold_index_dict[kfold] = [gca_sample_idx, control_sample_idx]\n",
    "\n",
    "        index_count += 1"
   ]
  },
  {
   "cell_type": "code",
   "execution_count": 11,
   "id": "ab27154e-0d7c-4972-9f39-7a80eebd6313",
   "metadata": {},
   "outputs": [
    {
     "name": "stdout",
     "output_type": "stream",
     "text": [
      "1-fold dataset contains test (n = 6) and training (n = 54)\n",
      "Common idxs: 0\n",
      "2-fold dataset contains test (n = 6) and training (n = 54)\n",
      "Common idxs: 0\n",
      "3-fold dataset contains test (n = 6) and training (n = 54)\n",
      "Common idxs: 0\n",
      "4-fold dataset contains test (n = 6) and training (n = 54)\n",
      "Common idxs: 0\n",
      "5-fold dataset contains test (n = 6) and training (n = 54)\n",
      "Common idxs: 0\n",
      "6-fold dataset contains test (n = 6) and training (n = 54)\n",
      "Common idxs: 0\n",
      "7-fold dataset contains test (n = 6) and training (n = 54)\n",
      "Common idxs: 0\n",
      "8-fold dataset contains test (n = 6) and training (n = 54)\n",
      "Common idxs: 0\n",
      "9-fold dataset contains test (n = 6) and training (n = 54)\n",
      "Common idxs: 0\n",
      "10-fold dataset contains test (n = 6) and training (n = 54)\n",
      "Common idxs: 0\n"
     ]
    }
   ],
   "source": [
    "#make index list of (1fold vs others) (2fold vs others) .... (10folds vs others)\n",
    "for i in range(n_splits):\n",
    "    kfold_i = \"%sfold\" % (i + 1) #this is for test dataset\n",
    "    \n",
    "    test_data_idx_list = kfold_index_dict[kfold_i]\n",
    "    training_data_idx_list = []\n",
    "    \n",
    "    for j in range(n_splits):\n",
    "        kfold_j= \"%sfold\" % (j + 1) #this is for training dataset\n",
    "        \n",
    "        if kfold_j != kfold_i:\n",
    "            kfold_j_idx_list = kfold_index_dict[kfold_j]\n",
    "            for temp_idx in kfold_j_idx_list:\n",
    "                training_data_idx_list.append(temp_idx)\n",
    "    \n",
    "    print (\"%s-fold dataset contains test (n = %s) and training (n = %s)\" % (i+1, len(test_data_idx_list), len(training_data_idx_list)))\n",
    "    set1 = set(test_data_idx_list)\n",
    "    set2 = set(training_data_idx_list)\n",
    "\n",
    "    intersection = set1.intersection(set2)\n",
    "    print (\"Common idxs: %s\" % len(intersection))       \n",
    "        \n",
    "    #make 10fold dataset (.tsv or .csv format)\n",
    "    test_data_df = data_df.loc[test_data_idx_list]\n",
    "    training_data_df = data_df.loc[training_data_idx_list]\n",
    "    \n",
    "    folder_check = \"../../analysis/classifying_active_vs_control_v2/%sfold\" % (i + 1)\n",
    "    if os.path.isdir(folder_check) == False:\n",
    "        os.system('mkdir %s' % folder_check)\n",
    "        \n",
    "    test_data_file = \"../../analysis/classifying_active_vs_control_v2/%sfold/test_data.csv\" % (i+1)\n",
    "    train_data_file = \"../../analysis/classifying_active_vs_control_v2/%sfold/training_data.csv\" % (i+1)\n",
    "    \n",
    "    test_data_df.to_csv(test_data_file)\n",
    "    training_data_df.to_csv(train_data_file)\n"
   ]
  },
  {
   "cell_type": "code",
   "execution_count": null,
   "id": "e65e141f-5685-40b8-8670-90266f92ea6d",
   "metadata": {},
   "outputs": [],
   "source": []
  }
 ],
 "metadata": {
  "kernelspec": {
   "display_name": "Python 3",
   "language": "python",
   "name": "python3"
  },
  "language_info": {
   "codemirror_mode": {
    "name": "ipython",
    "version": 3
   },
   "file_extension": ".py",
   "mimetype": "text/x-python",
   "name": "python",
   "nbconvert_exporter": "python",
   "pygments_lexer": "ipython3",
   "version": "3.9.12"
  }
 },
 "nbformat": 4,
 "nbformat_minor": 5
}
