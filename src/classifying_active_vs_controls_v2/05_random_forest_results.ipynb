{
 "cells": [
  {
   "cell_type": "code",
   "execution_count": 13,
   "id": "7904bf8c-61a2-4734-a8be-11dd099f0ce7",
   "metadata": {},
   "outputs": [],
   "source": [
    "#07_differentially_abundant_and_absolute_value_proteins_random_forest_results.py      Sep.12.2023\n",
    "#Kevin\n",
    "\n",
    "#objective: read in each of the ten train and test sets results for the top proteins\n",
    "#           based on the absolute value of fold-change*nominal pvalue value.\n",
    "\n",
    "#caution [1]: Be sure to read in all the results one through ten\n",
    "#input: \"/Users/m197371/vasculitis_project_quantile_normalization/analysis/classifying_active_vs_control_v2/nfold/predicted/\"\n"
   ]
  },
  {
   "cell_type": "code",
   "execution_count": 1,
   "id": "aacd52f1-ab6d-4c9c-a015-1f0b210cbfa4",
   "metadata": {},
   "outputs": [],
   "source": [
    "import pandas as pd\n",
    "import numpy as np\n",
    "def confusion_matrix_statistics_nfold(predicted_values):\n",
    "    num_samples = len(predicted_values)\n",
    "       \n",
    "    true_positives = 0\n",
    "    true_negatives = 0\n",
    "    false_positives = 0\n",
    "    false_negatives = 0\n",
    "    for i in range(0,num_samples):\n",
    "        predicted_val = predicted_values.iloc[i,0]\n",
    "        actual_val = predicted_values.iloc[i,1]\n",
    "        \n",
    "        if(predicted_val == 1):\n",
    "           if(actual_val == 1):\n",
    "               true_positives += 1\n",
    "           else:\n",
    "               false_positives += 1\n",
    "\n",
    "        if(predicted_val == 0):\n",
    "           if(actual_val == 0):\n",
    "               true_negatives += 1\n",
    "           else:\n",
    "               false_negatives += 1\n",
    "\n",
    "    print(\"true positives: \" + str(true_positives))\n",
    "    print(\"true negatives: \" + str(true_negatives))\n",
    "    print(\"false positives: \" + str(false_positives))\n",
    "    print(\"false negatives: \" + str(false_negatives))\n",
    "    print(\"total number of samples: \" + str(true_positives+true_negatives+false_positives+false_negatives))\n",
    "    print(\"Accuracy: \" + str((true_positives+true_negatives)/(true_positives+true_negatives+false_positives+false_negatives)))\n",
    "    print(\"Specificity: \" + str(true_negatives/(true_negatives + false_positives)))\n",
    "    print(\"Sensitivity: \" + str(true_positives/(true_positives + false_negatives)))\n",
    "    print(\"PPV: \" + str(true_positives/(true_positives + false_positives)))\n",
    "    print(\"NPV: \" + str(true_negatives/(true_negatives+false_negatives)))\n",
    "    return"
   ]
  },
  {
   "cell_type": "code",
   "execution_count": 2,
   "id": "06b54f24-58fa-4a2e-8015-8b98b3209673",
   "metadata": {},
   "outputs": [
    {
     "name": "stdout",
     "output_type": "stream",
     "text": [
      "true positives: 28\n",
      "true negatives: 29\n",
      "false positives: 1\n",
      "false negatives: 2\n",
      "total number of samples: 60\n",
      "Accuracy: 0.95\n",
      "Specificity: 0.9666666666666667\n",
      "Sensitivity: 0.9333333333333333\n",
      "PPV: 0.9655172413793104\n",
      "NPV: 0.9354838709677419\n"
     ]
    }
   ],
   "source": [
    "#read in results for all proteins using 10-fold cross validation\n",
    "#\"all_proteins\"\n",
    "\n",
    "prediction_results1 = pd.read_csv(\"../../analysis/classifying_active_vs_control_v2/1fold/predicted/all_proteins_predicted_vals1.csv\")\n",
    "for i in range(2,11):\n",
    "    prediction_file = \"../../analysis/classifying_active_vs_control_v2/%sfold/predicted/all_proteins_predicted_vals%s.csv\" % (i,i)\n",
    "    prediction_results2 = pd.read_csv(prediction_file)\n",
    "    prediction_results1 = pd.concat([prediction_results1, prediction_results2])\n",
    "\n",
    "confusion_matrix_statistics_nfold(prediction_results1)\n",
    "#print(prediction_results1)"
   ]
  },
  {
   "cell_type": "code",
   "execution_count": 3,
   "id": "f50cf138-3d82-472b-b123-0a9fdab35842",
   "metadata": {},
   "outputs": [
    {
     "name": "stdout",
     "output_type": "stream",
     "text": [
      "true positives: 28\n",
      "true negatives: 29\n",
      "false positives: 1\n",
      "false negatives: 2\n",
      "total number of samples: 60\n",
      "Accuracy: 0.95\n",
      "Specificity: 0.9666666666666667\n",
      "Sensitivity: 0.9333333333333333\n",
      "PPV: 0.9655172413793104\n",
      "NPV: 0.9354838709677419\n"
     ]
    }
   ],
   "source": [
    "#read in results for the top 10 proteins using 10-fold cross validation\n",
    "#\"all_proteins\"\n",
    "\n",
    "prediction_results1 = pd.read_csv(\"../../analysis/classifying_active_vs_control_v2/1fold/predicted/top_10_proteins_predicted_vals1.csv\")\n",
    "for i in range(2,11):\n",
    "    prediction_file = \"../../analysis/classifying_active_vs_control_v2/%sfold/predicted/top_10_proteins_predicted_vals%s.csv\" % (i,i)\n",
    "    prediction_results2 = pd.read_csv(prediction_file)\n",
    "    prediction_results1 = pd.concat([prediction_results1, prediction_results2])\n",
    "\n",
    "confusion_matrix_statistics_nfold(prediction_results1)\n",
    "#print(prediction_results1)"
   ]
  },
  {
   "cell_type": "code",
   "execution_count": 4,
   "id": "84c24816-b51d-4385-ad67-87ad228169b1",
   "metadata": {},
   "outputs": [
    {
     "name": "stdout",
     "output_type": "stream",
     "text": [
      "true positives: 29\n",
      "true negatives: 30\n",
      "false positives: 0\n",
      "false negatives: 1\n",
      "total number of samples: 60\n",
      "Accuracy: 0.9833333333333333\n",
      "Specificity: 1.0\n",
      "Sensitivity: 0.9666666666666667\n",
      "PPV: 1.0\n",
      "NPV: 0.967741935483871\n"
     ]
    }
   ],
   "source": [
    "#read in results for the top 25 proteins using 10-fold cross validation\n",
    "#\"all_proteins\"\n",
    "\n",
    "prediction_results1 = pd.read_csv(\"../../analysis/classifying_active_vs_control_v2/1fold/predicted/top_25_proteins_predicted_vals1.csv\")\n",
    "for i in range(2,11):\n",
    "    prediction_file = \"../../analysis/classifying_active_vs_control_v2/%sfold/predicted/top_25_proteins_predicted_vals%s.csv\" % (i,i)\n",
    "    prediction_results2 = pd.read_csv(prediction_file)\n",
    "    prediction_results1 = pd.concat([prediction_results1, prediction_results2])\n",
    "\n",
    "confusion_matrix_statistics_nfold(prediction_results1)\n",
    "#print(prediction_results1)"
   ]
  },
  {
   "cell_type": "code",
   "execution_count": 5,
   "id": "b8778499-eff2-4f27-93e6-e01ad6b98da7",
   "metadata": {},
   "outputs": [
    {
     "name": "stdout",
     "output_type": "stream",
     "text": [
      "true positives: 30\n",
      "true negatives: 30\n",
      "false positives: 0\n",
      "false negatives: 0\n",
      "total number of samples: 60\n",
      "Accuracy: 1.0\n",
      "Specificity: 1.0\n",
      "Sensitivity: 1.0\n",
      "PPV: 1.0\n",
      "NPV: 1.0\n"
     ]
    }
   ],
   "source": [
    "#read in results for the top 50 proteins using 10-fold cross validation\n",
    "#\"all_proteins\"\n",
    "\n",
    "prediction_results1 = pd.read_csv(\"../../analysis/classifying_active_vs_control_v2/1fold/predicted/top_50_proteins_predicted_vals1.csv\")\n",
    "for i in range(2,11):\n",
    "    prediction_file = \"../../analysis/classifying_active_vs_control_v2/%sfold/predicted/top_50_proteins_predicted_vals%s.csv\" % (i,i)\n",
    "    prediction_results2 = pd.read_csv(prediction_file)\n",
    "    prediction_results1 = pd.concat([prediction_results1, prediction_results2])\n",
    "\n",
    "confusion_matrix_statistics_nfold(prediction_results1)\n",
    "#print(prediction_results1)"
   ]
  },
  {
   "cell_type": "code",
   "execution_count": 6,
   "id": "e3a66d29-67d3-4001-86b6-027c9295b908",
   "metadata": {},
   "outputs": [
    {
     "name": "stdout",
     "output_type": "stream",
     "text": [
      "true positives: 28\n",
      "true negatives: 30\n",
      "false positives: 0\n",
      "false negatives: 2\n",
      "total number of samples: 60\n",
      "Accuracy: 0.9666666666666667\n",
      "Specificity: 1.0\n",
      "Sensitivity: 0.9333333333333333\n",
      "PPV: 1.0\n",
      "NPV: 0.9375\n"
     ]
    }
   ],
   "source": [
    "#read in results for the top 100 proteins using 10-fold cross validation\n",
    "#\"all_proteins\"\n",
    "\n",
    "prediction_results1 = pd.read_csv(\"../../analysis/classifying_active_vs_control_v2/1fold/predicted/top_100_proteins_predicted_vals1.csv\")\n",
    "for i in range(2,11):\n",
    "    prediction_file = \"../../analysis/classifying_active_vs_control_v2/%sfold/predicted/top_100_proteins_predicted_vals%s.csv\" % (i,i)\n",
    "    prediction_results2 = pd.read_csv(prediction_file)\n",
    "    prediction_results1 = pd.concat([prediction_results1, prediction_results2])\n",
    "\n",
    "confusion_matrix_statistics_nfold(prediction_results1)\n",
    "#print(prediction_results1)"
   ]
  },
  {
   "cell_type": "code",
   "execution_count": 7,
   "id": "9beb053f-b063-49bc-9b46-f6452b706ff0",
   "metadata": {},
   "outputs": [
    {
     "name": "stdout",
     "output_type": "stream",
     "text": [
      "true positives: 29\n",
      "true negatives: 30\n",
      "false positives: 0\n",
      "false negatives: 1\n",
      "total number of samples: 60\n",
      "Accuracy: 0.9833333333333333\n",
      "Specificity: 1.0\n",
      "Sensitivity: 0.9666666666666667\n",
      "PPV: 1.0\n",
      "NPV: 0.967741935483871\n"
     ]
    }
   ],
   "source": [
    "#read in results for the top 150 proteins using 10-fold cross validation\n",
    "#\"all_proteins\"\n",
    "\n",
    "prediction_results1 = pd.read_csv(\"../../analysis/classifying_active_vs_control_v2/1fold/predicted/top_150_proteins_predicted_vals1.csv\")\n",
    "for i in range(2,11):\n",
    "    prediction_file = \"../../analysis/classifying_active_vs_control_v2/%sfold/predicted/top_150_proteins_predicted_vals%s.csv\" % (i,i)\n",
    "    prediction_results2 = pd.read_csv(prediction_file)\n",
    "    prediction_results1 = pd.concat([prediction_results1, prediction_results2])\n",
    "\n",
    "confusion_matrix_statistics_nfold(prediction_results1)\n",
    "#print(prediction_results1)"
   ]
  },
  {
   "cell_type": "code",
   "execution_count": 8,
   "id": "b33b081a-c3f1-4014-b651-ae80185afd1c",
   "metadata": {},
   "outputs": [
    {
     "name": "stdout",
     "output_type": "stream",
     "text": [
      "true positives: 29\n",
      "true negatives: 30\n",
      "false positives: 0\n",
      "false negatives: 1\n",
      "total number of samples: 60\n",
      "Accuracy: 0.9833333333333333\n",
      "Specificity: 1.0\n",
      "Sensitivity: 0.9666666666666667\n",
      "PPV: 1.0\n",
      "NPV: 0.967741935483871\n"
     ]
    }
   ],
   "source": [
    "#read in results for the top 200 proteins using 10-fold cross validation\n",
    "#\"all_proteins\"\n",
    "\n",
    "prediction_results1 = pd.read_csv(\"../../analysis/classifying_active_vs_control_v2/1fold/predicted/top_200_proteins_predicted_vals1.csv\")\n",
    "for i in range(2,11):\n",
    "    prediction_file = \"../../analysis/classifying_active_vs_control_v2/%sfold/predicted/top_200_proteins_predicted_vals%s.csv\" % (i,i)\n",
    "    prediction_results2 = pd.read_csv(prediction_file)\n",
    "    prediction_results1 = pd.concat([prediction_results1, prediction_results2])\n",
    "\n",
    "confusion_matrix_statistics_nfold(prediction_results1)\n",
    "#print(prediction_results1)"
   ]
  },
  {
   "cell_type": "code",
   "execution_count": 9,
   "id": "1e5e4937-579e-4b55-8f63-af1edc939e87",
   "metadata": {},
   "outputs": [
    {
     "name": "stdout",
     "output_type": "stream",
     "text": [
      "true positives: 28\n",
      "true negatives: 30\n",
      "false positives: 0\n",
      "false negatives: 2\n",
      "total number of samples: 60\n",
      "Accuracy: 0.9666666666666667\n",
      "Specificity: 1.0\n",
      "Sensitivity: 0.9333333333333333\n",
      "PPV: 1.0\n",
      "NPV: 0.9375\n"
     ]
    }
   ],
   "source": [
    "#read in results for the top 250 proteins using 10-fold cross validation\n",
    "#\"all_proteins\"\n",
    "\n",
    "prediction_results1 = pd.read_csv(\"../../analysis/classifying_active_vs_control_v2/1fold/predicted/top_250_proteins_predicted_vals1.csv\")\n",
    "for i in range(2,11):\n",
    "    prediction_file = \"../../analysis/classifying_active_vs_control_v2/%sfold/predicted/top_250_proteins_predicted_vals%s.csv\" % (i,i)\n",
    "    prediction_results2 = pd.read_csv(prediction_file)\n",
    "    prediction_results1 = pd.concat([prediction_results1, prediction_results2])\n",
    "\n",
    "confusion_matrix_statistics_nfold(prediction_results1)\n",
    "#print(prediction_results1)"
   ]
  },
  {
   "cell_type": "code",
   "execution_count": null,
   "id": "a943db1e-82c1-43c1-b56d-f5fba5370428",
   "metadata": {},
   "outputs": [],
   "source": []
  }
 ],
 "metadata": {
  "kernelspec": {
   "display_name": "Python 3",
   "language": "python",
   "name": "python3"
  },
  "language_info": {
   "codemirror_mode": {
    "name": "ipython",
    "version": 3
   },
   "file_extension": ".py",
   "mimetype": "text/x-python",
   "name": "python",
   "nbconvert_exporter": "python",
   "pygments_lexer": "ipython3",
   "version": "3.9.12"
  }
 },
 "nbformat": 4,
 "nbformat_minor": 5
}
