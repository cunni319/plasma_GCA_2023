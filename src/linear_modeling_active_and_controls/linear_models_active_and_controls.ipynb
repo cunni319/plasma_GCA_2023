{
 "cells": [
  {
   "cell_type": "markdown",
   "id": "b89e1de5-fbc3-42d1-a6b6-763e2cd1be1f",
   "metadata": {},
   "source": [
    "This script uses the quantile normalized data as well as the clinical and demographic data to build linear regression models between Active GCA patients and Healthy controls. Marginal linear regression models were run on six clinical and demographic variables (age, smoking status, sex, prednisone use, aspirin use, and methotrexate use) between Active GCA and Healthy controls. Variables with linear regression model P-values < 0.05 were identified as significant confounders and included in the full multiple linear regression models. In the full multiple linear regression models, the P-value from the study group variable was used to identify differentially abundant proteins between Active GCA and Healthy controls. A threshold of P < 0.01 was applied to all plasma proteins for significance."
   ]
  },
  {
   "cell_type": "code",
   "execution_count": 1,
   "id": "a749342d-b4e4-4d54-bc9f-afa416052736",
   "metadata": {},
   "outputs": [],
   "source": [
    "#Protein ~ Study_group\tAge\tSmoking\tPrednisone\tMethotrexate\tAspirin\n",
    "#function_name <- function(arg_1, arg_2, ...) {\n",
    "#   Function body \n",
    "#}\n",
    "make_linear_model <- function(binary_results){\n",
    "    #binary_results is the row from the binary data, 7 columns with 6 values\n",
    "    model_string = \"~ Study_group\"\n",
    "    if(binary_results[1,2] == 1){\n",
    "        model_string = paste0(model_string,\" + Age\")\n",
    "    }\n",
    "    if(binary_results[1,3] == 1){\n",
    "        model_string = paste0(model_string,\" + Sex\")\n",
    "    }\n",
    "    if(binary_results[1,4] == 1){\n",
    "        model_string = paste0(model_string,\" + Smoking\")\n",
    "    }\n",
    "    if(binary_results[1,5] == 1){\n",
    "        model_string = paste0(model_string,\" + Prednisone\")\n",
    "    }    \n",
    "    if(binary_results[1,6] == 1){\n",
    "        model_string = paste0(model_string,\" + Methotrexate\")\n",
    "    }    \n",
    "    if(binary_results[1,7] == 1){\n",
    "        model_string = paste0(model_string,\" + Aspirin\")\n",
    "    }    \n",
    "    return(model_string)\n",
    "}\n"
   ]
  },
  {
   "cell_type": "code",
   "execution_count": 12,
   "id": "97310e53-ab3f-40fd-bcf8-de6cb2a04c1c",
   "metadata": {
    "tags": []
   },
   "outputs": [],
   "source": [
    "library(\"dplyr\")\n",
    "library(\"ggpubr\")\n",
    "library(\"lme4\")\n",
    "library(\"lmerTest\")\n",
    "library(\"ggplot2\")\n",
    "#read in the proteomics data and the patient demographics data\n",
    "#vasculitis_df <- read.csv(\"../../data/vasculitis_patients_final.csv\")\n",
    "vasculitis_demographics_df <- read.csv(\"../../data/vasculitis_patient_info.csv\")\n",
    "\n",
    "#read in all quantile data\n",
    "all_quantile_df = read.csv(\"../../data/all_quantile_data.csv\")\n",
    "#head(all_quantile_df)\n",
    "#get the number of columns and rows \n",
    "num_columns <- ncol(all_quantile_df)\n",
    "num_proteins <- ncol(all_quantile_df) - 3\n",
    "num_samples <- nrow(all_quantile_df)\n",
    "\n",
    "\n",
    "#filter only active gca patients\n",
    "active_df <- filter(all_quantile_df,all_quantile_df$Study_group == \"Active\")\n",
    "active_demographics_df <- filter(vasculitis_demographics_df,vasculitis_demographics_df$Study_group == \"Active\")\n",
    "active_proteins_only <- active_df[,4:num_columns]\n",
    "\n",
    "#filter inactive gca patients\n",
    "inactive_df = filter(all_quantile_df,all_quantile_df$Study_group == \"Inactive\")\n",
    "inactive_demographics_df <- filter(vasculitis_demographics_df,vasculitis_demographics_df$Study_group == \"Inactive\")\n",
    "inactive_proteins_only <- inactive_df[,4:num_columns]\n",
    "\n",
    "#read in controls data\n",
    "controls_demographics_df <- read.csv(\"../../data/controls_demographics.csv\")\n",
    "controls_df <- filter(all_quantile_df,all_quantile_df$Study_group == \"Healthy_Control\")\n",
    "controls_proteins_only <- controls_df[,4:num_columns]\n",
    "\n",
    "proteins_only <- data.frame(active_df[ ,4:num_columns])\n",
    "#seperate the protein names for the linear model\n",
    "protein_names <- data.frame(matrix(data=0,nrow=num_proteins,ncol=1))\n",
    "colnames(protein_names) <- \"Protein\"\n",
    "protein_names[ , 1] <- data.frame(colnames(proteins_only))\n",
    "#protein_names\n",
    "\n"
   ]
  },
  {
   "cell_type": "code",
   "execution_count": 13,
   "id": "ef7192d8-5c62-4b2c-9a72-bd838e05efd4",
   "metadata": {
    "tags": []
   },
   "outputs": [
    {
     "name": "stdout",
     "output_type": "stream",
     "text": [
      " [1] TRUE TRUE TRUE TRUE TRUE TRUE TRUE TRUE TRUE TRUE TRUE TRUE TRUE TRUE TRUE\n",
      "[16] TRUE TRUE TRUE TRUE TRUE TRUE TRUE TRUE TRUE TRUE TRUE TRUE TRUE TRUE TRUE\n",
      " [1] TRUE TRUE TRUE TRUE TRUE TRUE TRUE TRUE TRUE TRUE TRUE TRUE TRUE TRUE TRUE\n",
      "[16] TRUE TRUE TRUE TRUE TRUE TRUE TRUE TRUE TRUE TRUE TRUE TRUE TRUE TRUE TRUE\n"
     ]
    },
    {
     "data": {
      "text/html": [
       "<style>\n",
       ".list-inline {list-style: none; margin:0; padding: 0}\n",
       ".list-inline>li {display: inline-block}\n",
       ".list-inline>li:not(:last-child)::after {content: \"\\00b7\"; padding: 0 .5ex}\n",
       "</style>\n",
       "<ol class=list-inline><li>30</li><li>7298</li></ol>\n"
      ],
      "text/latex": [
       "\\begin{enumerate*}\n",
       "\\item 30\n",
       "\\item 7298\n",
       "\\end{enumerate*}\n"
      ],
      "text/markdown": [
       "1. 30\n",
       "2. 7298\n",
       "\n",
       "\n"
      ],
      "text/plain": [
       "[1]   30 7298"
      ]
     },
     "metadata": {},
     "output_type": "display_data"
    }
   ],
   "source": [
    "#gather the demographics I need for both active GCA and controls\n",
    "#age,sex,smoking,prednisone,methotrexate,and aspirin\n",
    "#check that the demographics and protein data is in the same order\n",
    "print(active_demographics_df$maskid == active_df$maskID)\n",
    "#head(active_demographics_df)\n",
    "active_demographics_df = active_demographics_df[order(active_demographics_df$maskid),]\n",
    "#head(active_demographics_df)\n",
    "active_df = active_df[order(active_df$maskID),]\n",
    "print(active_demographics_df$maskid == active_df$maskID)\n",
    "active_gca_demographics_and_proteins_df <- data.frame(active_demographics_df$Age)\n",
    "colnames(active_gca_demographics_and_proteins_df) <- (\"Age\")\n",
    "active_gca_demographics_and_proteins_df$Sex <- active_demographics_df$Sex\n",
    "active_gca_demographics_and_proteins_df$Smoking <- active_demographics_df$Smoking\n",
    "active_gca_demographics_and_proteins_df$Prednisone <- active_demographics_df$PrednisoneCurrentlyReceiving\n",
    "active_gca_demographics_and_proteins_df$Methotrexate <- active_demographics_df$MethotrexateWasTaken\n",
    "active_gca_demographics_and_proteins_df$Aspirin <- active_demographics_df$Aspirin\n",
    "active_gca_demographics_and_proteins_df2 <- cbind(active_gca_demographics_and_proteins_df,active_df)\n",
    "\n",
    "dim(active_gca_demographics_and_proteins_df2)\n",
    "#now I have all the active demographics and protein abundance together, do the same for controls"
   ]
  },
  {
   "cell_type": "code",
   "execution_count": 14,
   "id": "10bb0808-9e84-4865-8182-ddecb69bba28",
   "metadata": {
    "tags": []
   },
   "outputs": [
    {
     "name": "stdout",
     "output_type": "stream",
     "text": [
      " [1] TRUE TRUE TRUE TRUE TRUE TRUE TRUE TRUE TRUE TRUE TRUE TRUE TRUE TRUE TRUE\n",
      "[16] TRUE TRUE TRUE TRUE TRUE TRUE TRUE TRUE TRUE TRUE TRUE TRUE TRUE TRUE TRUE\n",
      " [1] TRUE TRUE TRUE TRUE TRUE TRUE TRUE TRUE TRUE TRUE TRUE TRUE TRUE TRUE TRUE\n",
      "[16] TRUE TRUE TRUE TRUE TRUE TRUE TRUE TRUE TRUE TRUE TRUE TRUE TRUE TRUE TRUE\n"
     ]
    },
    {
     "data": {
      "text/html": [
       "<style>\n",
       ".list-inline {list-style: none; margin:0; padding: 0}\n",
       ".list-inline>li {display: inline-block}\n",
       ".list-inline>li:not(:last-child)::after {content: \"\\00b7\"; padding: 0 .5ex}\n",
       "</style>\n",
       "<ol class=list-inline><li>30</li><li>7298</li></ol>\n"
      ],
      "text/latex": [
       "\\begin{enumerate*}\n",
       "\\item 30\n",
       "\\item 7298\n",
       "\\end{enumerate*}\n"
      ],
      "text/markdown": [
       "1. 30\n",
       "2. 7298\n",
       "\n",
       "\n"
      ],
      "text/plain": [
       "[1]   30 7298"
      ]
     },
     "metadata": {},
     "output_type": "display_data"
    }
   ],
   "source": [
    "print(controls_demographics_df$case_id == controls_df$maskID)\n",
    "#put the controls data in order using case id for the demographics \n",
    "#and the maskID for the protein abundance\n",
    "controls_demographics_df <- controls_demographics_df[order(controls_demographics_df$case_id),]\n",
    "controls_df <- controls_df[order(controls_df$maskID),]\n",
    "print(controls_demographics_df$case_id == controls_df$maskID)\n",
    "#everything is in the same order, I can begin gather all demographic\n",
    "#data that I need and combine with the protein abundance\n",
    "control_demographics_and_proteins_df <- data.frame(controls_demographics_df$Age)\n",
    "colnames(control_demographics_and_proteins_df) <- (\"Age\")\n",
    "control_demographics_and_proteins_df$Sex <- controls_demographics_df$control_gender\n",
    "control_demographics_and_proteins_df$Smoking <- controls_demographics_df$Smoking\n",
    "control_demographics_and_proteins_df$Prednisone <- controls_demographics_df$Prednisone\n",
    "control_demographics_and_proteins_df$Methotrexate <- controls_demographics_df$Methotrexate\n",
    "control_demographics_and_proteins_df$Aspirin <- controls_demographics_df$Aspirin\n",
    "control_demographics_and_proteins_df2 <- cbind(control_demographics_and_proteins_df,controls_df)\n",
    "dim(control_demographics_and_proteins_df2)"
   ]
  },
  {
   "cell_type": "code",
   "execution_count": 15,
   "id": "5b977cef-eea7-40b0-a120-f9eb4fcd6201",
   "metadata": {
    "tags": []
   },
   "outputs": [
    {
     "data": {
      "text/html": [
       "<style>\n",
       ".list-inline {list-style: none; margin:0; padding: 0}\n",
       ".list-inline>li {display: inline-block}\n",
       ".list-inline>li:not(:last-child)::after {content: \"\\00b7\"; padding: 0 .5ex}\n",
       "</style>\n",
       "<ol class=list-inline><li>60</li><li>7298</li></ol>\n"
      ],
      "text/latex": [
       "\\begin{enumerate*}\n",
       "\\item 60\n",
       "\\item 7298\n",
       "\\end{enumerate*}\n"
      ],
      "text/markdown": [
       "1. 60\n",
       "2. 7298\n",
       "\n",
       "\n"
      ],
      "text/plain": [
       "[1]   60 7298"
      ]
     },
     "metadata": {},
     "output_type": "display_data"
    }
   ],
   "source": [
    "#now combine everything and run linear models\n",
    "active_and_controls_demographics_and_proteins <- rbind(active_gca_demographics_and_proteins_df2,control_demographics_and_proteins_df2)\n",
    "dim(active_and_controls_demographics_and_proteins)\n",
    "#active_and_controls_demographics_and_proteins"
   ]
  },
  {
   "cell_type": "code",
   "execution_count": 16,
   "id": "cacf63ef-d0bb-438e-ab61-3288defd0d55",
   "metadata": {},
   "outputs": [
    {
     "data": {
      "text/html": [
       "<table class=\"dataframe\">\n",
       "<caption>A data.frame: 6 × 7</caption>\n",
       "<thead>\n",
       "\t<tr><th></th><th scope=col>Proteins</th><th scope=col>Age</th><th scope=col>Sex</th><th scope=col>Smoking</th><th scope=col>Prednisone</th><th scope=col>Methotrexate</th><th scope=col>Aspirin</th></tr>\n",
       "\t<tr><th></th><th scope=col>&lt;chr&gt;</th><th scope=col>&lt;dbl&gt;</th><th scope=col>&lt;dbl&gt;</th><th scope=col>&lt;dbl&gt;</th><th scope=col>&lt;dbl&gt;</th><th scope=col>&lt;dbl&gt;</th><th scope=col>&lt;dbl&gt;</th></tr>\n",
       "</thead>\n",
       "<tbody>\n",
       "\t<tr><th scope=row>1</th><td>CRBB2_10000.28</td><td>0</td><td>0</td><td>0</td><td>0</td><td>0</td><td>0</td></tr>\n",
       "\t<tr><th scope=row>2</th><td>c.Raf_10001.7 </td><td>0</td><td>0</td><td>0</td><td>0</td><td>0</td><td>0</td></tr>\n",
       "\t<tr><th scope=row>3</th><td>ZNF41_10003.15</td><td>0</td><td>0</td><td>0</td><td>0</td><td>0</td><td>0</td></tr>\n",
       "\t<tr><th scope=row>4</th><td>ELK1_10006.25 </td><td>0</td><td>0</td><td>0</td><td>0</td><td>0</td><td>0</td></tr>\n",
       "\t<tr><th scope=row>5</th><td>GUC1A_10008.43</td><td>0</td><td>0</td><td>0</td><td>0</td><td>0</td><td>0</td></tr>\n",
       "\t<tr><th scope=row>6</th><td>BECN1_10010.10</td><td>0</td><td>0</td><td>0</td><td>0</td><td>0</td><td>0</td></tr>\n",
       "</tbody>\n",
       "</table>\n"
      ],
      "text/latex": [
       "A data.frame: 6 × 7\n",
       "\\begin{tabular}{r|lllllll}\n",
       "  & Proteins & Age & Sex & Smoking & Prednisone & Methotrexate & Aspirin\\\\\n",
       "  & <chr> & <dbl> & <dbl> & <dbl> & <dbl> & <dbl> & <dbl>\\\\\n",
       "\\hline\n",
       "\t1 & CRBB2\\_10000.28 & 0 & 0 & 0 & 0 & 0 & 0\\\\\n",
       "\t2 & c.Raf\\_10001.7  & 0 & 0 & 0 & 0 & 0 & 0\\\\\n",
       "\t3 & ZNF41\\_10003.15 & 0 & 0 & 0 & 0 & 0 & 0\\\\\n",
       "\t4 & ELK1\\_10006.25  & 0 & 0 & 0 & 0 & 0 & 0\\\\\n",
       "\t5 & GUC1A\\_10008.43 & 0 & 0 & 0 & 0 & 0 & 0\\\\\n",
       "\t6 & BECN1\\_10010.10 & 0 & 0 & 0 & 0 & 0 & 0\\\\\n",
       "\\end{tabular}\n"
      ],
      "text/markdown": [
       "\n",
       "A data.frame: 6 × 7\n",
       "\n",
       "| <!--/--> | Proteins &lt;chr&gt; | Age &lt;dbl&gt; | Sex &lt;dbl&gt; | Smoking &lt;dbl&gt; | Prednisone &lt;dbl&gt; | Methotrexate &lt;dbl&gt; | Aspirin &lt;dbl&gt; |\n",
       "|---|---|---|---|---|---|---|---|\n",
       "| 1 | CRBB2_10000.28 | 0 | 0 | 0 | 0 | 0 | 0 |\n",
       "| 2 | c.Raf_10001.7  | 0 | 0 | 0 | 0 | 0 | 0 |\n",
       "| 3 | ZNF41_10003.15 | 0 | 0 | 0 | 0 | 0 | 0 |\n",
       "| 4 | ELK1_10006.25  | 0 | 0 | 0 | 0 | 0 | 0 |\n",
       "| 5 | GUC1A_10008.43 | 0 | 0 | 0 | 0 | 0 | 0 |\n",
       "| 6 | BECN1_10010.10 | 0 | 0 | 0 | 0 | 0 | 0 |\n",
       "\n"
      ],
      "text/plain": [
       "  Proteins       Age Sex Smoking Prednisone Methotrexate Aspirin\n",
       "1 CRBB2_10000.28 0   0   0       0          0            0      \n",
       "2 c.Raf_10001.7  0   0   0       0          0            0      \n",
       "3 ZNF41_10003.15 0   0   0       0          0            0      \n",
       "4 ELK1_10006.25  0   0   0       0          0            0      \n",
       "5 GUC1A_10008.43 0   0   0       0          0            0      \n",
       "6 BECN1_10010.10 0   0   0       0          0            0      "
      ]
     },
     "metadata": {},
     "output_type": "display_data"
    }
   ],
   "source": [
    "#now I can start the linear modeling\n",
    "#make a dataframe to hold the results\n",
    "linear_modeling_results <- data.frame(matrix(data=0,nrow=num_proteins,ncol=7))\n",
    "colnames(linear_modeling_results) <- cbind(\"Proteins\",\"Age\",\"Sex\",\"Smoking\",\"Prednisone\",\"Methotrexate\",\"Aspirin\")\n",
    "linear_modeling_results[,1] <- protein_names\n",
    "head(linear_modeling_results)"
   ]
  },
  {
   "cell_type": "code",
   "execution_count": 17,
   "id": "551da948-61b5-40ca-8445-f7686a97f379",
   "metadata": {},
   "outputs": [
    {
     "name": "stdout",
     "output_type": "stream",
     "text": [
      "[1] \"Done with linear models.\"\n"
     ]
    }
   ],
   "source": [
    "#loop through all proteins using all covariates\n",
    "for(i in 1:num_proteins){\n",
    "    protein_name <- protein_names[i,1]\n",
    "    age_model <- lm(paste0(protein_name, \" ~ Age\"),data = active_and_controls_demographics_and_proteins)\n",
    "    pvalue1 <- summary(age_model)$coefficients[2,4]\n",
    "    linear_modeling_results[i,2] <- pvalue1\n",
    "    \n",
    "    sex_model <- lm(paste0(protein_name, \" ~ Sex\"),data = active_and_controls_demographics_and_proteins)\n",
    "    pvalue2 <- summary(sex_model)$coefficients[2,4]\n",
    "    linear_modeling_results[i,3] <- pvalue2\n",
    "    \n",
    "    smoking_model <- lm(paste0(protein_name, \" ~ Smoking\"),data = active_and_controls_demographics_and_proteins)\n",
    "    pvalue3 <- summary(smoking_model)$coefficients[2,4]\n",
    "    linear_modeling_results[i,4] <- pvalue3\n",
    "    \n",
    "    prednisone_model <- lm(paste0(protein_name, \" ~ Prednisone\"),data = active_and_controls_demographics_and_proteins)\n",
    "    pvalue4 <- summary(prednisone_model)$coefficients[2,4]\n",
    "    linear_modeling_results[i,5] <- pvalue4\n",
    "    \n",
    "    methotrexate_model <- lm(paste0(protein_name, \" ~ Methotrexate\"),data = active_and_controls_demographics_and_proteins)\n",
    "    pvalue5 <- summary(methotrexate_model)$coefficients[2,4]\n",
    "    linear_modeling_results[i,6] <- pvalue5\n",
    "    \n",
    "    \n",
    "    aspirin_model <- lm(paste0(protein_name, \" ~ Aspirin\"),data = active_and_controls_demographics_and_proteins)\n",
    "    pvalue6 <- summary(aspirin_model)$coefficients[2,4]\n",
    "    linear_modeling_results[i,7] <- pvalue6\n",
    "    \n",
    "}\n",
    "print(\"Done with linear models.\")"
   ]
  },
  {
   "cell_type": "code",
   "execution_count": 18,
   "id": "ff29a7fa-19be-4993-a6de-d6ba7a184381",
   "metadata": {},
   "outputs": [
    {
     "data": {
      "text/html": [
       "<table class=\"dataframe\">\n",
       "<caption>A data.frame: 6 × 7</caption>\n",
       "<thead>\n",
       "\t<tr><th></th><th scope=col>Proteins</th><th scope=col>Age</th><th scope=col>Sex</th><th scope=col>Smoking</th><th scope=col>Prednisone</th><th scope=col>Methotrexate</th><th scope=col>Aspirin</th></tr>\n",
       "\t<tr><th></th><th scope=col>&lt;chr&gt;</th><th scope=col>&lt;dbl&gt;</th><th scope=col>&lt;dbl&gt;</th><th scope=col>&lt;dbl&gt;</th><th scope=col>&lt;dbl&gt;</th><th scope=col>&lt;dbl&gt;</th><th scope=col>&lt;dbl&gt;</th></tr>\n",
       "</thead>\n",
       "<tbody>\n",
       "\t<tr><th scope=row>1</th><td>CRBB2_10000.28</td><td>0.29480239</td><td>0.6461081</td><td>0.4252281</td><td>1.340039e-01</td><td>0.78133572</td><td>0.33620378</td></tr>\n",
       "\t<tr><th scope=row>2</th><td>c.Raf_10001.7 </td><td>0.28663099</td><td>0.6079514</td><td>0.4346930</td><td>6.509082e-05</td><td>0.08232378</td><td>0.01140049</td></tr>\n",
       "\t<tr><th scope=row>3</th><td>ZNF41_10003.15</td><td>0.39774211</td><td>0.6850563</td><td>0.5778376</td><td>9.775335e-02</td><td>0.02007203</td><td>0.87270196</td></tr>\n",
       "\t<tr><th scope=row>4</th><td>ELK1_10006.25 </td><td>0.24114861</td><td>0.1640577</td><td>0.9037085</td><td>6.154775e-01</td><td>0.56825094</td><td>0.94309655</td></tr>\n",
       "\t<tr><th scope=row>5</th><td>GUC1A_10008.43</td><td>0.24964574</td><td>0.4586104</td><td>0.8429239</td><td>1.362117e-01</td><td>0.75566409</td><td>0.15702743</td></tr>\n",
       "\t<tr><th scope=row>6</th><td>BECN1_10010.10</td><td>0.01456458</td><td>0.9462176</td><td>0.6055802</td><td>4.392471e-03</td><td>0.48779559</td><td>0.25928617</td></tr>\n",
       "</tbody>\n",
       "</table>\n"
      ],
      "text/latex": [
       "A data.frame: 6 × 7\n",
       "\\begin{tabular}{r|lllllll}\n",
       "  & Proteins & Age & Sex & Smoking & Prednisone & Methotrexate & Aspirin\\\\\n",
       "  & <chr> & <dbl> & <dbl> & <dbl> & <dbl> & <dbl> & <dbl>\\\\\n",
       "\\hline\n",
       "\t1 & CRBB2\\_10000.28 & 0.29480239 & 0.6461081 & 0.4252281 & 1.340039e-01 & 0.78133572 & 0.33620378\\\\\n",
       "\t2 & c.Raf\\_10001.7  & 0.28663099 & 0.6079514 & 0.4346930 & 6.509082e-05 & 0.08232378 & 0.01140049\\\\\n",
       "\t3 & ZNF41\\_10003.15 & 0.39774211 & 0.6850563 & 0.5778376 & 9.775335e-02 & 0.02007203 & 0.87270196\\\\\n",
       "\t4 & ELK1\\_10006.25  & 0.24114861 & 0.1640577 & 0.9037085 & 6.154775e-01 & 0.56825094 & 0.94309655\\\\\n",
       "\t5 & GUC1A\\_10008.43 & 0.24964574 & 0.4586104 & 0.8429239 & 1.362117e-01 & 0.75566409 & 0.15702743\\\\\n",
       "\t6 & BECN1\\_10010.10 & 0.01456458 & 0.9462176 & 0.6055802 & 4.392471e-03 & 0.48779559 & 0.25928617\\\\\n",
       "\\end{tabular}\n"
      ],
      "text/markdown": [
       "\n",
       "A data.frame: 6 × 7\n",
       "\n",
       "| <!--/--> | Proteins &lt;chr&gt; | Age &lt;dbl&gt; | Sex &lt;dbl&gt; | Smoking &lt;dbl&gt; | Prednisone &lt;dbl&gt; | Methotrexate &lt;dbl&gt; | Aspirin &lt;dbl&gt; |\n",
       "|---|---|---|---|---|---|---|---|\n",
       "| 1 | CRBB2_10000.28 | 0.29480239 | 0.6461081 | 0.4252281 | 1.340039e-01 | 0.78133572 | 0.33620378 |\n",
       "| 2 | c.Raf_10001.7  | 0.28663099 | 0.6079514 | 0.4346930 | 6.509082e-05 | 0.08232378 | 0.01140049 |\n",
       "| 3 | ZNF41_10003.15 | 0.39774211 | 0.6850563 | 0.5778376 | 9.775335e-02 | 0.02007203 | 0.87270196 |\n",
       "| 4 | ELK1_10006.25  | 0.24114861 | 0.1640577 | 0.9037085 | 6.154775e-01 | 0.56825094 | 0.94309655 |\n",
       "| 5 | GUC1A_10008.43 | 0.24964574 | 0.4586104 | 0.8429239 | 1.362117e-01 | 0.75566409 | 0.15702743 |\n",
       "| 6 | BECN1_10010.10 | 0.01456458 | 0.9462176 | 0.6055802 | 4.392471e-03 | 0.48779559 | 0.25928617 |\n",
       "\n"
      ],
      "text/plain": [
       "  Proteins       Age        Sex       Smoking   Prednisone   Methotrexate\n",
       "1 CRBB2_10000.28 0.29480239 0.6461081 0.4252281 1.340039e-01 0.78133572  \n",
       "2 c.Raf_10001.7  0.28663099 0.6079514 0.4346930 6.509082e-05 0.08232378  \n",
       "3 ZNF41_10003.15 0.39774211 0.6850563 0.5778376 9.775335e-02 0.02007203  \n",
       "4 ELK1_10006.25  0.24114861 0.1640577 0.9037085 6.154775e-01 0.56825094  \n",
       "5 GUC1A_10008.43 0.24964574 0.4586104 0.8429239 1.362117e-01 0.75566409  \n",
       "6 BECN1_10010.10 0.01456458 0.9462176 0.6055802 4.392471e-03 0.48779559  \n",
       "  Aspirin   \n",
       "1 0.33620378\n",
       "2 0.01140049\n",
       "3 0.87270196\n",
       "4 0.94309655\n",
       "5 0.15702743\n",
       "6 0.25928617"
      ]
     },
     "metadata": {},
     "output_type": "display_data"
    }
   ],
   "source": [
    "head(linear_modeling_results)"
   ]
  },
  {
   "cell_type": "code",
   "execution_count": 84,
   "id": "ca9347e8-0f45-4417-9e3c-be06c2803128",
   "metadata": {},
   "outputs": [],
   "source": [
    "#save output\n",
    "write.csv(linear_modeling_results,\"../../analysis/linear_modeling_active_and_controls/Active_vs_Control_demographic_variables_linear_modeling_results.csv\",row.names=FALSE)"
   ]
  },
  {
   "cell_type": "code",
   "execution_count": 19,
   "id": "63feaf98-65cc-4e20-9864-30302c4c30cc",
   "metadata": {},
   "outputs": [],
   "source": [
    "#binarize the results\n",
    "binary_modeling_results <- data.frame(matrix(data = 0,nrow=num_proteins,ncol=7))\n",
    "colnames(binary_modeling_results) <- colnames(linear_modeling_results)\n",
    "binary_modeling_results[,1] <- protein_names\n",
    "for(i in 1:num_proteins){\n",
    "    for(j in 2:7){\n",
    "        current_pval <- linear_modeling_results[i,j]\n",
    "        if(current_pval < 0.05){\n",
    "            binary_modeling_results[i,j] <- 1\n",
    "        }\n",
    "        else{\n",
    "            binary_modeling_results[i,j] <- 0\n",
    "        }\n",
    "    }    \n",
    "}\n"
   ]
  },
  {
   "cell_type": "code",
   "execution_count": 86,
   "id": "0225d4e9-3430-4c6f-b126-b70cb949d921",
   "metadata": {},
   "outputs": [],
   "source": [
    "#save binary results\n",
    "write.csv(binary_modeling_results,\"../../analysis/linear_modeling_active_and_controls/binary_modeling_results.csv\",row.names=FALSE)"
   ]
  },
  {
   "cell_type": "code",
   "execution_count": 20,
   "id": "3d55ffcc-50f2-4986-b5a0-26ed9bb29591",
   "metadata": {},
   "outputs": [
    {
     "name": "stdout",
     "output_type": "stream",
     "text": [
      "[1] \"Done with models.\"\n"
     ]
    }
   ],
   "source": [
    "#I have a function that takes the binaryized data and returns a string to use in the model. Run for all proteins\n",
    "adjusted_linear_modeling_results <- data.frame(matrix(data=0,nrow=num_proteins,ncol= 6))\n",
    "colnames(adjusted_linear_modeling_results) <- cbind(\"Protein\",\"Adjusted_linear_model\",\"linear_modeling_pvalue\",\"adjusted_pvalues\",\"fold_change\",\"coefficient\")\n",
    "adjusted_linear_modeling_results[,1] <- protein_names\n",
    "for(i in 1:num_proteins){\n",
    "    #get protein name\n",
    "    current_protein <- protein_names[i,1]\n",
    "    #make linear model string\n",
    "    binary_results <- binary_modeling_results[i,]\n",
    "    model_string <- \"\"\n",
    "    model_string <- make_linear_model(binary_results)\n",
    "    adjusted_linear_modeling_results[i,2] <- model_string\n",
    "    adjusted_linear_model <- lm(paste0(current_protein,model_string),data = active_and_controls_demographics_and_proteins)\n",
    "    pvalue1 <- summary(adjusted_linear_model)$coefficients[2,4]\n",
    "    adjusted_linear_modeling_results[i,3] <- pvalue1\n",
    "    coefficient_value <- summary(adjusted_linear_model)$coefficients[2,1]\n",
    "    adjusted_linear_modeling_results[i,6] <- coefficient_value\n",
    "}\n",
    "print(\"Done with models.\")"
   ]
  },
  {
   "cell_type": "code",
   "execution_count": 21,
   "id": "f7229923-080f-4100-9b47-3550034a6d90",
   "metadata": {
    "tags": []
   },
   "outputs": [
    {
     "data": {
      "text/html": [
       "<table class=\"dataframe\">\n",
       "<caption>A data.frame: 6 × 6</caption>\n",
       "<thead>\n",
       "\t<tr><th></th><th scope=col>Protein</th><th scope=col>Adjusted_linear_model</th><th scope=col>linear_modeling_pvalue</th><th scope=col>adjusted_pvalues</th><th scope=col>fold_change</th><th scope=col>coefficient</th></tr>\n",
       "\t<tr><th></th><th scope=col>&lt;chr&gt;</th><th scope=col>&lt;chr&gt;</th><th scope=col>&lt;dbl&gt;</th><th scope=col>&lt;dbl&gt;</th><th scope=col>&lt;dbl&gt;</th><th scope=col>&lt;dbl&gt;</th></tr>\n",
       "</thead>\n",
       "<tbody>\n",
       "\t<tr><th scope=row>1</th><td>CRBB2_10000.28</td><td>~ Study_group                       </td><td>0.006915540</td><td>0</td><td>0</td><td>-110.2248148</td></tr>\n",
       "\t<tr><th scope=row>2</th><td>c.Raf_10001.7 </td><td>~ Study_group + Prednisone + Aspirin</td><td>0.004575018</td><td>0</td><td>0</td><td> 290.7460509</td></tr>\n",
       "\t<tr><th scope=row>3</th><td>ZNF41_10003.15</td><td>~ Study_group + Methotrexate        </td><td>0.976798964</td><td>0</td><td>0</td><td>   0.1828778</td></tr>\n",
       "\t<tr><th scope=row>4</th><td>ELK1_10006.25 </td><td>~ Study_group                       </td><td>0.239878188</td><td>0</td><td>0</td><td>-177.7009815</td></tr>\n",
       "\t<tr><th scope=row>5</th><td>GUC1A_10008.43</td><td>~ Study_group                       </td><td>0.231606319</td><td>0</td><td>0</td><td>-109.3417778</td></tr>\n",
       "\t<tr><th scope=row>6</th><td>BECN1_10010.10</td><td>~ Study_group + Age + Prednisone    </td><td>0.261359818</td><td>0</td><td>0</td><td> -27.4409527</td></tr>\n",
       "</tbody>\n",
       "</table>\n"
      ],
      "text/latex": [
       "A data.frame: 6 × 6\n",
       "\\begin{tabular}{r|llllll}\n",
       "  & Protein & Adjusted\\_linear\\_model & linear\\_modeling\\_pvalue & adjusted\\_pvalues & fold\\_change & coefficient\\\\\n",
       "  & <chr> & <chr> & <dbl> & <dbl> & <dbl> & <dbl>\\\\\n",
       "\\hline\n",
       "\t1 & CRBB2\\_10000.28 & \\textasciitilde{} Study\\_group                        & 0.006915540 & 0 & 0 & -110.2248148\\\\\n",
       "\t2 & c.Raf\\_10001.7  & \\textasciitilde{} Study\\_group + Prednisone + Aspirin & 0.004575018 & 0 & 0 &  290.7460509\\\\\n",
       "\t3 & ZNF41\\_10003.15 & \\textasciitilde{} Study\\_group + Methotrexate         & 0.976798964 & 0 & 0 &    0.1828778\\\\\n",
       "\t4 & ELK1\\_10006.25  & \\textasciitilde{} Study\\_group                        & 0.239878188 & 0 & 0 & -177.7009815\\\\\n",
       "\t5 & GUC1A\\_10008.43 & \\textasciitilde{} Study\\_group                        & 0.231606319 & 0 & 0 & -109.3417778\\\\\n",
       "\t6 & BECN1\\_10010.10 & \\textasciitilde{} Study\\_group + Age + Prednisone     & 0.261359818 & 0 & 0 &  -27.4409527\\\\\n",
       "\\end{tabular}\n"
      ],
      "text/markdown": [
       "\n",
       "A data.frame: 6 × 6\n",
       "\n",
       "| <!--/--> | Protein &lt;chr&gt; | Adjusted_linear_model &lt;chr&gt; | linear_modeling_pvalue &lt;dbl&gt; | adjusted_pvalues &lt;dbl&gt; | fold_change &lt;dbl&gt; | coefficient &lt;dbl&gt; |\n",
       "|---|---|---|---|---|---|---|\n",
       "| 1 | CRBB2_10000.28 | ~ Study_group                        | 0.006915540 | 0 | 0 | -110.2248148 |\n",
       "| 2 | c.Raf_10001.7  | ~ Study_group + Prednisone + Aspirin | 0.004575018 | 0 | 0 |  290.7460509 |\n",
       "| 3 | ZNF41_10003.15 | ~ Study_group + Methotrexate         | 0.976798964 | 0 | 0 |    0.1828778 |\n",
       "| 4 | ELK1_10006.25  | ~ Study_group                        | 0.239878188 | 0 | 0 | -177.7009815 |\n",
       "| 5 | GUC1A_10008.43 | ~ Study_group                        | 0.231606319 | 0 | 0 | -109.3417778 |\n",
       "| 6 | BECN1_10010.10 | ~ Study_group + Age + Prednisone     | 0.261359818 | 0 | 0 |  -27.4409527 |\n",
       "\n"
      ],
      "text/plain": [
       "  Protein        Adjusted_linear_model                linear_modeling_pvalue\n",
       "1 CRBB2_10000.28 ~ Study_group                        0.006915540           \n",
       "2 c.Raf_10001.7  ~ Study_group + Prednisone + Aspirin 0.004575018           \n",
       "3 ZNF41_10003.15 ~ Study_group + Methotrexate         0.976798964           \n",
       "4 ELK1_10006.25  ~ Study_group                        0.239878188           \n",
       "5 GUC1A_10008.43 ~ Study_group                        0.231606319           \n",
       "6 BECN1_10010.10 ~ Study_group + Age + Prednisone     0.261359818           \n",
       "  adjusted_pvalues fold_change coefficient \n",
       "1 0                0           -110.2248148\n",
       "2 0                0            290.7460509\n",
       "3 0                0              0.1828778\n",
       "4 0                0           -177.7009815\n",
       "5 0                0           -109.3417778\n",
       "6 0                0            -27.4409527"
      ]
     },
     "metadata": {},
     "output_type": "display_data"
    }
   ],
   "source": [
    "head(adjusted_linear_modeling_results)"
   ]
  },
  {
   "cell_type": "code",
   "execution_count": 39,
   "id": "213b678a-4ebf-4766-bdb2-a78a91bc54e2",
   "metadata": {
    "tags": []
   },
   "outputs": [],
   "source": [
    "#add the (BH) adjusted pvalues\n",
    "adjusted_linear_modeling_results[,4] <- p.adjust(adjusted_linear_modeling_results$linear_modeling_pvalue, method=\"hochberg\")\n"
   ]
  },
  {
   "cell_type": "code",
   "execution_count": 40,
   "id": "0f88e49d-9f2b-4cef-b2df-ba8be5123002",
   "metadata": {},
   "outputs": [],
   "source": [
    "#find the means of active and controls\n",
    "fold_changes <- data.frame(matrix(data=0,nrow=num_proteins,ncol=4))\n",
    "colnames(fold_changes) <- cbind(\"Proteins\", \"Active_mean\",\"Control_mean\",\"fold_change\")\n",
    "fold_changes[,1] <- protein_names\n",
    "for(i in 1:num_proteins){\n",
    "    fold_changes[i,2] <- mean(active_proteins_only[,i])\n",
    "    fold_changes[i,3] <- mean(controls_proteins_only[,i])\n",
    "}\n",
    "fold_changes[,4] <- log2(fold_changes[,2]/fold_changes[,3])"
   ]
  },
  {
   "cell_type": "code",
   "execution_count": 42,
   "id": "5a171fce-1b3f-4753-9e35-48ef300a940a",
   "metadata": {},
   "outputs": [],
   "source": [
    "#add the fold changes\n",
    "adjusted_linear_modeling_results[,5] <- fold_changes[,4]\n",
    "\n",
    "#add entrez and target names\n",
    "protein_key <- read.csv(\"../../data/key_for_protein_names.csv\")\n",
    "adjusted_linear_modeling_results$Target <- protein_key[,2]\n",
    "adjusted_linear_modeling_results$Entrez <- protein_key[,3]\n",
    "adjusted_linear_modeling_results$Uniprot = protein_key$Uniprot\n",
    "\n",
    "\n",
    "#save the results\n",
    "write.csv(adjusted_linear_modeling_results,\"../../analysis/linear_modeling_active_and_controls/adjusted_linear_modeling_results.csv\",row.names=FALSE)"
   ]
  },
  {
   "cell_type": "code",
   "execution_count": 43,
   "id": "38d9e730-2add-4776-b680-54383d71711c",
   "metadata": {
    "tags": []
   },
   "outputs": [
    {
     "data": {
      "text/html": [
       "<style>\n",
       ".list-inline {list-style: none; margin:0; padding: 0}\n",
       ".list-inline>li {display: inline-block}\n",
       ".list-inline>li:not(:last-child)::after {content: \"\\00b7\"; padding: 0 .5ex}\n",
       "</style>\n",
       "<ol class=list-inline><li>537</li><li>9</li></ol>\n"
      ],
      "text/latex": [
       "\\begin{enumerate*}\n",
       "\\item 537\n",
       "\\item 9\n",
       "\\end{enumerate*}\n"
      ],
      "text/markdown": [
       "1. 537\n",
       "2. 9\n",
       "\n",
       "\n"
      ],
      "text/plain": [
       "[1] 537   9"
      ]
     },
     "metadata": {},
     "output_type": "display_data"
    }
   ],
   "source": [
    "#find the significant pvalues and summarize the models\n",
    "significant_adjusted_linear_modeling_results <- filter(adjusted_linear_modeling_results,adjusted_linear_modeling_results$linear_modeling_pvalue < 0.01)\n",
    "dim(significant_adjusted_linear_modeling_results)\n",
    "significant_adjusted_linear_modeling_results <- significant_adjusted_linear_modeling_results[order(significant_adjusted_linear_modeling_results$linear_modeling_pvalue),]\n",
    "\n",
    "#table(significant_adjusted_linear_modeling_results$Adjusted_linear_model)"
   ]
  },
  {
   "cell_type": "code",
   "execution_count": 27,
   "id": "0f699c0a-439a-4c61-a2ba-4ec7ef5f048f",
   "metadata": {},
   "outputs": [
    {
     "data": {
      "text/html": [
       "<style>\n",
       ".list-inline {list-style: none; margin:0; padding: 0}\n",
       ".list-inline>li {display: inline-block}\n",
       ".list-inline>li:not(:last-child)::after {content: \"\\00b7\"; padding: 0 .5ex}\n",
       "</style>\n",
       "<ol class=list-inline><li>202</li><li>9</li></ol>\n"
      ],
      "text/latex": [
       "\\begin{enumerate*}\n",
       "\\item 202\n",
       "\\item 9\n",
       "\\end{enumerate*}\n"
      ],
      "text/markdown": [
       "1. 202\n",
       "2. 9\n",
       "\n",
       "\n"
      ],
      "text/plain": [
       "[1] 202   9"
      ]
     },
     "metadata": {},
     "output_type": "display_data"
    },
    {
     "data": {
      "text/html": [
       "<style>\n",
       ".list-inline {list-style: none; margin:0; padding: 0}\n",
       ".list-inline>li {display: inline-block}\n",
       ".list-inline>li:not(:last-child)::after {content: \"\\00b7\"; padding: 0 .5ex}\n",
       "</style>\n",
       "<ol class=list-inline><li>335</li><li>9</li></ol>\n"
      ],
      "text/latex": [
       "\\begin{enumerate*}\n",
       "\\item 335\n",
       "\\item 9\n",
       "\\end{enumerate*}\n"
      ],
      "text/markdown": [
       "1. 335\n",
       "2. 9\n",
       "\n",
       "\n"
      ],
      "text/plain": [
       "[1] 335   9"
      ]
     },
     "metadata": {},
     "output_type": "display_data"
    }
   ],
   "source": [
    "#find those that are lower in active compared to controls\n",
    "#and those that are higher in active compared to controls\n",
    "higher_in_active_proteins <- filter(significant_adjusted_linear_modeling_results,significant_adjusted_linear_modeling_results$fold_change > 0)\n",
    "dim(higher_in_active_proteins)\n",
    "write.csv(higher_in_active_proteins,\"../../analysis/linear_modeling_active_and_controls/higher_in_active_proteins.csv\",row.names=FALSE)\n",
    "\n",
    "lower_in_active_proteins <- filter(significant_adjusted_linear_modeling_results,significant_adjusted_linear_modeling_results$fold_change < 0)\n",
    "dim(lower_in_active_proteins)\n",
    "write.csv(lower_in_active_proteins,\"../../analysis/linear_modeling_active_and_controls/lower_in_active_proteins.csv\",row.names=FALSE)\n"
   ]
  },
  {
   "cell_type": "code",
   "execution_count": null,
   "id": "c3d5cd8a-0e8d-4b05-b78c-c34396043e69",
   "metadata": {},
   "outputs": [],
   "source": []
  }
 ],
 "metadata": {
  "kernelspec": {
   "display_name": "R",
   "language": "R",
   "name": "ir"
  },
  "language_info": {
   "codemirror_mode": "r",
   "file_extension": ".r",
   "mimetype": "text/x-r-source",
   "name": "R",
   "pygments_lexer": "r",
   "version": "4.2.2"
  }
 },
 "nbformat": 4,
 "nbformat_minor": 5
}
